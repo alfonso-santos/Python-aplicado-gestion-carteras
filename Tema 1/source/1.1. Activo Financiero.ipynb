{
 "cells": [
  {
   "cell_type": "markdown",
   "id": "8b42b065",
   "metadata": {},
   "source": [
    "# Incertidumbre\n",
    "\n",
    "Asumimos que en un año se pueden tener dos estados diferentes: \n",
    "- $u$ que representa una mejora\n",
    "- $d$ que representa un empeoramiento\n",
    "\n",
    "Por ejemplo los flujos de caja de un proyecto vienen definidos por una vector \n",
    "$$c_1 \\in \\mathbb{R}^2$$\n",
    "Con dos posibles estados de la naturaleza:\n",
    "$$c_1^u, c_1^d \\in \\mathbb{R}$$\n",
    "\n",
    "Por tanto:\n",
    "$$c_1=\\left(\\begin{array}{crl}\n",
    "c_1^u\\\\\n",
    "c_1^d\n",
    "\\end{array}\\right)$$\n",
    "\n",
    "Matemáticamente recordamos que:\n",
    "$$\\alpha·c_1+\\beta=\\alpha \\left(\\begin{array}{crl}\n",
    "c_1^u\\\\\n",
    "c_1^d\n",
    "\\end{array}\\right)+ \\beta=\\left(\\begin{array}{crl}\n",
    "\\alpha ·c_1^u+ \\beta\\\\\n",
    "\\alpha ·c_1^d+ \\beta\n",
    "\\end{array}\\right) $$\n",
    "\n",
    "Supongamos que ahora tenemos otro vector $d_1$ que representa otro activo:\n",
    "$$\\alpha·c_1+\\beta· d_1=\\left(\\begin{array}{crl}\n",
    "\\alpha ·c_1^u+ \\beta·d_1^u \\\\\n",
    "\\alpha ·c_1^d+ \\beta· d_1^d\n",
    "\\end{array}\\right) $$"
   ]
  },
  {
   "cell_type": "code",
   "execution_count": 72,
   "id": "90b241d8",
   "metadata": {},
   "outputs": [],
   "source": [
    "import numpy as np"
   ]
  },
  {
   "cell_type": "code",
   "execution_count": 73,
   "id": "1c3a0516",
   "metadata": {},
   "outputs": [],
   "source": [
    "c0 = -10\n",
    "c1 = np.array((20, 5))"
   ]
  },
  {
   "cell_type": "code",
   "execution_count": 74,
   "id": "b3c27248",
   "metadata": {},
   "outputs": [
    {
     "data": {
      "text/plain": [
       "numpy.ndarray"
      ]
     },
     "execution_count": 74,
     "metadata": {},
     "output_type": "execute_result"
    }
   ],
   "source": [
    "type(c1)"
   ]
  },
  {
   "cell_type": "code",
   "execution_count": 75,
   "id": "9ab5f5bc",
   "metadata": {},
   "outputs": [
    {
     "data": {
      "text/plain": [
       "array([20,  5])"
      ]
     },
     "execution_count": 75,
     "metadata": {},
     "output_type": "execute_result"
    }
   ],
   "source": [
    "c1"
   ]
  },
  {
   "cell_type": "code",
   "execution_count": 76,
   "id": "7a836247",
   "metadata": {},
   "outputs": [],
   "source": [
    "c = (c0, c1)"
   ]
  },
  {
   "cell_type": "code",
   "execution_count": 77,
   "id": "8cce6945",
   "metadata": {},
   "outputs": [
    {
     "data": {
      "text/plain": [
       "(-10, array([20,  5]))"
      ]
     },
     "execution_count": 77,
     "metadata": {},
     "output_type": "execute_result"
    }
   ],
   "source": [
    "c"
   ]
  },
  {
   "cell_type": "code",
   "execution_count": 78,
   "id": "58b717af",
   "metadata": {},
   "outputs": [
    {
     "data": {
      "text/plain": [
       "array([32. ,  9.5])"
      ]
     },
     "execution_count": 78,
     "metadata": {},
     "output_type": "execute_result"
    }
   ],
   "source": [
    "1.5 * c1 + 2"
   ]
  },
  {
   "cell_type": "code",
   "execution_count": 79,
   "id": "365d94e0",
   "metadata": {},
   "outputs": [
    {
     "data": {
      "text/plain": [
       "array([35., 11.])"
      ]
     },
     "execution_count": 79,
     "metadata": {},
     "output_type": "execute_result"
    }
   ],
   "source": [
    "c1 + 1.5 * np.array((10, 4))"
   ]
  },
  {
   "cell_type": "markdown",
   "id": "c2941f25",
   "metadata": {},
   "source": [
    "# Activo Financiero\n",
    "\n",
    "El precio actual es $S_0 \\in \\mathbb{R}$. Suponemos que sólo puede tener dos precios transcurrido un periodo $S_1^u, S_1^d \\in \\mathbb{R}$ con  $S_1^u > S_1^d$. La evolución del precio de una activo financiero viene definida por $S: \\mathbb{N}_0 \\times \\rightarrow \\mathbb{R}_{\\geq 0}$ representa la reacción temporal del activo ante los posibles estados de la economía."
   ]
  },
  {
   "cell_type": "code",
   "execution_count": 80,
   "id": "20af070b",
   "metadata": {},
   "outputs": [
    {
     "data": {
      "text/plain": [
       "(10, array([12.5,  7.5]))"
      ]
     },
     "execution_count": 80,
     "metadata": {},
     "output_type": "execute_result"
    }
   ],
   "source": [
    "S0 = 10\n",
    "S1 = np.array((12.5, 7.5))\n",
    "S = (S0, S1)\n",
    "S"
   ]
  },
  {
   "cell_type": "code",
   "execution_count": 81,
   "id": "2036a10f",
   "metadata": {},
   "outputs": [
    {
     "data": {
      "text/plain": [
       "10"
      ]
     },
     "execution_count": 81,
     "metadata": {},
     "output_type": "execute_result"
    }
   ],
   "source": [
    "S[0]"
   ]
  },
  {
   "cell_type": "code",
   "execution_count": 82,
   "id": "21ea5787",
   "metadata": {},
   "outputs": [
    {
     "data": {
      "text/plain": [
       "12.5"
      ]
     },
     "execution_count": 82,
     "metadata": {},
     "output_type": "execute_result"
    }
   ],
   "source": [
    "S[1][0]"
   ]
  },
  {
   "cell_type": "markdown",
   "id": "0edbe453",
   "metadata": {},
   "source": [
    "# Riesgo\n",
    "\n",
    "Podemos asignar a cada estado de la naturaleza una probabilidad de ocurrencia $p\\in \\mathbb{R}_{\\geq 0}$ con $0\\leq p \\leq 1$\n",
    "\n",
    "## Medida de probabilidad\n",
    "\n",
    "La medida de probabilidad es una función $P :\\wp (\\{u,d\\}) \\leftarrow \\mathbb{R}_{\\geq 0}$ asignando todos los elementos del conjunto de potencias de $\\{u,d\\}$ al intervalo unitario. En este caso, el conjunto de potencias engloba todos los sucesos físicamente posibles.\n",
    "\n",
    "En este contexto el conjunto $\\{u,d\\}$ también se denomina espacio de estados y se simboliza mediante $\\Omega$. La tripleta $(\\Omega, \\wp (\\Omega), P)$ define el espacio probabilístico.\n",
    "\n",
    "Para que una función $P$ se pueda considerar una medida de probabilidad debe cumplir tres condiciones:\n",
    "1. $P(\\emptyset)=0$\n",
    "2. $0\\leq P(\\omega),\\omega \\in \\Omega \\leq 1$\n",
    "3. $P(\\Omega)=P(u)+P(d)=1$\n",
    "\n",
    "En un modelo simple de dos estados posibles es conveniente $P(u)=p$ y que $P(d)=1-p$. Con ello estamos definiendo una economía con riesgo"
   ]
  },
  {
   "cell_type": "code",
   "execution_count": 83,
   "id": "fd77ec1f",
   "metadata": {},
   "outputs": [
    {
     "data": {
      "text/plain": [
       "array([0.4, 0.6])"
      ]
     },
     "execution_count": 83,
     "metadata": {},
     "output_type": "execute_result"
    }
   ],
   "source": [
    "p=0.4\n",
    "P=np.array((p,1-p))\n",
    "P"
   ]
  },
  {
   "cell_type": "markdown",
   "id": "f2bc87db",
   "metadata": {},
   "source": [
    "## Expectativas\n",
    "\n",
    "Basado en una medida de la probabilidad  las expectativas de una cantidad incierta puede ser estimada.\n",
    "\n",
    "Disponemos de un activo financiero con un proceso de precios $S=(S_0, S_1)$. Las expectativas sobre el precio incierto $P_1$ con una función de probabilidad $P$.\n",
    "$$\\textbf{E}^P(S_1)=\\sum_{\\omega \\in \\Omega}P(\\omega)·S_1^\\omega=p·S_1^u+(1-p)S_1^d$$\n",
    "\n",
    "Si $S_1=(20,5)^T$ y $p=0.4$:\n",
    "\n",
    "$$\\textbf{E}^P(S_1)=0.4·20+(1-0.4)·5=11$$\n",
    "\n",
    "Matricialmente $P=(p,1-p)^T$ y $S_1=(S_1^u,S_1^d)^T$ las expectativas son:\n",
    "$$\\textbf{E}^P(S_1)=(P,S_1)=\\left(\\left( \\begin{array}{crl}p \\\\ 1-p \\end{array}\\right),\\left( \\begin{array}{crl}S_1^u \\\\ S_1^d \\end{array}\\right)\\right)=p·S_1^u+(1-p)·S_1^d$$\n"
   ]
  },
  {
   "cell_type": "code",
   "execution_count": 111,
   "id": "8eea20bd",
   "metadata": {},
   "outputs": [
    {
     "data": {
      "text/plain": [
       "array([0.4, 0.6])"
      ]
     },
     "execution_count": 111,
     "metadata": {},
     "output_type": "execute_result"
    }
   ],
   "source": [
    "P"
   ]
  },
  {
   "cell_type": "code",
   "execution_count": 85,
   "id": "39351910",
   "metadata": {},
   "outputs": [],
   "source": [
    "S0 = 10\n",
    "S1 = np.array((20, 5))"
   ]
  },
  {
   "cell_type": "code",
   "execution_count": 86,
   "id": "f47d99d9",
   "metadata": {
    "scrolled": true
   },
   "outputs": [
    {
     "data": {
      "text/plain": [
       "11.0"
      ]
     },
     "execution_count": 86,
     "metadata": {},
     "output_type": "execute_result"
    }
   ],
   "source": [
    "np.dot(P, S1)"
   ]
  },
  {
   "cell_type": "markdown",
   "id": "5c75a723",
   "metadata": {},
   "source": [
    "## Rentabilidad Esperada\n",
    "\n",
    "El rendimiento esperado de un activo financiero $R=(R^u, R^d)^T$ podría expresarse del siguiente modo:\n",
    "$$\\begin{align}\n",
    "\\textbf{E}^P(R)&=\\left(\\left( \\begin{array}{crl}p \\\\ 1-p \\end{array}\\right),\\left( \\begin{array}{crl}R^u \\\\ R^d \\end{array}\\right)\\right) \\\\\n",
    "&=\\left(\\left( \\begin{array}{crl}p \\\\ 1-p \\end{array}\\right),\\left( \\begin{array}{crl}S_1^u-S_0 \\\\ S_1^d-S_0 \\end{array}\\right)\\right) \\\\\n",
    "&=p·(S_1^u-S_0)+(1-p)·(S_1^d-S_0) \\\\\n",
    "&= p·S_1^u++(1-p)·S_1^d-S_0 \\\\\n",
    "&= \\textbf{E}^P(S_1)-S_0\n",
    "\\end{align}$$\n",
    "\n",
    "Si lo aplicamos a nuestro ejemplo:\n",
    "\n",
    "$$\\textbf{E}^P(R)=0.4·(20-10)+(1-0.4)·(5-10)=11-10=1$$\n",
    "\n",
    "La rentabilidad esperada la definimos como:\n",
    "\n",
    "$$\\textbf{E}^P(r)=\\frac{\\textbf{E}^P(R)}{S_0}$$\n",
    "\n",
    "La rentabilidad esperada se suele expresar $\\mu=\\textbf{E}^P(r)$"
   ]
  },
  {
   "cell_type": "code",
   "execution_count": 87,
   "id": "1063ace9",
   "metadata": {},
   "outputs": [],
   "source": [
    "def ER(x0, x1):\n",
    "    return np.dot(P, x1) - x0"
   ]
  },
  {
   "cell_type": "code",
   "execution_count": 88,
   "id": "64b5cf70",
   "metadata": {},
   "outputs": [
    {
     "data": {
      "text/plain": [
       "1.0"
      ]
     },
     "execution_count": 88,
     "metadata": {},
     "output_type": "execute_result"
    }
   ],
   "source": [
    "ER(S0, S1)"
   ]
  },
  {
   "cell_type": "code",
   "execution_count": 89,
   "id": "5c1efdb1",
   "metadata": {},
   "outputs": [],
   "source": [
    "def mu(x0, x1):\n",
    "    return (np.dot(P, x1) - x0) / x0"
   ]
  },
  {
   "cell_type": "code",
   "execution_count": 90,
   "id": "29b3f3be",
   "metadata": {},
   "outputs": [
    {
     "data": {
      "text/plain": [
       "0.1"
      ]
     },
     "execution_count": 90,
     "metadata": {},
     "output_type": "execute_result"
    }
   ],
   "source": [
    "mu(S0, S1)"
   ]
  },
  {
   "attachments": {},
   "cell_type": "markdown",
   "id": "aaed8dd4",
   "metadata": {},
   "source": [
    "# GRAFICOS COMPARANDO TIPOS DE ACTIVOS Y LA VARIACIÓN DE LA RENTABILIDAD"
   ]
  },
  {
   "cell_type": "markdown",
   "id": "7d57cd46",
   "metadata": {},
   "source": [
    "## Volatilidad\n",
    "\n",
    "En finanzas todo gira en torno al riesgo y la rentabilidad esperada. El riesgo puede ser medido de distintas maneras pero la volatilidad es la desviación típica de la rentabiliad. Así, la varianza de la rentabilidad será:\n",
    "$$\\begin{align}\n",
    "\\sigma^2(r) &=\\textbf{E}^P \\left(\\left( r-\\mu \\right)\\right) \\\\\n",
    "&=\\left(\\left(\\begin{array}{crl} p \\\\ 1-p \\end{array} \\right),\\left(\\begin{array}{crl} (r^u-\\mu)^2 \\\\ (r^d-\\mu)^2  \\end{array}\\right)\\right)\n",
    "\\end{align}$$\n",
    "\n",
    "Con $R^{\\omega}\\equiv (S_1^\\omega - S_0)/S_0, \\omega \\in \\Omega$. La volatilidad definida como desviación típica de la rentabilidad será:\n",
    "$$\\sigma(r)=\\sqrt{\\sigma^2(r)}$$"
   ]
  },
  {
   "cell_type": "code",
   "execution_count": 91,
   "id": "93a57ae7",
   "metadata": {},
   "outputs": [],
   "source": [
    "def r(x0, x1):\n",
    "    return (x1 - x0) / x0"
   ]
  },
  {
   "cell_type": "code",
   "execution_count": 92,
   "id": "3e20dfc6",
   "metadata": {},
   "outputs": [
    {
     "data": {
      "text/plain": [
       "array([ 1. , -0.5])"
      ]
     },
     "execution_count": 92,
     "metadata": {},
     "output_type": "execute_result"
    }
   ],
   "source": [
    "r(S0, S1)"
   ]
  },
  {
   "cell_type": "code",
   "execution_count": 93,
   "id": "e0bd129c",
   "metadata": {},
   "outputs": [
    {
     "data": {
      "text/plain": [
       "0.10000000000000003"
      ]
     },
     "execution_count": 93,
     "metadata": {},
     "output_type": "execute_result"
    }
   ],
   "source": [
    "mu = np.dot(P, r(S0, S1))\n",
    "mu"
   ]
  },
  {
   "cell_type": "code",
   "execution_count": 94,
   "id": "47917ea3",
   "metadata": {},
   "outputs": [],
   "source": [
    "def sigma2(P, r, mu):\n",
    "    return np.dot(P, (r - mu) ** 2)"
   ]
  },
  {
   "cell_type": "code",
   "execution_count": 95,
   "id": "8537af7b",
   "metadata": {},
   "outputs": [
    {
     "data": {
      "text/plain": [
       "0.54"
      ]
     },
     "execution_count": 95,
     "metadata": {},
     "output_type": "execute_result"
    }
   ],
   "source": [
    "sigma2(P, r(S0, S1), mu)"
   ]
  },
  {
   "cell_type": "code",
   "execution_count": 96,
   "id": "9e44d1d5",
   "metadata": {},
   "outputs": [],
   "source": [
    "def sigma(P, r, mu):\n",
    "    return np.sqrt(np.dot(P, (r - mu) ** 2))"
   ]
  },
  {
   "cell_type": "code",
   "execution_count": 97,
   "id": "b42c68a2",
   "metadata": {},
   "outputs": [
    {
     "data": {
      "text/plain": [
       "0.7348469228349535"
      ]
     },
     "execution_count": 97,
     "metadata": {},
     "output_type": "execute_result"
    }
   ],
   "source": [
    "sigma(P, r(S0, S1), mu)"
   ]
  }
 ],
 "metadata": {
  "kernelspec": {
   "display_name": "Python 3 (ipykernel)",
   "language": "python",
   "name": "python3"
  },
  "language_info": {
   "codemirror_mode": {
    "name": "ipython",
    "version": 3
   },
   "file_extension": ".py",
   "mimetype": "text/x-python",
   "name": "python",
   "nbconvert_exporter": "python",
   "pygments_lexer": "ipython3",
   "version": "3.9.13"
  }
 },
 "nbformat": 4,
 "nbformat_minor": 5
}
