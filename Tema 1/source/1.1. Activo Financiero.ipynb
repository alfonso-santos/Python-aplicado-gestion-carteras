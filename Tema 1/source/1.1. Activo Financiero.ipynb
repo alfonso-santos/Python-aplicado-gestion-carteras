{
 "cells": [
  {
   "cell_type": "markdown",
   "id": "8b42b065",
   "metadata": {},
   "source": [
    "# Incertidumbre\n",
    "\n",
    "Asumimos que en un año se pueden tener dos estados diferentes: \n",
    "- $u$ que representa una mejora\n",
    "- $d$ que representa un empeoramiento\n",
    "\n",
    "Por ejemplo los flujos de caja de un proyecto vienen definidos por una vector \n",
    "$$c_1 \\in \\mathbb{R}^2$$\n",
    "Con dos posibles estados de la naturaleza:\n",
    "$$c_1^u, c_1^d \\in \\mathbb{R}$$\n",
    "\n",
    "Por tanto:\n",
    "$$c_1=\\left(\\begin{array}{crl}\n",
    "c_1^u\\\\\n",
    "c_1^d\n",
    "\\end{array}\\right)$$\n",
    "\n",
    "Matemáticamente recordamos que:\n",
    "$$\\alpha·c_1+\\beta=\\alpha \\left(\\begin{array}{crl}\n",
    "c_1^u\\\\\n",
    "c_1^d\n",
    "\\end{array}\\right)+ \\beta=\\left(\\begin{array}{crl}\n",
    "\\alpha ·c_1^u+ \\beta\\\\\n",
    "\\alpha ·c_1^d+ \\beta\n",
    "\\end{array}\\right) $$\n",
    "\n",
    "Supongamos que ahora tenemos otro vector $d_1$ que representa otro activo:\n",
    "$$\\alpha·c_1+\\beta· d_1=\\left(\\begin{array}{crl}\n",
    "\\alpha ·c_1^u+ \\beta·d_1^u \\\\\n",
    "\\alpha ·c_1^d+ \\beta· d_1^d\n",
    "\\end{array}\\right) $$"
   ]
  },
  {
   "cell_type": "code",
   "execution_count": 72,
   "id": "90b241d8",
   "metadata": {},
   "outputs": [],
   "source": [
    "import numpy as np"
   ]
  },
  {
   "cell_type": "code",
   "execution_count": 73,
   "id": "1c3a0516",
   "metadata": {},
   "outputs": [],
   "source": [
    "c0 = -10\n",
    "c1 = np.array((20, 5))"
   ]
  },
  {
   "cell_type": "code",
   "execution_count": 74,
   "id": "b3c27248",
   "metadata": {},
   "outputs": [
    {
     "data": {
      "text/plain": [
       "numpy.ndarray"
      ]
     },
     "execution_count": 74,
     "metadata": {},
     "output_type": "execute_result"
    }
   ],
   "source": [
    "type(c1)"
   ]
  },
  {
   "cell_type": "code",
   "execution_count": 75,
   "id": "9ab5f5bc",
   "metadata": {},
   "outputs": [
    {
     "data": {
      "text/plain": [
       "array([20,  5])"
      ]
     },
     "execution_count": 75,
     "metadata": {},
     "output_type": "execute_result"
    }
   ],
   "source": [
    "c1"
   ]
  },
  {
   "cell_type": "code",
   "execution_count": 76,
   "id": "7a836247",
   "metadata": {},
   "outputs": [],
   "source": [
    "c = (c0, c1)"
   ]
  },
  {
   "cell_type": "code",
   "execution_count": 77,
   "id": "8cce6945",
   "metadata": {},
   "outputs": [
    {
     "data": {
      "text/plain": [
       "(-10, array([20,  5]))"
      ]
     },
     "execution_count": 77,
     "metadata": {},
     "output_type": "execute_result"
    }
   ],
   "source": [
    "c"
   ]
  },
  {
   "cell_type": "code",
   "execution_count": 78,
   "id": "58b717af",
   "metadata": {},
   "outputs": [
    {
     "data": {
      "text/plain": [
       "array([32. ,  9.5])"
      ]
     },
     "execution_count": 78,
     "metadata": {},
     "output_type": "execute_result"
    }
   ],
   "source": [
    "1.5 * c1 + 2"
   ]
  },
  {
   "cell_type": "code",
   "execution_count": 79,
   "id": "365d94e0",
   "metadata": {},
   "outputs": [
    {
     "data": {
      "text/plain": [
       "array([35., 11.])"
      ]
     },
     "execution_count": 79,
     "metadata": {},
     "output_type": "execute_result"
    }
   ],
   "source": [
    "c1 + 1.5 * np.array((10, 4))"
   ]
  },
  {
   "cell_type": "markdown",
   "id": "c2941f25",
   "metadata": {},
   "source": [
    "# Activo Financiero\n",
    "\n",
    "El precio actual es $S_0 \\in \\mathbb{R}$. Suponemos que sólo puede tener dos precios transcurrido un periodo $S_1^u, S_1^d \\in \\mathbb{R}$ con  $S_1^u > S_1^d$. La evolución del precio de una activo financiero viene definida por $S: \\mathbb{N}_0 \\times \\rightarrow \\mathbb{R}_{\\geq 0}$ representa la reacción temporal del activo ante los posibles estados de la economía."
   ]
  },
  {
   "cell_type": "code",
   "execution_count": 80,
   "id": "20af070b",
   "metadata": {},
   "outputs": [
    {
     "data": {
      "text/plain": [
       "(10, array([12.5,  7.5]))"
      ]
     },
     "execution_count": 80,
     "metadata": {},
     "output_type": "execute_result"
    }
   ],
   "source": [
    "S0 = 10\n",
    "S1 = np.array((12.5, 7.5))\n",
    "S = (S0, S1)\n",
    "S"
   ]
  },
  {
   "cell_type": "code",
   "execution_count": 81,
   "id": "2036a10f",
   "metadata": {},
   "outputs": [
    {
     "data": {
      "text/plain": [
       "10"
      ]
     },
     "execution_count": 81,
     "metadata": {},
     "output_type": "execute_result"
    }
   ],
   "source": [
    "S[0]"
   ]
  },
  {
   "cell_type": "code",
   "execution_count": 82,
   "id": "21ea5787",
   "metadata": {},
   "outputs": [
    {
     "data": {
      "text/plain": [
       "12.5"
      ]
     },
     "execution_count": 82,
     "metadata": {},
     "output_type": "execute_result"
    }
   ],
   "source": [
    "S[1][0]"
   ]
  },
  {
   "cell_type": "markdown",
   "id": "0edbe453",
   "metadata": {},
   "source": [
    "# Riesgo\n",
    "\n",
    "Podemos asignar a cada estado de la naturaleza una probabilidad de ocurrencia $p\\in \\mathbb{R}_{\\geq 0}$ con $0\\leq p \\leq 1$\n",
    "\n",
    "## Medida de probabilidad\n",
    "\n",
    "La medida de probabilidad es una función $P :\\wp (\\{u,d\\}) \\leftarrow \\mathbb{R}_{\\geq 0}$ asignando todos los elementos del conjunto de potencias de $\\{u,d\\}$ al intervalo unitario. En este caso, el conjunto de potencias engloba todos los sucesos físicamente posibles.\n",
    "\n",
    "En este contexto el conjunto $\\{u,d\\}$ también se denomina espacio de estados y se simboliza mediante $\\Omega$. La tripleta $(\\Omega, \\wp (\\Omega), P)$ define el espacio probabilístico.\n",
    "\n",
    "Para que una función $P$ se pueda considerar una medida de probabilidad debe cumplir tres condiciones:\n",
    "1. $P(\\emptyset)=0$\n",
    "2. $0\\leq P(\\omega),\\omega \\in \\Omega \\leq 1$\n",
    "3. $P(\\Omega)=P(u)+P(d)=1$\n",
    "\n",
    "En un modelo simple de dos estados posibles es conveniente $P(u)=p$ y que $P(d)=1-p$. Con ello estamos definiendo una economía con riesgo"
   ]
  },
  {
   "cell_type": "code",
   "execution_count": 83,
   "id": "fd77ec1f",
   "metadata": {},
   "outputs": [
    {
     "data": {
      "text/plain": [
       "array([0.4, 0.6])"
      ]
     },
     "execution_count": 83,
     "metadata": {},
     "output_type": "execute_result"
    }
   ],
   "source": [
    "p=0.4\n",
    "P=np.array((p,1-p))\n",
    "P"
   ]
  },
  {
   "cell_type": "markdown",
   "id": "f2bc87db",
   "metadata": {},
   "source": [
    "## Expectativas\n",
    "\n",
    "Basado en una medida de la probabilidad  las expectativas de una cantidad incierta puede ser estimada.\n",
    "\n",
    "Disponemos de un activo financiero con un proceso de precios $S=(S_0, S_1)$. Las expectativas sobre el precio incierto $P_1$ con una función de probabilidad $P$.\n",
    "$$\\textbf{E}^P(S_1)=\\sum_{\\omega \\in \\Omega}P(\\omega)·S_1^\\omega=p·S_1^u+(1-p)S_1^d$$\n",
    "\n",
    "Si $S_1=(20,5)^T$ y $p=0.4$:\n",
    "\n",
    "$$\\textbf{E}^P(S_1)=0.4·20+(1-0.4)·5=11$$\n",
    "\n",
    "Matricialmente $P=(p,1-p)^T$ y $S_1=(S_1^u,S_1^d)^T$ las expectativas son:\n",
    "$$\\textbf{E}^P(S_1)=(P,S_1)=\\left(\\left( \\begin{array}{crl}p \\\\ 1-p \\end{array}\\right),\\left( \\begin{array}{crl}S_1^u \\\\ S_1^d \\end{array}\\right)\\right)=p·S_1^u+(1-p)·S_1^d$$\n"
   ]
  },
  {
   "cell_type": "code",
   "execution_count": 111,
   "id": "8eea20bd",
   "metadata": {},
   "outputs": [
    {
     "data": {
      "text/plain": [
       "array([0.4, 0.6])"
      ]
     },
     "execution_count": 111,
     "metadata": {},
     "output_type": "execute_result"
    }
   ],
   "source": [
    "P"
   ]
  },
  {
   "cell_type": "code",
   "execution_count": 85,
   "id": "39351910",
   "metadata": {},
   "outputs": [],
   "source": [
    "S0 = 10\n",
    "S1 = np.array((20, 5))"
   ]
  },
  {
   "cell_type": "code",
   "execution_count": 86,
   "id": "f47d99d9",
   "metadata": {
    "scrolled": true
   },
   "outputs": [
    {
     "data": {
      "text/plain": [
       "11.0"
      ]
     },
     "execution_count": 86,
     "metadata": {},
     "output_type": "execute_result"
    }
   ],
   "source": [
    "np.dot(P, S1)"
   ]
  },
  {
   "cell_type": "markdown",
   "id": "5c75a723",
   "metadata": {},
   "source": [
    "## Rentabilidad Esperada\n",
    "\n",
    "El rendimiento esperado de un activo financiero $R=(R^u, R^d)^T$ podría expresarse del siguiente modo:\n",
    "$$\\begin{align}\n",
    "\\textbf{E}^P(R)&=\\left(\\left( \\begin{array}{crl}p \\\\ 1-p \\end{array}\\right),\\left( \\begin{array}{crl}R^u \\\\ R^d \\end{array}\\right)\\right) \\\\\n",
    "&=\\left(\\left( \\begin{array}{crl}p \\\\ 1-p \\end{array}\\right),\\left( \\begin{array}{crl}S_1^u-S_0 \\\\ S_1^d-S_0 \\end{array}\\right)\\right) \\\\\n",
    "&=p·(S_1^u-S_0)+(1-p)·(S_1^d-S_0) \\\\\n",
    "&= p·S_1^u++(1-p)·S_1^d-S_0 \\\\\n",
    "&= \\textbf{E}^P(S_1)-S_0\n",
    "\\end{align}$$\n",
    "\n",
    "Si lo aplicamos a nuestro ejemplo:\n",
    "\n",
    "$$\\textbf{E}^P(R)=0.4·(20-10)+(1-0.4)·(5-10)=11-10=1$$\n",
    "\n",
    "La rentabilidad esperada la definimos como:\n",
    "\n",
    "$$\\textbf{E}^P(r)=\\frac{\\textbf{E}^P(R)}{S_0}$$\n",
    "\n",
    "La rentabilidad esperada se suele expresar $\\mu=\\textbf{E}^P(r)$"
   ]
  },
  {
   "cell_type": "code",
   "execution_count": 87,
   "id": "1063ace9",
   "metadata": {},
   "outputs": [],
   "source": [
    "def ER(x0, x1):\n",
    "    return np.dot(P, x1) - x0"
   ]
  },
  {
   "cell_type": "code",
   "execution_count": 88,
   "id": "64b5cf70",
   "metadata": {},
   "outputs": [
    {
     "data": {
      "text/plain": [
       "1.0"
      ]
     },
     "execution_count": 88,
     "metadata": {},
     "output_type": "execute_result"
    }
   ],
   "source": [
    "ER(S0, S1)"
   ]
  },
  {
   "cell_type": "code",
   "execution_count": 89,
   "id": "5c1efdb1",
   "metadata": {},
   "outputs": [],
   "source": [
    "def mu(x0, x1):\n",
    "    return (np.dot(P, x1) - x0) / x0"
   ]
  },
  {
   "cell_type": "code",
   "execution_count": 90,
   "id": "29b3f3be",
   "metadata": {},
   "outputs": [
    {
     "data": {
      "text/plain": [
       "0.1"
      ]
     },
     "execution_count": 90,
     "metadata": {},
     "output_type": "execute_result"
    }
   ],
   "source": [
    "mu(S0, S1)"
   ]
  },
  {
   "cell_type": "markdown",
   "id": "7d57cd46",
   "metadata": {},
   "source": [
    "## Volatilidad\n",
    "\n",
    "En finanzas todo gira en torno al riesgo y la rentabilidad esperada. El riesgo puede ser medido de distintas maneras pero la volatilidad es la desviación típica de la rentabiliad. Así, la varianza de la rentabilidad será:\n",
    "$$\\begin{align}\n",
    "\\sigma^2(r) &=\\textbf{E}^P \\left(\\left( r-\\mu \\right)\\right) \\\\\n",
    "&=\\left(\\left(\\begin{array}{crl} p \\\\ 1-p \\end{array} \\right),\\left(\\begin{array}{crl} (r^u-\\mu)^2 \\\\ (r^d-\\mu)^2  \\end{array}\\right)\\right)\n",
    "\\end{align}$$\n",
    "\n",
    "Con $R^{\\omega}\\equiv (S_1^\\omega - S_0)/S_0, \\omega \\in \\Omega$. La volatilidad definida como desviación típica de la rentabilidad será:\n",
    "$$\\sigma(r)=\\sqrt{\\sigma^2(r)}$$"
   ]
  },
  {
   "cell_type": "code",
   "execution_count": 91,
   "id": "93a57ae7",
   "metadata": {},
   "outputs": [],
   "source": [
    "def r(x0, x1):\n",
    "    return (x1 - x0) / x0"
   ]
  },
  {
   "cell_type": "code",
   "execution_count": 92,
   "id": "3e20dfc6",
   "metadata": {},
   "outputs": [
    {
     "data": {
      "text/plain": [
       "array([ 1. , -0.5])"
      ]
     },
     "execution_count": 92,
     "metadata": {},
     "output_type": "execute_result"
    }
   ],
   "source": [
    "r(S0, S1)"
   ]
  },
  {
   "cell_type": "code",
   "execution_count": 93,
   "id": "e0bd129c",
   "metadata": {},
   "outputs": [
    {
     "data": {
      "text/plain": [
       "0.10000000000000003"
      ]
     },
     "execution_count": 93,
     "metadata": {},
     "output_type": "execute_result"
    }
   ],
   "source": [
    "mu = np.dot(P, r(S0, S1))\n",
    "mu"
   ]
  },
  {
   "cell_type": "code",
   "execution_count": 94,
   "id": "47917ea3",
   "metadata": {},
   "outputs": [],
   "source": [
    "def sigma2(P, r, mu):\n",
    "    return np.dot(P, (r - mu) ** 2)"
   ]
  },
  {
   "cell_type": "code",
   "execution_count": 95,
   "id": "8537af7b",
   "metadata": {},
   "outputs": [
    {
     "data": {
      "text/plain": [
       "0.54"
      ]
     },
     "execution_count": 95,
     "metadata": {},
     "output_type": "execute_result"
    }
   ],
   "source": [
    "sigma2(P, r(S0, S1), mu)"
   ]
  },
  {
   "cell_type": "code",
   "execution_count": 96,
   "id": "9e44d1d5",
   "metadata": {},
   "outputs": [],
   "source": [
    "def sigma(P, r, mu):\n",
    "    return np.sqrt(np.dot(P, (r - mu) ** 2))"
   ]
  },
  {
   "cell_type": "code",
   "execution_count": 97,
   "id": "b42c68a2",
   "metadata": {},
   "outputs": [
    {
     "data": {
      "text/plain": [
       "0.7348469228349535"
      ]
     },
     "execution_count": 97,
     "metadata": {},
     "output_type": "execute_result"
    }
   ],
   "source": [
    "sigma(P, r(S0, S1), mu)"
   ]
  },
  {
   "cell_type": "markdown",
   "id": "d62ed602",
   "metadata": {},
   "source": [
    "# Derecho Contingente \n",
    "\n",
    "Supongamos ahora que en la economía se comercia con un derecho contingente. Se trata de un activo financiero -formalizado por algún contrato- que ofrece un pago contingente con el estado dentro de un año. Un derecho contingente de este tipo puede tener una remuneración contingente arbitraria o derivada de la remuneración de otros activos financieros. En este último caso, se suele hablar de activos derivados o instrumentos derivados. Formalizamos el derecho contingente $C_1:\\Omega \\rightarrow \\mathbb{R}_{\\geq 0}, \\omega \\rightarrow C_1(\\omega)$ asingamos los acontecimientos números.\n",
    "\n",
    "Supongamos que la economía tenemos dos activos un bono sin riesgo con el siguiente proceso de precios $B=(B_0,B_1)$ y una acción $S=\\left(S_0, (S_1^u,S_1^d)^T\\right)$\n",
    "\n",
    "Una opción de compra con precio de ejercicio $K$ genera la siguiente renta en un año:\n",
    "\n",
    "$$C_1(S_1(\\omega))=max(S_1(\\omega)-K;0)$$\n",
    "\n",
    "\n",
    "\n",
    "\n",
    "\n"
   ]
  },
  {
   "cell_type": "code",
   "execution_count": 98,
   "id": "33f0c0e1",
   "metadata": {},
   "outputs": [
    {
     "data": {
      "text/plain": [
       "array([0, 1, 2, 3, 4, 5, 6])"
      ]
     },
     "execution_count": 98,
     "metadata": {},
     "output_type": "execute_result"
    }
   ],
   "source": [
    "S1 = np.arange(20)\n",
    "S1[:7]"
   ]
  },
  {
   "cell_type": "code",
   "execution_count": 99,
   "id": "3053014b",
   "metadata": {},
   "outputs": [
    {
     "data": {
      "text/plain": [
       "array([0, 0, 0, 0, 0, 0, 0, 0, 0, 0, 0, 1, 2, 3, 4, 5, 6, 7, 8, 9])"
      ]
     },
     "execution_count": 99,
     "metadata": {},
     "output_type": "execute_result"
    }
   ],
   "source": [
    "K = 10\n",
    "C1 = np.maximum(S1 - K, 0)\n",
    "C1"
   ]
  },
  {
   "cell_type": "code",
   "execution_count": 100,
   "id": "79e6b344",
   "metadata": {},
   "outputs": [],
   "source": [
    "from pylab import mpl, plt\n",
    "# plotting configuration\n",
    "plt.style.use('seaborn')\n",
    "mpl.rcParams['font.family'] = 'serif'\n",
    "%config InlineBackend.figure_formats = ['svg']"
   ]
  },
  {
   "cell_type": "code",
   "execution_count": 101,
   "id": "92e00373",
   "metadata": {},
   "outputs": [
    {
     "data": {
      "image/svg+xml": [
       "<?xml version=\"1.0\" encoding=\"utf-8\" standalone=\"no\"?>\n",
       "<!DOCTYPE svg PUBLIC \"-//W3C//DTD SVG 1.1//EN\"\n",
       "  \"http://www.w3.org/Graphics/SVG/1.1/DTD/svg11.dtd\">\n",
       "<svg xmlns:xlink=\"http://www.w3.org/1999/xlink\" width=\"600.408437pt\" height=\"378.364062pt\" viewBox=\"0 0 600.408437 378.364062\" xmlns=\"http://www.w3.org/2000/svg\" version=\"1.1\">\n",
       " <metadata>\n",
       "  <rdf:RDF xmlns:dc=\"http://purl.org/dc/elements/1.1/\" xmlns:cc=\"http://creativecommons.org/ns#\" xmlns:rdf=\"http://www.w3.org/1999/02/22-rdf-syntax-ns#\">\n",
       "   <cc:Work>\n",
       "    <dc:type rdf:resource=\"http://purl.org/dc/dcmitype/StillImage\"/>\n",
       "    <dc:date>2023-11-02T18:23:47.718707</dc:date>\n",
       "    <dc:format>image/svg+xml</dc:format>\n",
       "    <dc:creator>\n",
       "     <cc:Agent>\n",
       "      <dc:title>Matplotlib v3.5.2, https://matplotlib.org/</dc:title>\n",
       "     </cc:Agent>\n",
       "    </dc:creator>\n",
       "   </cc:Work>\n",
       "  </rdf:RDF>\n",
       " </metadata>\n",
       " <defs>\n",
       "  <style type=\"text/css\">*{stroke-linejoin: round; stroke-linecap: butt}</style>\n",
       " </defs>\n",
       " <g id=\"figure_1\">\n",
       "  <g id=\"patch_1\">\n",
       "   <path d=\"M -0 378.364062 \n",
       "L 600.408437 378.364062 \n",
       "L 600.408437 0 \n",
       "L -0 0 \n",
       "z\n",
       "\" style=\"fill: #ffffff\"/>\n",
       "  </g>\n",
       "  <g id=\"axes_1\">\n",
       "   <g id=\"patch_2\">\n",
       "    <path d=\"M 35.208438 339.84 \n",
       "L 593.208437 339.84 \n",
       "L 593.208437 7.2 \n",
       "L 35.208438 7.2 \n",
       "z\n",
       "\" style=\"fill: #eaeaf2\"/>\n",
       "   </g>\n",
       "   <g id=\"matplotlib.axis_1\">\n",
       "    <g id=\"xtick_1\">\n",
       "     <g id=\"line2d_1\">\n",
       "      <path d=\"M 60.572074 339.84 \n",
       "L 60.572074 7.2 \n",
       "\" clip-path=\"url(#p32b8e745ac)\" style=\"fill: none; stroke: #ffffff; stroke-linecap: round\"/>\n",
       "     </g>\n",
       "     <g id=\"line2d_2\"/>\n",
       "     <g id=\"text_1\">\n",
       "      <!-- 0.0 -->\n",
       "      <g style=\"fill: #262626\" transform=\"translate(52.620511 354.438437)scale(0.1 -0.1)\">\n",
       "       <defs>\n",
       "        <path id=\"DejaVuSerif-30\" d=\"M 2034 219 \n",
       "Q 2513 219 2750 744 \n",
       "Q 2988 1269 2988 2328 \n",
       "Q 2988 3391 2750 3916 \n",
       "Q 2513 4441 2034 4441 \n",
       "Q 1556 4441 1318 3916 \n",
       "Q 1081 3391 1081 2328 \n",
       "Q 1081 1269 1318 744 \n",
       "Q 1556 219 2034 219 \n",
       "z\n",
       "M 2034 -91 \n",
       "Q 1275 -91 848 546 \n",
       "Q 422 1184 422 2328 \n",
       "Q 422 3475 848 4112 \n",
       "Q 1275 4750 2034 4750 \n",
       "Q 2797 4750 3222 4112 \n",
       "Q 3647 3475 3647 2328 \n",
       "Q 3647 1184 3222 546 \n",
       "Q 2797 -91 2034 -91 \n",
       "z\n",
       "\" transform=\"scale(0.015625)\"/>\n",
       "        <path id=\"DejaVuSerif-2e\" d=\"M 603 325 \n",
       "Q 603 500 722 622 \n",
       "Q 841 744 1019 744 \n",
       "Q 1191 744 1312 622 \n",
       "Q 1434 500 1434 325 \n",
       "Q 1434 153 1312 31 \n",
       "Q 1191 -91 1019 -91 \n",
       "Q 841 -91 722 29 \n",
       "Q 603 150 603 325 \n",
       "z\n",
       "\" transform=\"scale(0.015625)\"/>\n",
       "       </defs>\n",
       "       <use xlink:href=\"#DejaVuSerif-30\"/>\n",
       "       <use xlink:href=\"#DejaVuSerif-2e\" x=\"63.623047\"/>\n",
       "       <use xlink:href=\"#DejaVuSerif-30\" x=\"95.410156\"/>\n",
       "      </g>\n",
       "     </g>\n",
       "    </g>\n",
       "    <g id=\"xtick_2\">\n",
       "     <g id=\"line2d_3\">\n",
       "      <path d=\"M 127.318485 339.84 \n",
       "L 127.318485 7.2 \n",
       "\" clip-path=\"url(#p32b8e745ac)\" style=\"fill: none; stroke: #ffffff; stroke-linecap: round\"/>\n",
       "     </g>\n",
       "     <g id=\"line2d_4\"/>\n",
       "     <g id=\"text_2\">\n",
       "      <!-- 2.5 -->\n",
       "      <g style=\"fill: #262626\" transform=\"translate(119.366923 354.438437)scale(0.1 -0.1)\">\n",
       "       <defs>\n",
       "        <path id=\"DejaVuSerif-32\" d=\"M 819 3553 \n",
       "L 469 3553 \n",
       "L 469 4384 \n",
       "Q 803 4563 1142 4656 \n",
       "Q 1481 4750 1806 4750 \n",
       "Q 2534 4750 2956 4397 \n",
       "Q 3378 4044 3378 3438 \n",
       "Q 3378 2753 2422 1800 \n",
       "Q 2347 1728 2309 1691 \n",
       "L 1131 513 \n",
       "L 3078 513 \n",
       "L 3078 1088 \n",
       "L 3444 1088 \n",
       "L 3444 0 \n",
       "L 434 0 \n",
       "L 434 341 \n",
       "L 1850 1753 \n",
       "Q 2319 2222 2519 2614 \n",
       "Q 2719 3006 2719 3438 \n",
       "Q 2719 3909 2473 4175 \n",
       "Q 2228 4441 1797 4441 \n",
       "Q 1350 4441 1106 4219 \n",
       "Q 863 3997 819 3553 \n",
       "z\n",
       "\" transform=\"scale(0.015625)\"/>\n",
       "        <path id=\"DejaVuSerif-35\" d=\"M 3219 4666 \n",
       "L 3219 4153 \n",
       "L 1081 4153 \n",
       "L 1081 2816 \n",
       "Q 1244 2928 1461 2984 \n",
       "Q 1678 3041 1947 3041 \n",
       "Q 2703 3041 3140 2622 \n",
       "Q 3578 2203 3578 1478 \n",
       "Q 3578 738 3136 323 \n",
       "Q 2694 -91 1894 -91 \n",
       "Q 1572 -91 1234 -12 \n",
       "Q 897 66 544 225 \n",
       "L 544 1131 \n",
       "L 897 1131 \n",
       "Q 925 688 1179 453 \n",
       "Q 1434 219 1894 219 \n",
       "Q 2388 219 2653 544 \n",
       "Q 2919 869 2919 1478 \n",
       "Q 2919 2084 2655 2407 \n",
       "Q 2391 2731 1894 2731 \n",
       "Q 1613 2731 1398 2631 \n",
       "Q 1184 2531 1019 2322 \n",
       "L 750 2322 \n",
       "L 750 4666 \n",
       "L 3219 4666 \n",
       "z\n",
       "\" transform=\"scale(0.015625)\"/>\n",
       "       </defs>\n",
       "       <use xlink:href=\"#DejaVuSerif-32\"/>\n",
       "       <use xlink:href=\"#DejaVuSerif-2e\" x=\"63.623047\"/>\n",
       "       <use xlink:href=\"#DejaVuSerif-35\" x=\"95.410156\"/>\n",
       "      </g>\n",
       "     </g>\n",
       "    </g>\n",
       "    <g id=\"xtick_3\">\n",
       "     <g id=\"line2d_5\">\n",
       "      <path d=\"M 194.064897 339.84 \n",
       "L 194.064897 7.2 \n",
       "\" clip-path=\"url(#p32b8e745ac)\" style=\"fill: none; stroke: #ffffff; stroke-linecap: round\"/>\n",
       "     </g>\n",
       "     <g id=\"line2d_6\"/>\n",
       "     <g id=\"text_3\">\n",
       "      <!-- 5.0 -->\n",
       "      <g style=\"fill: #262626\" transform=\"translate(186.113334 354.438437)scale(0.1 -0.1)\">\n",
       "       <use xlink:href=\"#DejaVuSerif-35\"/>\n",
       "       <use xlink:href=\"#DejaVuSerif-2e\" x=\"63.623047\"/>\n",
       "       <use xlink:href=\"#DejaVuSerif-30\" x=\"95.410156\"/>\n",
       "      </g>\n",
       "     </g>\n",
       "    </g>\n",
       "    <g id=\"xtick_4\">\n",
       "     <g id=\"line2d_7\">\n",
       "      <path d=\"M 260.811308 339.84 \n",
       "L 260.811308 7.2 \n",
       "\" clip-path=\"url(#p32b8e745ac)\" style=\"fill: none; stroke: #ffffff; stroke-linecap: round\"/>\n",
       "     </g>\n",
       "     <g id=\"line2d_8\"/>\n",
       "     <g id=\"text_4\">\n",
       "      <!-- 7.5 -->\n",
       "      <g style=\"fill: #262626\" transform=\"translate(252.859746 354.438437)scale(0.1 -0.1)\">\n",
       "       <defs>\n",
       "        <path id=\"DejaVuSerif-37\" d=\"M 3609 4347 \n",
       "L 1784 0 \n",
       "L 1319 0 \n",
       "L 3059 4153 \n",
       "L 903 4153 \n",
       "L 903 3578 \n",
       "L 538 3578 \n",
       "L 538 4666 \n",
       "L 3609 4666 \n",
       "L 3609 4347 \n",
       "z\n",
       "\" transform=\"scale(0.015625)\"/>\n",
       "       </defs>\n",
       "       <use xlink:href=\"#DejaVuSerif-37\"/>\n",
       "       <use xlink:href=\"#DejaVuSerif-2e\" x=\"63.623047\"/>\n",
       "       <use xlink:href=\"#DejaVuSerif-35\" x=\"95.410156\"/>\n",
       "      </g>\n",
       "     </g>\n",
       "    </g>\n",
       "    <g id=\"xtick_5\">\n",
       "     <g id=\"line2d_9\">\n",
       "      <path d=\"M 327.55772 339.84 \n",
       "L 327.55772 7.2 \n",
       "\" clip-path=\"url(#p32b8e745ac)\" style=\"fill: none; stroke: #ffffff; stroke-linecap: round\"/>\n",
       "     </g>\n",
       "     <g id=\"line2d_10\"/>\n",
       "     <g id=\"text_5\">\n",
       "      <!-- 10.0 -->\n",
       "      <g style=\"fill: #262626\" transform=\"translate(316.424907 354.438437)scale(0.1 -0.1)\">\n",
       "       <defs>\n",
       "        <path id=\"DejaVuSerif-31\" d=\"M 909 0 \n",
       "L 909 331 \n",
       "L 1722 331 \n",
       "L 1722 4213 \n",
       "L 781 3603 \n",
       "L 781 4013 \n",
       "L 1919 4750 \n",
       "L 2350 4750 \n",
       "L 2350 331 \n",
       "L 3163 331 \n",
       "L 3163 0 \n",
       "L 909 0 \n",
       "z\n",
       "\" transform=\"scale(0.015625)\"/>\n",
       "       </defs>\n",
       "       <use xlink:href=\"#DejaVuSerif-31\"/>\n",
       "       <use xlink:href=\"#DejaVuSerif-30\" x=\"63.623047\"/>\n",
       "       <use xlink:href=\"#DejaVuSerif-2e\" x=\"127.246094\"/>\n",
       "       <use xlink:href=\"#DejaVuSerif-30\" x=\"159.033203\"/>\n",
       "      </g>\n",
       "     </g>\n",
       "    </g>\n",
       "    <g id=\"xtick_6\">\n",
       "     <g id=\"line2d_11\">\n",
       "      <path d=\"M 394.304131 339.84 \n",
       "L 394.304131 7.2 \n",
       "\" clip-path=\"url(#p32b8e745ac)\" style=\"fill: none; stroke: #ffffff; stroke-linecap: round\"/>\n",
       "     </g>\n",
       "     <g id=\"line2d_12\"/>\n",
       "     <g id=\"text_6\">\n",
       "      <!-- 12.5 -->\n",
       "      <g style=\"fill: #262626\" transform=\"translate(383.171319 354.438437)scale(0.1 -0.1)\">\n",
       "       <use xlink:href=\"#DejaVuSerif-31\"/>\n",
       "       <use xlink:href=\"#DejaVuSerif-32\" x=\"63.623047\"/>\n",
       "       <use xlink:href=\"#DejaVuSerif-2e\" x=\"127.246094\"/>\n",
       "       <use xlink:href=\"#DejaVuSerif-35\" x=\"159.033203\"/>\n",
       "      </g>\n",
       "     </g>\n",
       "    </g>\n",
       "    <g id=\"xtick_7\">\n",
       "     <g id=\"line2d_13\">\n",
       "      <path d=\"M 461.050543 339.84 \n",
       "L 461.050543 7.2 \n",
       "\" clip-path=\"url(#p32b8e745ac)\" style=\"fill: none; stroke: #ffffff; stroke-linecap: round\"/>\n",
       "     </g>\n",
       "     <g id=\"line2d_14\"/>\n",
       "     <g id=\"text_7\">\n",
       "      <!-- 15.0 -->\n",
       "      <g style=\"fill: #262626\" transform=\"translate(449.91773 354.438437)scale(0.1 -0.1)\">\n",
       "       <use xlink:href=\"#DejaVuSerif-31\"/>\n",
       "       <use xlink:href=\"#DejaVuSerif-35\" x=\"63.623047\"/>\n",
       "       <use xlink:href=\"#DejaVuSerif-2e\" x=\"127.246094\"/>\n",
       "       <use xlink:href=\"#DejaVuSerif-30\" x=\"159.033203\"/>\n",
       "      </g>\n",
       "     </g>\n",
       "    </g>\n",
       "    <g id=\"xtick_8\">\n",
       "     <g id=\"line2d_15\">\n",
       "      <path d=\"M 527.796954 339.84 \n",
       "L 527.796954 7.2 \n",
       "\" clip-path=\"url(#p32b8e745ac)\" style=\"fill: none; stroke: #ffffff; stroke-linecap: round\"/>\n",
       "     </g>\n",
       "     <g id=\"line2d_16\"/>\n",
       "     <g id=\"text_8\">\n",
       "      <!-- 17.5 -->\n",
       "      <g style=\"fill: #262626\" transform=\"translate(516.664142 354.438437)scale(0.1 -0.1)\">\n",
       "       <use xlink:href=\"#DejaVuSerif-31\"/>\n",
       "       <use xlink:href=\"#DejaVuSerif-37\" x=\"63.623047\"/>\n",
       "       <use xlink:href=\"#DejaVuSerif-2e\" x=\"127.246094\"/>\n",
       "       <use xlink:href=\"#DejaVuSerif-35\" x=\"159.033203\"/>\n",
       "      </g>\n",
       "     </g>\n",
       "    </g>\n",
       "    <g id=\"text_9\">\n",
       "     <!-- $S_1$ -->\n",
       "     <g style=\"fill: #262626\" transform=\"translate(308.103437 368.876406)scale(0.11 -0.11)\">\n",
       "      <defs>\n",
       "       <path id=\"DejaVuSans-Oblique-53\" d=\"M 3859 4513 \n",
       "L 3738 3897 \n",
       "Q 3422 4066 3111 4152 \n",
       "Q 2800 4238 2509 4238 \n",
       "Q 1944 4238 1609 3991 \n",
       "Q 1275 3744 1275 3334 \n",
       "Q 1275 3109 1398 2989 \n",
       "Q 1522 2869 2034 2731 \n",
       "L 2413 2638 \n",
       "Q 3053 2472 3303 2217 \n",
       "Q 3553 1963 3553 1503 \n",
       "Q 3553 797 2998 353 \n",
       "Q 2444 -91 1538 -91 \n",
       "Q 1166 -91 791 -17 \n",
       "Q 416 56 38 206 \n",
       "L 166 856 \n",
       "Q 513 641 861 531 \n",
       "Q 1209 422 1556 422 \n",
       "Q 2147 422 2503 684 \n",
       "Q 2859 947 2859 1369 \n",
       "Q 2859 1650 2717 1795 \n",
       "Q 2575 1941 2106 2059 \n",
       "L 1728 2156 \n",
       "Q 1081 2325 845 2545 \n",
       "Q 609 2766 609 3163 \n",
       "Q 609 3859 1145 4304 \n",
       "Q 1681 4750 2541 4750 \n",
       "Q 2875 4750 3203 4690 \n",
       "Q 3531 4631 3859 4513 \n",
       "z\n",
       "\" transform=\"scale(0.015625)\"/>\n",
       "       <path id=\"DejaVuSans-31\" d=\"M 794 531 \n",
       "L 1825 531 \n",
       "L 1825 4091 \n",
       "L 703 3866 \n",
       "L 703 4441 \n",
       "L 1819 4666 \n",
       "L 2450 4666 \n",
       "L 2450 531 \n",
       "L 3481 531 \n",
       "L 3481 0 \n",
       "L 794 0 \n",
       "L 794 531 \n",
       "z\n",
       "\" transform=\"scale(0.015625)\"/>\n",
       "      </defs>\n",
       "      <use xlink:href=\"#DejaVuSans-Oblique-53\" transform=\"translate(0 0.78125)\"/>\n",
       "      <use xlink:href=\"#DejaVuSans-31\" transform=\"translate(63.476562 -15.625)scale(0.7)\"/>\n",
       "     </g>\n",
       "    </g>\n",
       "   </g>\n",
       "   <g id=\"matplotlib.axis_2\">\n",
       "    <g id=\"ytick_1\">\n",
       "     <g id=\"line2d_17\">\n",
       "      <path d=\"M 35.208438 324.72 \n",
       "L 593.208437 324.72 \n",
       "\" clip-path=\"url(#p32b8e745ac)\" style=\"fill: none; stroke: #ffffff; stroke-linecap: round\"/>\n",
       "     </g>\n",
       "     <g id=\"line2d_18\"/>\n",
       "     <g id=\"text_10\">\n",
       "      <!-- 0 -->\n",
       "      <g style=\"fill: #262626\" transform=\"translate(21.845938 328.519219)scale(0.1 -0.1)\">\n",
       "       <use xlink:href=\"#DejaVuSerif-30\"/>\n",
       "      </g>\n",
       "     </g>\n",
       "    </g>\n",
       "    <g id=\"ytick_2\">\n",
       "     <g id=\"line2d_19\">\n",
       "      <path d=\"M 35.208438 257.52 \n",
       "L 593.208437 257.52 \n",
       "\" clip-path=\"url(#p32b8e745ac)\" style=\"fill: none; stroke: #ffffff; stroke-linecap: round\"/>\n",
       "     </g>\n",
       "     <g id=\"line2d_20\"/>\n",
       "     <g id=\"text_11\">\n",
       "      <!-- 2 -->\n",
       "      <g style=\"fill: #262626\" transform=\"translate(21.845938 261.319219)scale(0.1 -0.1)\">\n",
       "       <use xlink:href=\"#DejaVuSerif-32\"/>\n",
       "      </g>\n",
       "     </g>\n",
       "    </g>\n",
       "    <g id=\"ytick_3\">\n",
       "     <g id=\"line2d_21\">\n",
       "      <path d=\"M 35.208438 190.32 \n",
       "L 593.208437 190.32 \n",
       "\" clip-path=\"url(#p32b8e745ac)\" style=\"fill: none; stroke: #ffffff; stroke-linecap: round\"/>\n",
       "     </g>\n",
       "     <g id=\"line2d_22\"/>\n",
       "     <g id=\"text_12\">\n",
       "      <!-- 4 -->\n",
       "      <g style=\"fill: #262626\" transform=\"translate(21.845938 194.119219)scale(0.1 -0.1)\">\n",
       "       <defs>\n",
       "        <path id=\"DejaVuSerif-34\" d=\"M 2234 1581 \n",
       "L 2234 4063 \n",
       "L 641 1581 \n",
       "L 2234 1581 \n",
       "z\n",
       "M 3609 0 \n",
       "L 1484 0 \n",
       "L 1484 331 \n",
       "L 2234 331 \n",
       "L 2234 1247 \n",
       "L 197 1247 \n",
       "L 197 1588 \n",
       "L 2241 4750 \n",
       "L 2859 4750 \n",
       "L 2859 1581 \n",
       "L 3750 1581 \n",
       "L 3750 1247 \n",
       "L 2859 1247 \n",
       "L 2859 331 \n",
       "L 3609 331 \n",
       "L 3609 0 \n",
       "z\n",
       "\" transform=\"scale(0.015625)\"/>\n",
       "       </defs>\n",
       "       <use xlink:href=\"#DejaVuSerif-34\"/>\n",
       "      </g>\n",
       "     </g>\n",
       "    </g>\n",
       "    <g id=\"ytick_4\">\n",
       "     <g id=\"line2d_23\">\n",
       "      <path d=\"M 35.208438 123.12 \n",
       "L 593.208437 123.12 \n",
       "\" clip-path=\"url(#p32b8e745ac)\" style=\"fill: none; stroke: #ffffff; stroke-linecap: round\"/>\n",
       "     </g>\n",
       "     <g id=\"line2d_24\"/>\n",
       "     <g id=\"text_13\">\n",
       "      <!-- 6 -->\n",
       "      <g style=\"fill: #262626\" transform=\"translate(21.845938 126.919219)scale(0.1 -0.1)\">\n",
       "       <defs>\n",
       "        <path id=\"DejaVuSerif-36\" d=\"M 2094 219 \n",
       "Q 2534 219 2771 542 \n",
       "Q 3009 866 3009 1472 \n",
       "Q 3009 2078 2771 2401 \n",
       "Q 2534 2725 2094 2725 \n",
       "Q 1647 2725 1412 2412 \n",
       "Q 1178 2100 1178 1509 \n",
       "Q 1178 888 1415 553 \n",
       "Q 1653 219 2094 219 \n",
       "z\n",
       "M 1075 2569 \n",
       "Q 1288 2803 1556 2918 \n",
       "Q 1825 3034 2163 3034 \n",
       "Q 2859 3034 3264 2615 \n",
       "Q 3669 2197 3669 1472 \n",
       "Q 3669 763 3233 336 \n",
       "Q 2797 -91 2069 -91 \n",
       "Q 1278 -91 853 498 \n",
       "Q 428 1088 428 2181 \n",
       "Q 428 3406 931 4078 \n",
       "Q 1434 4750 2350 4750 \n",
       "Q 2597 4750 2869 4703 \n",
       "Q 3141 4656 3425 4563 \n",
       "L 3425 3794 \n",
       "L 3072 3794 \n",
       "Q 3034 4109 2831 4275 \n",
       "Q 2628 4441 2284 4441 \n",
       "Q 1678 4441 1381 3981 \n",
       "Q 1084 3522 1075 2569 \n",
       "z\n",
       "\" transform=\"scale(0.015625)\"/>\n",
       "       </defs>\n",
       "       <use xlink:href=\"#DejaVuSerif-36\"/>\n",
       "      </g>\n",
       "     </g>\n",
       "    </g>\n",
       "    <g id=\"ytick_5\">\n",
       "     <g id=\"line2d_25\">\n",
       "      <path d=\"M 35.208438 55.92 \n",
       "L 593.208437 55.92 \n",
       "\" clip-path=\"url(#p32b8e745ac)\" style=\"fill: none; stroke: #ffffff; stroke-linecap: round\"/>\n",
       "     </g>\n",
       "     <g id=\"line2d_26\"/>\n",
       "     <g id=\"text_14\">\n",
       "      <!-- 8 -->\n",
       "      <g style=\"fill: #262626\" transform=\"translate(21.845938 59.719219)scale(0.1 -0.1)\">\n",
       "       <defs>\n",
       "        <path id=\"DejaVuSerif-38\" d=\"M 2981 1275 \n",
       "Q 2981 1775 2732 2051 \n",
       "Q 2484 2328 2034 2328 \n",
       "Q 1584 2328 1336 2051 \n",
       "Q 1088 1775 1088 1275 \n",
       "Q 1088 772 1336 495 \n",
       "Q 1584 219 2034 219 \n",
       "Q 2484 219 2732 495 \n",
       "Q 2981 772 2981 1275 \n",
       "z\n",
       "M 2853 3541 \n",
       "Q 2853 3966 2637 4203 \n",
       "Q 2422 4441 2034 4441 \n",
       "Q 1650 4441 1433 4203 \n",
       "Q 1216 3966 1216 3541 \n",
       "Q 1216 3113 1433 2875 \n",
       "Q 1650 2638 2034 2638 \n",
       "Q 2422 2638 2637 2875 \n",
       "Q 2853 3113 2853 3541 \n",
       "z\n",
       "M 2516 2484 \n",
       "Q 3047 2413 3344 2092 \n",
       "Q 3641 1772 3641 1275 \n",
       "Q 3641 619 3225 264 \n",
       "Q 2809 -91 2034 -91 \n",
       "Q 1263 -91 845 264 \n",
       "Q 428 619 428 1275 \n",
       "Q 428 1772 725 2092 \n",
       "Q 1022 2413 1556 2484 \n",
       "Q 1084 2569 832 2842 \n",
       "Q 581 3116 581 3541 \n",
       "Q 581 4103 968 4426 \n",
       "Q 1356 4750 2034 4750 \n",
       "Q 2713 4750 3100 4426 \n",
       "Q 3488 4103 3488 3541 \n",
       "Q 3488 3116 3236 2842 \n",
       "Q 2984 2569 2516 2484 \n",
       "z\n",
       "\" transform=\"scale(0.015625)\"/>\n",
       "       </defs>\n",
       "       <use xlink:href=\"#DejaVuSerif-38\"/>\n",
       "      </g>\n",
       "     </g>\n",
       "    </g>\n",
       "    <g id=\"text_15\">\n",
       "     <!-- $C_1$ -->\n",
       "     <g style=\"fill: #262626\" transform=\"translate(15.558281 180.01)rotate(-90)scale(0.11 -0.11)\">\n",
       "      <defs>\n",
       "       <path id=\"DejaVuSans-Oblique-43\" d=\"M 4447 4306 \n",
       "L 4319 3641 \n",
       "Q 4019 3944 3683 4091 \n",
       "Q 3347 4238 2956 4238 \n",
       "Q 2422 4238 2017 3981 \n",
       "Q 1613 3725 1319 3200 \n",
       "Q 1131 2863 1032 2486 \n",
       "Q 934 2109 934 1728 \n",
       "Q 934 1091 1264 756 \n",
       "Q 1594 422 2222 422 \n",
       "Q 2656 422 3056 561 \n",
       "Q 3456 700 3834 978 \n",
       "L 3688 231 \n",
       "Q 3316 72 2936 -9 \n",
       "Q 2556 -91 2175 -91 \n",
       "Q 1278 -91 773 396 \n",
       "Q 269 884 269 1753 \n",
       "Q 269 2309 461 2846 \n",
       "Q 653 3384 1013 3828 \n",
       "Q 1394 4300 1883 4525 \n",
       "Q 2372 4750 3022 4750 \n",
       "Q 3422 4750 3780 4639 \n",
       "Q 4138 4528 4447 4306 \n",
       "z\n",
       "\" transform=\"scale(0.015625)\"/>\n",
       "      </defs>\n",
       "      <use xlink:href=\"#DejaVuSans-Oblique-43\" transform=\"translate(0 0.78125)\"/>\n",
       "      <use xlink:href=\"#DejaVuSans-31\" transform=\"translate(69.824219 -15.625)scale(0.7)\"/>\n",
       "     </g>\n",
       "    </g>\n",
       "   </g>\n",
       "   <g id=\"line2d_27\">\n",
       "    <path d=\"M 60.572074 324.72 \n",
       "L 87.270638 324.72 \n",
       "L 113.969203 324.72 \n",
       "L 140.667768 324.72 \n",
       "L 167.366332 324.72 \n",
       "L 194.064897 324.72 \n",
       "L 220.763461 324.72 \n",
       "L 247.462026 324.72 \n",
       "L 274.160591 324.72 \n",
       "L 300.859155 324.72 \n",
       "L 327.55772 324.72 \n",
       "L 354.256284 291.12 \n",
       "L 380.954849 257.52 \n",
       "L 407.653414 223.92 \n",
       "L 434.351978 190.32 \n",
       "L 461.050543 156.72 \n",
       "L 487.749107 123.12 \n",
       "L 514.447672 89.52 \n",
       "L 541.146237 55.92 \n",
       "L 567.844801 22.32 \n",
       "\" clip-path=\"url(#p32b8e745ac)\" style=\"fill: none; stroke: #4c72b0; stroke-width: 3; stroke-linecap: round\"/>\n",
       "   </g>\n",
       "   <g id=\"patch_3\">\n",
       "    <path d=\"M 35.208438 339.84 \n",
       "L 35.208438 7.2 \n",
       "\" style=\"fill: none\"/>\n",
       "   </g>\n",
       "   <g id=\"patch_4\">\n",
       "    <path d=\"M 593.208437 339.84 \n",
       "L 593.208437 7.2 \n",
       "\" style=\"fill: none\"/>\n",
       "   </g>\n",
       "   <g id=\"patch_5\">\n",
       "    <path d=\"M 35.208438 339.84 \n",
       "L 593.208437 339.84 \n",
       "\" style=\"fill: none\"/>\n",
       "   </g>\n",
       "   <g id=\"patch_6\">\n",
       "    <path d=\"M 35.208438 7.2 \n",
       "L 593.208437 7.2 \n",
       "\" style=\"fill: none\"/>\n",
       "   </g>\n",
       "   <g id=\"legend_1\">\n",
       "    <g id=\"line2d_28\">\n",
       "     <path d=\"M 44.208438 20.298437 \n",
       "L 54.208438 20.298437 \n",
       "L 64.208438 20.298437 \n",
       "\" style=\"fill: none; stroke: #4c72b0; stroke-width: 3; stroke-linecap: round\"/>\n",
       "    </g>\n",
       "    <g id=\"text_16\">\n",
       "     <!-- $C_1 = \\max(S_1 - K, 0)$ -->\n",
       "     <g style=\"fill: #262626\" transform=\"translate(72.208438 23.798437)scale(0.1 -0.1)\">\n",
       "      <defs>\n",
       "       <path id=\"DejaVuSans-3d\" d=\"M 678 2906 \n",
       "L 4684 2906 \n",
       "L 4684 2381 \n",
       "L 678 2381 \n",
       "L 678 2906 \n",
       "z\n",
       "M 678 1631 \n",
       "L 4684 1631 \n",
       "L 4684 1100 \n",
       "L 678 1100 \n",
       "L 678 1631 \n",
       "z\n",
       "\" transform=\"scale(0.015625)\"/>\n",
       "       <path id=\"DejaVuSans-6d\" d=\"M 3328 2828 \n",
       "Q 3544 3216 3844 3400 \n",
       "Q 4144 3584 4550 3584 \n",
       "Q 5097 3584 5394 3201 \n",
       "Q 5691 2819 5691 2113 \n",
       "L 5691 0 \n",
       "L 5113 0 \n",
       "L 5113 2094 \n",
       "Q 5113 2597 4934 2840 \n",
       "Q 4756 3084 4391 3084 \n",
       "Q 3944 3084 3684 2787 \n",
       "Q 3425 2491 3425 1978 \n",
       "L 3425 0 \n",
       "L 2847 0 \n",
       "L 2847 2094 \n",
       "Q 2847 2600 2669 2842 \n",
       "Q 2491 3084 2119 3084 \n",
       "Q 1678 3084 1418 2786 \n",
       "Q 1159 2488 1159 1978 \n",
       "L 1159 0 \n",
       "L 581 0 \n",
       "L 581 3500 \n",
       "L 1159 3500 \n",
       "L 1159 2956 \n",
       "Q 1356 3278 1631 3431 \n",
       "Q 1906 3584 2284 3584 \n",
       "Q 2666 3584 2933 3390 \n",
       "Q 3200 3197 3328 2828 \n",
       "z\n",
       "\" transform=\"scale(0.015625)\"/>\n",
       "       <path id=\"DejaVuSans-61\" d=\"M 2194 1759 \n",
       "Q 1497 1759 1228 1600 \n",
       "Q 959 1441 959 1056 \n",
       "Q 959 750 1161 570 \n",
       "Q 1363 391 1709 391 \n",
       "Q 2188 391 2477 730 \n",
       "Q 2766 1069 2766 1631 \n",
       "L 2766 1759 \n",
       "L 2194 1759 \n",
       "z\n",
       "M 3341 1997 \n",
       "L 3341 0 \n",
       "L 2766 0 \n",
       "L 2766 531 \n",
       "Q 2569 213 2275 61 \n",
       "Q 1981 -91 1556 -91 \n",
       "Q 1019 -91 701 211 \n",
       "Q 384 513 384 1019 \n",
       "Q 384 1609 779 1909 \n",
       "Q 1175 2209 1959 2209 \n",
       "L 2766 2209 \n",
       "L 2766 2266 \n",
       "Q 2766 2663 2505 2880 \n",
       "Q 2244 3097 1772 3097 \n",
       "Q 1472 3097 1187 3025 \n",
       "Q 903 2953 641 2809 \n",
       "L 641 3341 \n",
       "Q 956 3463 1253 3523 \n",
       "Q 1550 3584 1831 3584 \n",
       "Q 2591 3584 2966 3190 \n",
       "Q 3341 2797 3341 1997 \n",
       "z\n",
       "\" transform=\"scale(0.015625)\"/>\n",
       "       <path id=\"DejaVuSans-78\" d=\"M 3513 3500 \n",
       "L 2247 1797 \n",
       "L 3578 0 \n",
       "L 2900 0 \n",
       "L 1881 1375 \n",
       "L 863 0 \n",
       "L 184 0 \n",
       "L 1544 1831 \n",
       "L 300 3500 \n",
       "L 978 3500 \n",
       "L 1906 2253 \n",
       "L 2834 3500 \n",
       "L 3513 3500 \n",
       "z\n",
       "\" transform=\"scale(0.015625)\"/>\n",
       "       <path id=\"DejaVuSans-28\" d=\"M 1984 4856 \n",
       "Q 1566 4138 1362 3434 \n",
       "Q 1159 2731 1159 2009 \n",
       "Q 1159 1288 1364 580 \n",
       "Q 1569 -128 1984 -844 \n",
       "L 1484 -844 \n",
       "Q 1016 -109 783 600 \n",
       "Q 550 1309 550 2009 \n",
       "Q 550 2706 781 3412 \n",
       "Q 1013 4119 1484 4856 \n",
       "L 1984 4856 \n",
       "z\n",
       "\" transform=\"scale(0.015625)\"/>\n",
       "       <path id=\"DejaVuSans-2212\" d=\"M 678 2272 \n",
       "L 4684 2272 \n",
       "L 4684 1741 \n",
       "L 678 1741 \n",
       "L 678 2272 \n",
       "z\n",
       "\" transform=\"scale(0.015625)\"/>\n",
       "       <path id=\"DejaVuSans-Oblique-4b\" d=\"M 1081 4666 \n",
       "L 1716 4666 \n",
       "L 1331 2700 \n",
       "L 3781 4666 \n",
       "L 4622 4666 \n",
       "L 1850 2438 \n",
       "L 3878 0 \n",
       "L 3109 0 \n",
       "L 1247 2272 \n",
       "L 806 0 \n",
       "L 172 0 \n",
       "L 1081 4666 \n",
       "z\n",
       "\" transform=\"scale(0.015625)\"/>\n",
       "       <path id=\"DejaVuSans-2c\" d=\"M 750 794 \n",
       "L 1409 794 \n",
       "L 1409 256 \n",
       "L 897 -744 \n",
       "L 494 -744 \n",
       "L 750 256 \n",
       "L 750 794 \n",
       "z\n",
       "\" transform=\"scale(0.015625)\"/>\n",
       "       <path id=\"DejaVuSans-30\" d=\"M 2034 4250 \n",
       "Q 1547 4250 1301 3770 \n",
       "Q 1056 3291 1056 2328 \n",
       "Q 1056 1369 1301 889 \n",
       "Q 1547 409 2034 409 \n",
       "Q 2525 409 2770 889 \n",
       "Q 3016 1369 3016 2328 \n",
       "Q 3016 3291 2770 3770 \n",
       "Q 2525 4250 2034 4250 \n",
       "z\n",
       "M 2034 4750 \n",
       "Q 2819 4750 3233 4129 \n",
       "Q 3647 3509 3647 2328 \n",
       "Q 3647 1150 3233 529 \n",
       "Q 2819 -91 2034 -91 \n",
       "Q 1250 -91 836 529 \n",
       "Q 422 1150 422 2328 \n",
       "Q 422 3509 836 4129 \n",
       "Q 1250 4750 2034 4750 \n",
       "z\n",
       "\" transform=\"scale(0.015625)\"/>\n",
       "       <path id=\"DejaVuSans-29\" d=\"M 513 4856 \n",
       "L 1013 4856 \n",
       "Q 1481 4119 1714 3412 \n",
       "Q 1947 2706 1947 2009 \n",
       "Q 1947 1309 1714 600 \n",
       "Q 1481 -109 1013 -844 \n",
       "L 513 -844 \n",
       "Q 928 -128 1133 580 \n",
       "Q 1338 1288 1338 2009 \n",
       "Q 1338 2731 1133 3434 \n",
       "Q 928 4138 513 4856 \n",
       "z\n",
       "\" transform=\"scale(0.015625)\"/>\n",
       "      </defs>\n",
       "      <use xlink:href=\"#DejaVuSans-Oblique-43\" transform=\"translate(0 0.125)\"/>\n",
       "      <use xlink:href=\"#DejaVuSans-31\" transform=\"translate(69.824219 -16.28125)scale(0.7)\"/>\n",
       "      <use xlink:href=\"#DejaVuSans-3d\" transform=\"translate(136.577148 0.125)\"/>\n",
       "      <use xlink:href=\"#DejaVuSans-6d\" transform=\"translate(239.848633 0.125)\"/>\n",
       "      <use xlink:href=\"#DejaVuSans-61\" transform=\"translate(337.260742 0.125)\"/>\n",
       "      <use xlink:href=\"#DejaVuSans-78\" transform=\"translate(398.540039 0.125)\"/>\n",
       "      <use xlink:href=\"#DejaVuSans-28\" transform=\"translate(457.719727 0.125)\"/>\n",
       "      <use xlink:href=\"#DejaVuSans-Oblique-53\" transform=\"translate(496.733398 0.125)\"/>\n",
       "      <use xlink:href=\"#DejaVuSans-31\" transform=\"translate(560.209961 -16.28125)scale(0.7)\"/>\n",
       "      <use xlink:href=\"#DejaVuSans-2212\" transform=\"translate(626.962891 0.125)\"/>\n",
       "      <use xlink:href=\"#DejaVuSans-Oblique-4b\" transform=\"translate(730.234375 0.125)\"/>\n",
       "      <use xlink:href=\"#DejaVuSans-2c\" transform=\"translate(795.810547 0.125)\"/>\n",
       "      <use xlink:href=\"#DejaVuSans-30\" transform=\"translate(847.080078 0.125)\"/>\n",
       "      <use xlink:href=\"#DejaVuSans-29\" transform=\"translate(910.703125 0.125)\"/>\n",
       "     </g>\n",
       "    </g>\n",
       "   </g>\n",
       "  </g>\n",
       " </g>\n",
       " <defs>\n",
       "  <clipPath id=\"p32b8e745ac\">\n",
       "   <rect x=\"35.208438\" y=\"7.2\" width=\"558\" height=\"332.64\"/>\n",
       "  </clipPath>\n",
       " </defs>\n",
       "</svg>\n"
      ],
      "text/plain": [
       "<Figure size 1000x600 with 1 Axes>"
      ]
     },
     "metadata": {},
     "output_type": "display_data"
    }
   ],
   "source": [
    "plt.figure(figsize=(10, 6))\n",
    "plt.plot(S1, C1, lw = 3.0, label='$C_1 = \\max(S_1 - K, 0)$')\n",
    "plt.legend(loc=0)\n",
    "plt.xlabel('$S_1$')\n",
    "plt.ylabel('$C_1$');"
   ]
  },
  {
   "cell_type": "markdown",
   "id": "cb557db4",
   "metadata": {},
   "source": [
    "# Replica\n",
    "\n",
    "Cuando se introducen en la economía derechos contigentes nos preguntamos si son redundantes o no. Expresado de otro modo, si son linealmente independientes o no.\n",
    "\n",
    "Decimos que son linealmente dependientes cuando puedo crear una cartera que replique el comportamiento de los derechos contingentes. Concretamente debe cumplirse el siguiente sistema de ecuaciones:\n",
    "$$b·\\left(\\begin{array}{crl} B_1 \\\\ B_1 \\end{array}\\right)+s·\\left(\\begin{array}{crl} S_1^u \\\\ S_1^d \\end{array}\\right)=\\left(\\begin{array}{crl} C_1^u \\\\ C_1^d \\end{array}\\right)$$\n",
    "con $b,s \\in \\mathbb{R}$.\n",
    "\n",
    "Hemos planteado el siguiente sistema de ecuaciones:\n",
    "$$\\left\\{ \\begin{array}{crl} b.B_1+s·S_1^u=C_1^u \\\\ b.B_1+s·S_1^d=C_1^d  \\end{array}\\right.$$\n",
    "\n",
    "Con $S_1^u \\neq S_1^d$ la solución es:\n",
    "$$s^*=\\frac{C_1^u-C_1^d}{S_1^u-S_1^d}$$\n",
    "y\n",
    "$$b^*=\\frac{1}{B_1}\\frac{C_1^d·S_1^u-C_1^u·S_1^d}{S_1^u-S_1^d}$$\n",
    "\n",
    "Si suponemos que $B=(10,11)$ $S=(10, (20,5)^T)$ y K=15. La solución será:\n",
    "- Compramos $s^*=\\frac{5-0}{20-5}=\\frac{1}{3}$ de acciones\n",
    "- Compramos $b^*=\\frac{1}{11}\\frac{0·20-5·5}{20-5}=-\\frac{5}{33}$ de bonos (nos endeudamos)\n",
    "\n",
    "Con el objeto de poder implementarlo con python vamos a plantear el problema de manera distinta. Vamos a definir una matriz cuadrada de 2 elementos $\\mathscr{M} \\in \\mathbb{R}^{2 \\times 2}$:\n",
    "\n",
    "$$\\mathscr{M}=\\left(\\begin{array}{crl} B_1 & S_1^u \\\\ B_1 & S_1^d\\end{array}\\right)$$\n",
    "\n",
    "La réplica se puede plantear de la siguiente manera:\n",
    "\n",
    "$$\\mathscr{M} \\phi =C_1$$\n",
    "\n",
    "donde $\\phi\\equiv (b,s)^T$ es la cartera réplica:\n",
    "$$\\left(\\begin{array}{crl} B_1 & S_1^u \\\\ B_1 & S_1^d\\end{array}\\right)·\\left(\\begin{array}{crl}b \\\\ s \\end{array} \\right)=\\left(\\begin{array}{crl}C_1^u \\\\ C_1^d \\end{array}\\right)$$"
   ]
  },
  {
   "cell_type": "code",
   "execution_count": 102,
   "id": "6c989382",
   "metadata": {},
   "outputs": [
    {
     "data": {
      "text/plain": [
       "array([[11, 20],\n",
       "       [11,  5]])"
      ]
     },
     "execution_count": 102,
     "metadata": {},
     "output_type": "execute_result"
    }
   ],
   "source": [
    "B = (10, np.array((11, 11)))\n",
    "S = (10, np.array((20, 5)))\n",
    "M = np.array((B[1], S[1])).T\n",
    "M"
   ]
  },
  {
   "cell_type": "code",
   "execution_count": 103,
   "id": "de1f9a9f",
   "metadata": {},
   "outputs": [
    {
     "data": {
      "text/plain": [
       "array([5, 0])"
      ]
     },
     "execution_count": 103,
     "metadata": {},
     "output_type": "execute_result"
    }
   ],
   "source": [
    "K=15\n",
    "C1 = np.maximum(S[1] - K, 0)\n",
    "C1"
   ]
  },
  {
   "cell_type": "code",
   "execution_count": 104,
   "id": "bcc83413",
   "metadata": {},
   "outputs": [
    {
     "data": {
      "text/plain": [
       "array([-0.15151515,  0.33333333])"
      ]
     },
     "execution_count": 104,
     "metadata": {},
     "output_type": "execute_result"
    }
   ],
   "source": [
    "phi = np.linalg.solve(M, C1)\n",
    "phi"
   ]
  },
  {
   "cell_type": "markdown",
   "id": "d0b1d6a7",
   "metadata": {},
   "source": [
    "## Determinación del precio a través del arbitraje\n",
    "\n",
    "Si somos capaces de crear una cartera que se comporta exactamente igual que las opciones, pues el precio de la cartera será el precio de la opción. Si esto no se cumple se generan oportunidades de arbitraje. Por tanto el valor de la opción será:\n",
    "$$V_0(phi)=\\left(\\left(\\begin{array}{crl} b \\\\ s \\end{array}\\right),\\left(\\begin{array}{crl} B_0 \\\\ S_0 \\end{array}\\right)\\right)=b·B_0+s·S_0$$\n",
    "$$V_0(\\phi)==b·B_0+s·S_0=\\frac{10}{3}-\\frac{50}{33}=1.8181$$\n",
    "\n",
    "Del mismo modo podemos estimar el valor que puede tomar la opción transcurrido un año:\n",
    "\n",
    "$$V_1(phi)=\\left(\\left(\\begin{array}{crl} B_1 & S_1^u \\\\ B_1 & S_1^d \\end{array}\\right),\\left(\\begin{array}{crl} b \\\\ s \\end{array}\\right)\\right)=\\left(\\begin{array}{crl} 5 \\\\ 0 \\end{array}\\right)$$\n",
    "\n",
    "Un mercado está arbitrado cuando se cumple la siguiente condición\n",
    "$$-\\left(\\begin{array}{crl}C_1^u \\\\ C_1^d \\end{array}\\right)+\\left(\\begin{array}{crl} B_1 & S_1^u \\\\ B_1 & S_1^d\\end{array}\\right)·\\left(\\begin{array}{crl}b^* \\\\ s^* \\end{array} \\right)=\\left(\\begin{array}{crl}0 \\\\ 0 \\end{array}\\right)$$\n",
    "\n",
    "Formalmente el precio de la opción será aquella que no permita el arbitraje, es decir el precio de la opción será el de la cartera réplica:\n",
    "\n",
    "$$C_0\\equiv V_0(\\phi)=\\left(\\phi^*,\\left(\\begin{array}{crl}B_0 \\\\ S_0 \\end{array}\\right)\\right)= b^*·B_0+s^*·S_0$$\n",
    "\n"
   ]
  },
  {
   "cell_type": "code",
   "execution_count": 106,
   "id": "e87de47c",
   "metadata": {},
   "outputs": [
    {
     "data": {
      "text/plain": [
       "array([-0.15151515,  0.33333333])"
      ]
     },
     "execution_count": 106,
     "metadata": {},
     "output_type": "execute_result"
    }
   ],
   "source": [
    "phi"
   ]
  },
  {
   "cell_type": "code",
   "execution_count": 107,
   "id": "dd834edd",
   "metadata": {},
   "outputs": [
    {
     "data": {
      "text/plain": [
       "1.8181818181818183"
      ]
     },
     "execution_count": 107,
     "metadata": {},
     "output_type": "execute_result"
    }
   ],
   "source": [
    "C0 = np.dot(phi, (B[0], S[0]))\n",
    "C0"
   ]
  },
  {
   "cell_type": "markdown",
   "id": "4638fdb9",
   "metadata": {},
   "source": [
    "## Mercados completos\n",
    "\n",
    "El conjunto de derechos contingentes realizables $\\mathbb{A}$ incluye todos los derechos contigentes que pueden ser replicados con una cartera de activos financieros. Si las posiciones cortas están prohibidas:\n",
    "$$\\mathbb{A}=\\{\\mathscr{M}·\\phi, \\phi, \\phi \\in \\mathbb{R}_{\\geq 0}^2 \\}$$\n",
    "Si las posiciones cortas están premitidas:\n",
    "$$\\mathbb{A}=\\{\\mathscr{M}·\\phi, \\phi, \\phi \\in \\mathbb{R}^2 \\}$$\n",
    "\n",
    "Si cualquier opciones puede ser replicada con una cartera que combina bonos y acciones decimos que el mercado es completo."
   ]
  },
  {
   "cell_type": "markdown",
   "id": "3f75744a",
   "metadata": {},
   "source": [
    "# Acciones Arrow- Debreu\n",
    "\n",
    "Una activo Arrow-Debreu es definido como un contrato que pagara un euro si se da un estado específico de la naturaleza. Es un caso especial de un derecho contingente.\n",
    "$$\\mathscr{M}·\\phi=\\left(\\begin{array}{crl} 1 \\\\ 0\\end{array}\\right)$$\n",
    "y \n",
    "$$\\mathscr{M}·\\phi=\\left(\\begin{array}{crl} 0 \\\\ 1\\end{array}\\right)$$\n",
    "\n",
    "¿Por qué este activo es importante? porque a partir de este activo se puede generar el rendimiento de cualquier derecho contingente.\n",
    "\n",
    "Consideramos dos activos Arrow-Debrey con el siguiente proceso de precios $\\gamma^u=\\left(\\gamma_0^u,(1,0)^T \\right)$ y $\\gamma^d=\\left(\\gamma_0^u,(0,1)^T \\right)$ y define:\n",
    "$$\\mathscr{M}^{\\gamma}=\\left(\\begin{array}{crl} 1 & 0 \\\\ 0 & 1 \\end{array}\\right)$$\n",
    "\n",
    "Consideramos el resultado de un derecho contigente genérico:\n",
    "$$C_1=\\left(\\begin{array}{crl} C_1^u \\\\ C_1^d \\end{array}\\right)$$\n",
    "\n",
    "La cartera réplica $\\phi^{\\gamma}$ de un derecho contingente es trivial, partiendo de $\\phi^{\\gamma}=(C_1^u,C_1^d)^T$:\n",
    "$$\\begin{align}\n",
    "V_1(\\phi^{\\gamma})&=\\mathscr{M}^{\\gamma}·\\phi^{\\gamma} \\\\\n",
    "&=\\left(\\begin{array}{crl} 1 & 0 \\\\ 0 & 1 \\end{array}\\right)·\\left(\\begin{array}{crl} C_1^u \\\\ C_1^d \\end{array}\\right) \\\\\n",
    "&=\\left(\\begin{array}{crl} C_1^u \\\\ C_1^d \\end{array}\\right)\n",
    "\\end{align}$$\n",
    "\n",
    "El precio de un derecho contingente será:\n",
    "$$C_0=V_0(\\phi^{\\gamma})=C_1^{u}·\\gamma_0^u+C_1^{d}·\\gamma_0^d $$\n"
   ]
  },
  {
   "cell_type": "markdown",
   "id": "22ded738",
   "metadata": {},
   "source": [
    "# Precios martingalas\n",
    "\n",
    "En el ámbito de la teoría de probabilidades y procesos estocásticos, una martingala es una secuencia de variables aleatorias en la que la expectativa condicional de una observación futura, dado todo el conocimiento hasta el presente, es igual a la observación actual. Formalmente, si tenemos una secuencia de variables aleatorias $X_1,X_2,...,X_n$ , se dice que esta secuencia es una martingala si, para todo $n$, se cumple que:\n",
    "\n",
    "$$\\mathbb{E}[X_{n+1}|X_1,X_2,...,X_n]=X_n$$\n",
    " \n",
    "Esto significa que, en promedio, la \"apuesta\" o expectativa para el siguiente paso en una martingala es siempre igual al valor actual, independientemente de los valores pasados.\n",
    "\n",
    "Un medida martingala $\\mathscr{Q}:\\wp(\\Omega)\\leftarrow \\mathbb{R}_{\\geq 0}$ es un tipo especial de medida de la probabilidad. Hace que el proceso de precio descontado sea una martingala. Para que una acción sea un martingala bajo $\\mathscr{Q}$ se debe cumplir la siguiente relación:\n",
    "\n",
    "$$S_0=\\frac{1}{1+i}\\E^Q(S_1)$$\n",
    "\n",
    "Si $i=\\frac{B_1-B_0}{B_0}$ entonces el valor del activo sin riesgo será:\n",
    "\n",
    "$$B_0=\\frac{1}{1+i}\\E^Q(B_1)=\\frac{1}{1+i}B_1$$\n",
    "\n",
    "Proponemos que la tendencia del procesos de precios derivan, con el tipo de interés libre riesgo, bajo la medida martingala será:\n",
    "$$\\left\\{\\begin{array}{clr}B_0(1+i)=B_1 \\\\S_0(1+i)=E^Q(S_1) \\end{array}\\right.$$\n",
    "\n",
    "Definimos $q\\equiv Q(u)$\n",
    "\n",
    "$$q·S_1^u+(1-q)·S_d=S_0(1+i)$$\n",
    "\n",
    "$$q=\\frac{S_0(1+i)-S_1^d}{S_1^u-S_1^d}$$\n",
    "\n",
    "Teniendo en cuenta las anteriores asunciones, $q$ se define como una medida probabilidad y debe cumplirse que $$S_1^u>S_0·(1+i)>S_1^d$$. Por tanto generamos un nuevo espacio de probabilidades $(\\Omega,\\wp(\\Omega),Q)$, donde $Q$ reemplaza a $P$.\n",
    "\n",
    "Si la anterior igualdad no se cumple generaría un proceso de arbitraje que llevaría a su cumplimiento."
   ]
  },
  {
   "cell_type": "code",
   "execution_count": 108,
   "id": "d0200f15",
   "metadata": {},
   "outputs": [
    {
     "data": {
      "text/plain": [
       "0.1"
      ]
     },
     "execution_count": 108,
     "metadata": {},
     "output_type": "execute_result"
    }
   ],
   "source": [
    "i = (B[1][0] - B[0]) / B[0]\n",
    "i"
   ]
  },
  {
   "cell_type": "code",
   "execution_count": 109,
   "id": "a30f1f13",
   "metadata": {},
   "outputs": [],
   "source": [
    "q = (S[0] * (1 + i) - S[1][1]) / (S[1][0] - S[1][1])\n"
   ]
  },
  {
   "cell_type": "markdown",
   "id": "7db6bf8d",
   "metadata": {},
   "source": [
    "## Primer teorema fundamental del precio de los activos\n",
    "\n",
    "De lo anterior se deduce que las dos frases siguientes son equivalentes:\n",
    "1. Una medida de martingala existe\n",
    "2. La economía está arbitrada\n",
    "\n",
    "### Precio por expectativas\n",
    "\n",
    "Un corolario del primer teorema fundamental del precio de los activos es que cualquier derecho contingente $C_1 \\in \\mahtbb{A}$ puede valorarse tomando la expectativa bajo la medida martingala de su retribución futura y descontando con el tipo de interés sin riesgo.\n",
    "\n",
    "En otras palabras, el proceso de precio descontado de la opción de compra -y de cualquier otro derecho contingente- es una martingala bajo la medida martingala tal que:\n",
    "$$\\left\\{\\begin{array}{clr}B_0(1+i)=B_1 \\\\S_0(1+i)=E^Q(S_1) \\\\ C_0·(1+i)=E^Q(C_1) \\end{array}\\right.$$\n"
   ]
  },
  {
   "cell_type": "code",
   "execution_count": 110,
   "id": "df3e8472",
   "metadata": {},
   "outputs": [
    {
     "data": {
      "text/plain": [
       "1.8181818181818181"
      ]
     },
     "execution_count": 110,
     "metadata": {},
     "output_type": "execute_result"
    }
   ],
   "source": [
    "Q = (q, 1-q)\n",
    "np.dot(Q, C1) / (1 + i)"
   ]
  },
  {
   "cell_type": "markdown",
   "id": "ece27219",
   "metadata": {},
   "source": [
    "## Segundo teorema fundamental del precio de los activos\n",
    "\n",
    "Las dos frases son equivalentes:\n",
    "1. La medida de la martingala es única\n",
    "2. El mercado es completo"
   ]
  },
  {
   "cell_type": "markdown",
   "id": "7a867981",
   "metadata": {},
   "source": [
    "# Media Varianza de una cartera\n",
    "\n",
    "Uno de los principales avances de las finanzas ha sido la formalización y cuantificación de la inversión de cartera mediante la teoría de la cartera de varianza media (MVP), de la que fue pionero Markowitz (1952). En cierta medida, este enfoque puede considerarse el comienzo de las finanzas cuantitativas, iniciando una tendencia que llevó cada vez más las matemáticas al campo financiero.\n",
    "\n",
    "Un activo financiero viene definido por su rentabilidad media y por la desviación típica de la rentabilidad. \n",
    "\n",
    "Consideramos el bono sin riesgo $B=(B_0,B_1)$ y una acción con riesgo $S=(S_0,(S_1^u,S_1^d)^T)$ y su matriz de precios futuros $\\mathscr{M}$ cuyas columnas recogen los precios futuros de ambos activos. Vamos a estimar la rentabilidad esperada y la volatilidad de un cartera $\\phi$ compuesta por una inversión $b$ en el bono y una inversión $s$ en la accción. Lógicamente $b+s=1$.\n",
    "\n",
    "La rentabilidad esperada será:\n",
    "$$\\begin{align}\n",
    "E^P(\\mathscr{M}·\\phi)&=p·(b·B_1+s·S_1^u)+(1-p)·(b·B_1+s·S_1^d) \\\\\n",
    "&=p·(b·B_1)+(1-p)·(b·B_1)+p·(s·S_1^u)+(1-p)·(s·S_1^d) \\\\\n",
    "&=b·E^P(B_1)+s·E^P(S_1) \\\\\n",
    "&=b·(B_1)+s·E^P(S_1)\n",
    "\\end{align}$$\n",
    "\n",
    "Definimos $\\mathscr{R}\\in \\mathbb{R}^{2\\times 2}$ como la matriz de rentabilidades.\n",
    "$$\\mathscr{R}=\\left(\\begin{array}{clr} i & r_1^u \\\\ i & r_1^d \\end{array}\\right)$$\n",
    "\n",
    "La rentabilidad esperada de una cartera:\n",
    "$$\\begin{align}\n",
    "E^P(\\mathscr{R}·\\phi) &=b·E^P(i)+s·E^P(r_1) \\\\\n",
    "&=b·i+s·\\mu\n",
    "\\end{align}$$"
   ]
  },
  {
   "cell_type": "code",
   "execution_count": null,
   "id": "5c22f9fc",
   "metadata": {},
   "outputs": [],
   "source": []
  }
 ],
 "metadata": {
  "kernelspec": {
   "display_name": "Python 3 (ipykernel)",
   "language": "python",
   "name": "python3"
  },
  "language_info": {
   "codemirror_mode": {
    "name": "ipython",
    "version": 3
   },
   "file_extension": ".py",
   "mimetype": "text/x-python",
   "name": "python",
   "nbconvert_exporter": "python",
   "pygments_lexer": "ipython3",
   "version": "3.9.13"
  }
 },
 "nbformat": 4,
 "nbformat_minor": 5
}
