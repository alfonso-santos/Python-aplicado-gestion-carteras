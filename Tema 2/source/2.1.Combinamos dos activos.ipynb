{
  "cells": [
    {
      "cell_type": "markdown",
      "metadata": {
        "id": "gHv6wr-Jg5lj"
      },
      "source": [
        "# APPL y Kellog"
      ]
    },
    {
      "cell_type": "markdown",
      "metadata": {
        "id": "jp0V-beag5ln"
      },
      "source": [
        "Instalamos yfinance para poder sacar datos directamente de la página web"
      ]
    },
    {
      "cell_type": "code",
      "execution_count": 1,
      "metadata": {
        "colab": {
          "base_uri": "https://localhost:8080/"
        },
        "id": "q84imkBHg5ln",
        "outputId": "7f1a55f4-05fb-49ee-c1b8-60efdc4758bb"
      },
      "outputs": [
        {
          "name": "stdout",
          "output_type": "stream",
          "text": [
            "Requirement already satisfied: yfinance in /opt/anaconda3/lib/python3.9/site-packages (0.2.11)\n",
            "Requirement already satisfied: pandas>=1.3.0 in /opt/anaconda3/lib/python3.9/site-packages (from yfinance) (1.5.3)\n",
            "Requirement already satisfied: numpy>=1.16.5 in /opt/anaconda3/lib/python3.9/site-packages (from yfinance) (1.21.6)\n",
            "Requirement already satisfied: requests>=2.26 in /opt/anaconda3/lib/python3.9/site-packages (from yfinance) (2.26.0)\n",
            "Requirement already satisfied: multitasking>=0.0.7 in /opt/anaconda3/lib/python3.9/site-packages (from yfinance) (0.0.11)\n",
            "Requirement already satisfied: lxml>=4.9.1 in /opt/anaconda3/lib/python3.9/site-packages (from yfinance) (4.9.1)\n",
            "Requirement already satisfied: appdirs>=1.4.4 in /opt/anaconda3/lib/python3.9/site-packages (from yfinance) (1.4.4)\n",
            "Requirement already satisfied: pytz>=2022.5 in /opt/anaconda3/lib/python3.9/site-packages (from yfinance) (2022.7.1)\n",
            "Requirement already satisfied: frozendict>=2.3.4 in /opt/anaconda3/lib/python3.9/site-packages (from yfinance) (2.3.4)\n",
            "Requirement already satisfied: cryptography>=3.3.2 in /opt/anaconda3/lib/python3.9/site-packages (from yfinance) (37.0.1)\n",
            "Collecting beautifulsoup4>=4.11.1 (from yfinance)\n",
            "  Using cached beautifulsoup4-4.12.2-py3-none-any.whl (142 kB)\n",
            "Requirement already satisfied: html5lib>=1.1 in /opt/anaconda3/lib/python3.9/site-packages (from yfinance) (1.1)\n",
            "Requirement already satisfied: soupsieve>1.2 in /opt/anaconda3/lib/python3.9/site-packages (from beautifulsoup4>=4.11.1->yfinance) (2.3.1)\n",
            "Requirement already satisfied: cffi>=1.12 in /opt/anaconda3/lib/python3.9/site-packages (from cryptography>=3.3.2->yfinance) (1.15.1)\n",
            "Requirement already satisfied: six>=1.9 in /opt/anaconda3/lib/python3.9/site-packages (from html5lib>=1.1->yfinance) (1.16.0)\n",
            "Requirement already satisfied: webencodings in /opt/anaconda3/lib/python3.9/site-packages (from html5lib>=1.1->yfinance) (0.5.1)\n",
            "Requirement already satisfied: python-dateutil>=2.8.1 in /opt/anaconda3/lib/python3.9/site-packages (from pandas>=1.3.0->yfinance) (2.8.2)\n",
            "Requirement already satisfied: urllib3<1.27,>=1.21.1 in /opt/anaconda3/lib/python3.9/site-packages (from requests>=2.26->yfinance) (1.26.11)\n",
            "Requirement already satisfied: certifi>=2017.4.17 in /opt/anaconda3/lib/python3.9/site-packages (from requests>=2.26->yfinance) (2022.9.24)\n",
            "Requirement already satisfied: charset-normalizer~=2.0.0 in /opt/anaconda3/lib/python3.9/site-packages (from requests>=2.26->yfinance) (2.0.12)\n",
            "Requirement already satisfied: idna<4,>=2.5 in /opt/anaconda3/lib/python3.9/site-packages (from requests>=2.26->yfinance) (2.10)\n",
            "Requirement already satisfied: pycparser in /opt/anaconda3/lib/python3.9/site-packages (from cffi>=1.12->cryptography>=3.3.2->yfinance) (2.21)\n",
            "Installing collected packages: beautifulsoup4\n",
            "  Attempting uninstall: beautifulsoup4\n",
            "    Found existing installation: beautifulsoup4 4.9.3\n",
            "    Uninstalling beautifulsoup4-4.9.3:\n",
            "      Successfully uninstalled beautifulsoup4-4.9.3\n",
            "\u001b[31mERROR: pip's dependency resolver does not currently take into account all the packages that are installed. This behaviour is the source of the following dependency conflicts.\n",
            "gnews 0.2.7 requires beautifulsoup4~=4.9.3, but you have beautifulsoup4 4.12.2 which is incompatible.\n",
            "openbb 2.3.1 requires charset-normalizer==2.1.1, but you have charset-normalizer 2.0.12 which is incompatible.\n",
            "openbb 2.3.1 requires dnspython<3.0.0,>=2.1.0, but you have dnspython 1.16.0 which is incompatible.\n",
            "openbb 2.3.1 requires fredapi<0.5.0,>=0.4.3, but you have fredapi 0.5.0 which is incompatible.\n",
            "openbb 2.3.1 requires ipympl<0.9.0,>=0.8.2, but you have ipympl 0.9.2 which is incompatible.\n",
            "openbb 2.3.1 requires numpy==1.23.4, but you have numpy 1.21.6 which is incompatible.\n",
            "openbb 2.3.1 requires oandapyV20<0.7.0,>=0.6.3, but you have oandapyv20 0.7.2 which is incompatible.\n",
            "openbb 2.3.1 requires protobuf==3.20.1, but you have protobuf 4.22.0 which is incompatible.\n",
            "openbb 2.3.1 requires pycoingecko<3.0.0,>=2.2.0, but you have pycoingecko 3.1.0 which is incompatible.\n",
            "openbb 2.3.1 requires python-coinmarketcap<0.3,>=0.2, but you have python-coinmarketcap 0.5 which is incompatible.\n",
            "openbb 2.3.1 requires rapidfuzz<2.0.0,>=1.1.1, but you have rapidfuzz 2.13.7 which is incompatible.\n",
            "openbb 2.3.1 requires rich<13.0.0,>=12.6.0, but you have rich 13.3.1 which is incompatible.\n",
            "openbb 2.3.1 requires scipy<2.0.0,>=1.9.3, but you have scipy 1.7.3 which is incompatible.\n",
            "openbb 2.3.1 requires screeninfo<0.7.0,>=0.6.7, but you have screeninfo 0.8.1 which is incompatible.\n",
            "openbb 2.3.1 requires setuptools<65.5.0, but you have setuptools 67.3.1 which is incompatible.\n",
            "pointpats 2.3.0 requires scipy>=1.8.0, but you have scipy 1.7.3 which is incompatible.\n",
            "spyder 5.3.3 requires ipython<8.0.0,>=7.31.1, but you have ipython 8.5.0 which is incompatible.\u001b[0m\u001b[31m\n",
            "\u001b[0mSuccessfully installed beautifulsoup4-4.12.2\n",
            "\n",
            "\u001b[1m[\u001b[0m\u001b[34;49mnotice\u001b[0m\u001b[1;39;49m]\u001b[0m\u001b[39;49m A new release of pip is available: \u001b[0m\u001b[31;49m23.2.1\u001b[0m\u001b[39;49m -> \u001b[0m\u001b[32;49m23.3.1\u001b[0m\n",
            "\u001b[1m[\u001b[0m\u001b[34;49mnotice\u001b[0m\u001b[1;39;49m]\u001b[0m\u001b[39;49m To update, run: \u001b[0m\u001b[32;49mpip install --upgrade pip\u001b[0m\n",
            "Note: you may need to restart the kernel to use updated packages.\n"
          ]
        }
      ],
      "source": [
        "pip install yfinance"
      ]
    },
    {
      "cell_type": "code",
      "execution_count": 2,
      "metadata": {},
      "outputs": [
        {
          "name": "stdout",
          "output_type": "stream",
          "text": [
            "Requirement already satisfied: pip in /opt/anaconda3/lib/python3.9/site-packages (23.2.1)\n",
            "Collecting pip\n",
            "  Obtaining dependency information for pip from https://files.pythonhosted.org/packages/47/6a/453160888fab7c6a432a6e25f8afe6256d0d9f2cbd25971021da6491d899/pip-23.3.1-py3-none-any.whl.metadata\n",
            "  Downloading pip-23.3.1-py3-none-any.whl.metadata (3.5 kB)\n",
            "Downloading pip-23.3.1-py3-none-any.whl (2.1 MB)\n",
            "\u001b[2K   \u001b[90m━━━━━━━━━━━━━━━━━━━━━━━━━━━━━━━━━━━━━━━━\u001b[0m \u001b[32m2.1/2.1 MB\u001b[0m \u001b[31m11.2 MB/s\u001b[0m eta \u001b[36m0:00:00\u001b[0m00:01\u001b[0m00:01\u001b[0m\n",
            "\u001b[?25hInstalling collected packages: pip\n",
            "  Attempting uninstall: pip\n",
            "    Found existing installation: pip 23.2.1\n",
            "    Uninstalling pip-23.2.1:\n",
            "      Successfully uninstalled pip-23.2.1\n",
            "Successfully installed pip-23.3.1\n",
            "Note: you may need to restart the kernel to use updated packages.\n"
          ]
        }
      ],
      "source": [
        "pip install --upgrade pip"
      ]
    },
    {
      "cell_type": "markdown",
      "metadata": {
        "id": "DJc8A8Lvg5lp"
      },
      "source": [
        "Importamos las librerias\n",
        "\n",
        "Numpy: es una librería para el cálculo numérico.\n",
        "- Pandas: es una librería para el manejo de los datos\n",
        "- sklearn : es una librería espectacular para implementar los algoritmos de Machine Learning\n",
        "- math: es una librería de operadores matemáticos\n",
        "- matplotlib: es una librería para representaciones gráficas\n",
        "- scipy.optimize: nos proporciona funciones para optimizar"
      ]
    },
    {
      "cell_type": "code",
      "execution_count": 6,
      "metadata": {
        "id": "dwFsBATYg5lp"
      },
      "outputs": [],
      "source": [
        "import numpy as np\n",
        "import pandas as pd\n",
        "import yfinance as yf\n",
        "from sklearn.linear_model import LinearRegression\n",
        "import math\n",
        "import matplotlib.pyplot as plt\n",
        "from scipy.optimize import minimize"
      ]
    },
    {
      "attachments": {},
      "cell_type": "markdown",
      "metadata": {
        "id": "HiBmlx0Lg5lq"
      },
      "source": [
        "## Creamos una cartera con dos activos\n",
        "Descargamos los datos de  Yahoo! Finance"
      ]
    },
    {
      "cell_type": "code",
      "execution_count": 8,
      "metadata": {
        "id": "FFsQGwM5g5lq"
      },
      "outputs": [],
      "source": [
        "stocks_list = 'AAPL K'  # tickers separados por espacios\n",
        "start_date = '2009-01-01'\n",
        "end_date = '2019-01-01'"
      ]
    },
    {
      "cell_type": "code",
      "execution_count": 9,
      "metadata": {
        "colab": {
          "base_uri": "https://localhost:8080/",
          "height": 272
        },
        "id": "kA6KqiAKg5lr",
        "outputId": "3a059f15-5041-4b5f-b594-e40ea69e9ee7"
      },
      "outputs": [
        {
          "name": "stdout",
          "output_type": "stream",
          "text": [
            "[*********************100%***********************]  2 of 2 completed\n",
            "Stocks Prices:\n"
          ]
        },
        {
          "data": {
            "text/html": [
              "<div>\n",
              "<style scoped>\n",
              "    .dataframe tbody tr th:only-of-type {\n",
              "        vertical-align: middle;\n",
              "    }\n",
              "\n",
              "    .dataframe tbody tr th {\n",
              "        vertical-align: top;\n",
              "    }\n",
              "\n",
              "    .dataframe thead th {\n",
              "        text-align: right;\n",
              "    }\n",
              "</style>\n",
              "<table border=\"1\" class=\"dataframe\">\n",
              "  <thead>\n",
              "    <tr style=\"text-align: right;\">\n",
              "      <th></th>\n",
              "      <th>AAPL</th>\n",
              "      <th>K</th>\n",
              "    </tr>\n",
              "    <tr>\n",
              "      <th>Date</th>\n",
              "      <th></th>\n",
              "      <th></th>\n",
              "    </tr>\n",
              "  </thead>\n",
              "  <tbody>\n",
              "    <tr>\n",
              "      <th>2009-01-01</th>\n",
              "      <td>2.732215</td>\n",
              "      <td>24.645254</td>\n",
              "    </tr>\n",
              "    <tr>\n",
              "      <th>2009-02-01</th>\n",
              "      <td>2.707358</td>\n",
              "      <td>21.954523</td>\n",
              "    </tr>\n",
              "    <tr>\n",
              "      <th>2009-03-01</th>\n",
              "      <td>3.186624</td>\n",
              "      <td>20.857853</td>\n",
              "    </tr>\n",
              "    <tr>\n",
              "      <th>2009-04-01</th>\n",
              "      <td>3.814431</td>\n",
              "      <td>23.978283</td>\n",
              "    </tr>\n",
              "    <tr>\n",
              "      <th>2009-05-01</th>\n",
              "      <td>4.116967</td>\n",
              "      <td>24.627430</td>\n",
              "    </tr>\n",
              "  </tbody>\n",
              "</table>\n",
              "</div>"
            ],
            "text/plain": [
              "                AAPL          K\n",
              "Date                           \n",
              "2009-01-01  2.732215  24.645254\n",
              "2009-02-01  2.707358  21.954523\n",
              "2009-03-01  3.186624  20.857853\n",
              "2009-04-01  3.814431  23.978283\n",
              "2009-05-01  4.116967  24.627430"
            ]
          },
          "execution_count": 9,
          "metadata": {},
          "output_type": "execute_result"
        }
      ],
      "source": [
        "# Obtenemos los datos\n",
        "data = yf.download(tickers=stocks_list, start=start_date,\n",
        "                   end=end_date, interval=\"1mo\")['Adj Close'].dropna()\n",
        "print(\"Stocks Prices:\")\n",
        "data.head()"
      ]
    },
    {
      "attachments": {},
      "cell_type": "markdown",
      "metadata": {
        "id": "jxxcasZdg5ls"
      },
      "source": [
        "### Estadísticas descriptivas"
      ]
    },
    {
      "cell_type": "code",
      "execution_count": 11,
      "metadata": {
        "colab": {
          "base_uri": "https://localhost:8080/"
        },
        "id": "yC5XVf21g5ls",
        "outputId": "f816f324-615b-4923-cf1a-19c8a6a5427b"
      },
      "outputs": [
        {
          "name": "stdout",
          "output_type": "stream",
          "text": [
            "Rentabilidad mensual:\n",
            "                AAPL         K\n",
            "Date                          \n",
            "2009-02-01 -0.009140 -0.115611\n",
            "2009-03-01  0.162989 -0.051243\n",
            "2009-04-01  0.179829  0.139418\n",
            "2009-05-01  0.076325  0.026712\n",
            "2009-06-01  0.047594  0.082370\n"
          ]
        }
      ],
      "source": [
        "# Calculadmos la rentabilidad mensual\n",
        "monthly_ret = np.log(data).diff().dropna()\n",
        "print(\"Rentabilidad mensual:\")\n",
        "print(monthly_ret.head())"
      ]
    },
    {
      "cell_type": "code",
      "execution_count": 12,
      "metadata": {
        "colab": {
          "base_uri": "https://localhost:8080/"
        },
        "id": "2qNYWY6Tg5ls",
        "outputId": "6695b2b7-8294-48cb-e75c-914208319bdf"
      },
      "outputs": [
        {
          "name": "stdout",
          "output_type": "stream",
          "text": [
            "Rentabilidad media:\n",
            "AAPL    0.022099\n",
            "K       0.004978\n",
            "dtype: float64\n"
          ]
        }
      ],
      "source": [
        "# Rentabilidad medida\n",
        "mean_ret = monthly_ret.mean()\n",
        "print(\"Rentabilidad media:\")\n",
        "print(mean_ret)"
      ]
    },
    {
      "cell_type": "code",
      "execution_count": 13,
      "metadata": {
        "colab": {
          "base_uri": "https://localhost:8080/"
        },
        "id": "3JiYubhzg5lt",
        "outputId": "6d4c1890-fa8a-4d02-c9ea-12d970b374cc"
      },
      "outputs": [
        {
          "name": "stdout",
          "output_type": "stream",
          "text": [
            "Desviación típica:\n",
            "AAPL    0.074039\n",
            "K       0.045404\n",
            "dtype: float64\n"
          ]
        }
      ],
      "source": [
        "# Sigma\n",
        "sigma = monthly_ret.std()\n",
        "print(\"Desviación típica:\")\n",
        "print(sigma)"
      ]
    },
    {
      "cell_type": "code",
      "execution_count": 14,
      "metadata": {
        "colab": {
          "base_uri": "https://localhost:8080/"
        },
        "id": "Su8V9T-Bg5lt",
        "outputId": "73a16a5d-6bc5-4e35-d97e-bb247fcefe6b"
      },
      "outputs": [
        {
          "name": "stdout",
          "output_type": "stream",
          "text": [
            "Variance-Covariance Matrix:\n",
            "          AAPL         K\n",
            "AAPL  0.005482  0.000826\n",
            "K     0.000826  0.002062\n"
          ]
        }
      ],
      "source": [
        "# Matrix de varianza covarianza\n",
        "cov_mat = monthly_ret.cov()\n",
        "print(\"Variance-Covariance Matrix:\")\n",
        "print(cov_mat)"
      ]
    },
    {
      "cell_type": "code",
      "execution_count": 15,
      "metadata": {
        "colab": {
          "base_uri": "https://localhost:8080/"
        },
        "id": "jZPWYNXig5lt",
        "outputId": "8e0f0220-9ef1-4f39-a73c-05925fa6c7a2"
      },
      "outputs": [
        {
          "name": "stdout",
          "output_type": "stream",
          "text": [
            "Correlation Matrix\n",
            "          AAPL         K\n",
            "AAPL  1.000000  0.245719\n",
            "K     0.245719  1.000000\n"
          ]
        }
      ],
      "source": [
        "# Matriz de correlaciones\n",
        "corr_mat = monthly_ret.corr()\n",
        "print(\"Correlation Matrix\")\n",
        "print(corr_mat)"
      ]
    },
    {
      "attachments": {},
      "cell_type": "markdown",
      "metadata": {
        "id": "Ftv1eZw3g5lt"
      },
      "source": [
        "### Construimos una cartera"
      ]
    },
    {
      "cell_type": "code",
      "execution_count": null,
      "metadata": {
        "colab": {
          "base_uri": "https://localhost:8080/"
        },
        "id": "5li0g-4eg5lu",
        "outputId": "507d93c0-ef3d-4279-8b95-ce68d29242c7"
      },
      "outputs": [
        {
          "name": "stdout",
          "output_type": "stream",
          "text": [
            "         AAPL    K\n",
            "Weights   0.5  0.5\n"
          ]
        }
      ],
      "source": [
        "# Set proportions\n",
        "Xa = 0.5\n",
        "Xb = 1 - Xa\n",
        "proportions = pd.DataFrame(data = [[Xa], [Xb]],columns = ['Weights'], index = ['AAPL','K']).transpose()\n",
        "print(proportions)"
      ]
    },
    {
      "cell_type": "code",
      "execution_count": null,
      "metadata": {
        "colab": {
          "base_uri": "https://localhost:8080/",
          "height": 179
        },
        "id": "UTGuJwTMlgB2",
        "outputId": "1d9db69f-c7b8-4a11-f12e-3f137e2e46db"
      },
      "outputs": [
        {
          "data": {
            "text/html": [
              "\n",
              "  <div id=\"df-1e128321-67b1-4842-8915-d32fbc7993f3\" class=\"colab-df-container\">\n",
              "    <div>\n",
              "<style scoped>\n",
              "    .dataframe tbody tr th:only-of-type {\n",
              "        vertical-align: middle;\n",
              "    }\n",
              "\n",
              "    .dataframe tbody tr th {\n",
              "        vertical-align: top;\n",
              "    }\n",
              "\n",
              "    .dataframe thead th {\n",
              "        text-align: right;\n",
              "    }\n",
              "</style>\n",
              "<table border=\"1\" class=\"dataframe\">\n",
              "  <thead>\n",
              "    <tr style=\"text-align: right;\">\n",
              "      <th>Date</th>\n",
              "      <th>2009-02-01</th>\n",
              "      <th>2009-03-01</th>\n",
              "      <th>2009-04-01</th>\n",
              "      <th>2009-05-01</th>\n",
              "      <th>2009-06-01</th>\n",
              "      <th>2009-07-01</th>\n",
              "      <th>2009-08-01</th>\n",
              "      <th>2009-09-01</th>\n",
              "      <th>2009-10-01</th>\n",
              "      <th>2009-11-01</th>\n",
              "      <th>...</th>\n",
              "      <th>2018-03-01</th>\n",
              "      <th>2018-04-01</th>\n",
              "      <th>2018-05-01</th>\n",
              "      <th>2018-06-01</th>\n",
              "      <th>2018-07-01</th>\n",
              "      <th>2018-08-01</th>\n",
              "      <th>2018-09-01</th>\n",
              "      <th>2018-10-01</th>\n",
              "      <th>2018-11-01</th>\n",
              "      <th>2018-12-01</th>\n",
              "    </tr>\n",
              "  </thead>\n",
              "  <tbody>\n",
              "    <tr>\n",
              "      <th>AAPL</th>\n",
              "      <td>-0.009140</td>\n",
              "      <td>0.162989</td>\n",
              "      <td>0.179830</td>\n",
              "      <td>0.076325</td>\n",
              "      <td>0.047594</td>\n",
              "      <td>0.137289</td>\n",
              "      <td>0.029073</td>\n",
              "      <td>0.097033</td>\n",
              "      <td>0.016852</td>\n",
              "      <td>0.058769</td>\n",
              "      <td>...</td>\n",
              "      <td>-0.055735</td>\n",
              "      <td>-0.015134</td>\n",
              "      <td>0.122893</td>\n",
              "      <td>-0.005614</td>\n",
              "      <td>0.027599</td>\n",
              "      <td>0.179172</td>\n",
              "      <td>-0.004837</td>\n",
              "      <td>-0.030952</td>\n",
              "      <td>-0.203396</td>\n",
              "      <td>-0.120606</td>\n",
              "    </tr>\n",
              "    <tr>\n",
              "      <th>K</th>\n",
              "      <td>-0.115611</td>\n",
              "      <td>-0.051819</td>\n",
              "      <td>0.139418</td>\n",
              "      <td>0.026712</td>\n",
              "      <td>0.081856</td>\n",
              "      <td>0.019773</td>\n",
              "      <td>-0.008669</td>\n",
              "      <td>0.052460</td>\n",
              "      <td>0.045855</td>\n",
              "      <td>0.019978</td>\n",
              "      <td>...</td>\n",
              "      <td>-0.018139</td>\n",
              "      <td>-0.090597</td>\n",
              "      <td>0.089117</td>\n",
              "      <td>0.089897</td>\n",
              "      <td>0.016466</td>\n",
              "      <td>0.010643</td>\n",
              "      <td>-0.017129</td>\n",
              "      <td>-0.067036</td>\n",
              "      <td>-0.028345</td>\n",
              "      <td>-0.101279</td>\n",
              "    </tr>\n",
              "  </tbody>\n",
              "</table>\n",
              "<p>2 rows × 119 columns</p>\n",
              "</div>\n",
              "    <div class=\"colab-df-buttons\">\n",
              "\n",
              "  <div class=\"colab-df-container\">\n",
              "    <button class=\"colab-df-convert\" onclick=\"convertToInteractive('df-1e128321-67b1-4842-8915-d32fbc7993f3')\"\n",
              "            title=\"Convert this dataframe to an interactive table.\"\n",
              "            style=\"display:none;\">\n",
              "\n",
              "  <svg xmlns=\"http://www.w3.org/2000/svg\" height=\"24px\" viewBox=\"0 -960 960 960\">\n",
              "    <path d=\"M120-120v-720h720v720H120Zm60-500h600v-160H180v160Zm220 220h160v-160H400v160Zm0 220h160v-160H400v160ZM180-400h160v-160H180v160Zm440 0h160v-160H620v160ZM180-180h160v-160H180v160Zm440 0h160v-160H620v160Z\"/>\n",
              "  </svg>\n",
              "    </button>\n",
              "\n",
              "  <style>\n",
              "    .colab-df-container {\n",
              "      display:flex;\n",
              "      gap: 12px;\n",
              "    }\n",
              "\n",
              "    .colab-df-convert {\n",
              "      background-color: #E8F0FE;\n",
              "      border: none;\n",
              "      border-radius: 50%;\n",
              "      cursor: pointer;\n",
              "      display: none;\n",
              "      fill: #1967D2;\n",
              "      height: 32px;\n",
              "      padding: 0 0 0 0;\n",
              "      width: 32px;\n",
              "    }\n",
              "\n",
              "    .colab-df-convert:hover {\n",
              "      background-color: #E2EBFA;\n",
              "      box-shadow: 0px 1px 2px rgba(60, 64, 67, 0.3), 0px 1px 3px 1px rgba(60, 64, 67, 0.15);\n",
              "      fill: #174EA6;\n",
              "    }\n",
              "\n",
              "    .colab-df-buttons div {\n",
              "      margin-bottom: 4px;\n",
              "    }\n",
              "\n",
              "    [theme=dark] .colab-df-convert {\n",
              "      background-color: #3B4455;\n",
              "      fill: #D2E3FC;\n",
              "    }\n",
              "\n",
              "    [theme=dark] .colab-df-convert:hover {\n",
              "      background-color: #434B5C;\n",
              "      box-shadow: 0px 1px 3px 1px rgba(0, 0, 0, 0.15);\n",
              "      filter: drop-shadow(0px 1px 2px rgba(0, 0, 0, 0.3));\n",
              "      fill: #FFFFFF;\n",
              "    }\n",
              "  </style>\n",
              "\n",
              "    <script>\n",
              "      const buttonEl =\n",
              "        document.querySelector('#df-1e128321-67b1-4842-8915-d32fbc7993f3 button.colab-df-convert');\n",
              "      buttonEl.style.display =\n",
              "        google.colab.kernel.accessAllowed ? 'block' : 'none';\n",
              "\n",
              "      async function convertToInteractive(key) {\n",
              "        const element = document.querySelector('#df-1e128321-67b1-4842-8915-d32fbc7993f3');\n",
              "        const dataTable =\n",
              "          await google.colab.kernel.invokeFunction('convertToInteractive',\n",
              "                                                    [key], {});\n",
              "        if (!dataTable) return;\n",
              "\n",
              "        const docLinkHtml = 'Like what you see? Visit the ' +\n",
              "          '<a target=\"_blank\" href=https://colab.research.google.com/notebooks/data_table.ipynb>data table notebook</a>'\n",
              "          + ' to learn more about interactive tables.';\n",
              "        element.innerHTML = '';\n",
              "        dataTable['output_type'] = 'display_data';\n",
              "        await google.colab.output.renderOutput(dataTable, element);\n",
              "        const docLink = document.createElement('div');\n",
              "        docLink.innerHTML = docLinkHtml;\n",
              "        element.appendChild(docLink);\n",
              "      }\n",
              "    </script>\n",
              "  </div>\n",
              "\n",
              "\n",
              "<div id=\"df-cc922dc2-ae68-4721-bd9a-c8c97f6569fe\">\n",
              "  <button class=\"colab-df-quickchart\" onclick=\"quickchart('df-cc922dc2-ae68-4721-bd9a-c8c97f6569fe')\"\n",
              "            title=\"Suggest charts.\"\n",
              "            style=\"display:none;\">\n",
              "\n",
              "<svg xmlns=\"http://www.w3.org/2000/svg\" height=\"24px\"viewBox=\"0 0 24 24\"\n",
              "     width=\"24px\">\n",
              "    <g>\n",
              "        <path d=\"M19 3H5c-1.1 0-2 .9-2 2v14c0 1.1.9 2 2 2h14c1.1 0 2-.9 2-2V5c0-1.1-.9-2-2-2zM9 17H7v-7h2v7zm4 0h-2V7h2v10zm4 0h-2v-4h2v4z\"/>\n",
              "    </g>\n",
              "</svg>\n",
              "  </button>\n",
              "\n",
              "<style>\n",
              "  .colab-df-quickchart {\n",
              "      --bg-color: #E8F0FE;\n",
              "      --fill-color: #1967D2;\n",
              "      --hover-bg-color: #E2EBFA;\n",
              "      --hover-fill-color: #174EA6;\n",
              "      --disabled-fill-color: #AAA;\n",
              "      --disabled-bg-color: #DDD;\n",
              "  }\n",
              "\n",
              "  [theme=dark] .colab-df-quickchart {\n",
              "      --bg-color: #3B4455;\n",
              "      --fill-color: #D2E3FC;\n",
              "      --hover-bg-color: #434B5C;\n",
              "      --hover-fill-color: #FFFFFF;\n",
              "      --disabled-bg-color: #3B4455;\n",
              "      --disabled-fill-color: #666;\n",
              "  }\n",
              "\n",
              "  .colab-df-quickchart {\n",
              "    background-color: var(--bg-color);\n",
              "    border: none;\n",
              "    border-radius: 50%;\n",
              "    cursor: pointer;\n",
              "    display: none;\n",
              "    fill: var(--fill-color);\n",
              "    height: 32px;\n",
              "    padding: 0;\n",
              "    width: 32px;\n",
              "  }\n",
              "\n",
              "  .colab-df-quickchart:hover {\n",
              "    background-color: var(--hover-bg-color);\n",
              "    box-shadow: 0 1px 2px rgba(60, 64, 67, 0.3), 0 1px 3px 1px rgba(60, 64, 67, 0.15);\n",
              "    fill: var(--button-hover-fill-color);\n",
              "  }\n",
              "\n",
              "  .colab-df-quickchart-complete:disabled,\n",
              "  .colab-df-quickchart-complete:disabled:hover {\n",
              "    background-color: var(--disabled-bg-color);\n",
              "    fill: var(--disabled-fill-color);\n",
              "    box-shadow: none;\n",
              "  }\n",
              "\n",
              "  .colab-df-spinner {\n",
              "    border: 2px solid var(--fill-color);\n",
              "    border-color: transparent;\n",
              "    border-bottom-color: var(--fill-color);\n",
              "    animation:\n",
              "      spin 1s steps(1) infinite;\n",
              "  }\n",
              "\n",
              "  @keyframes spin {\n",
              "    0% {\n",
              "      border-color: transparent;\n",
              "      border-bottom-color: var(--fill-color);\n",
              "      border-left-color: var(--fill-color);\n",
              "    }\n",
              "    20% {\n",
              "      border-color: transparent;\n",
              "      border-left-color: var(--fill-color);\n",
              "      border-top-color: var(--fill-color);\n",
              "    }\n",
              "    30% {\n",
              "      border-color: transparent;\n",
              "      border-left-color: var(--fill-color);\n",
              "      border-top-color: var(--fill-color);\n",
              "      border-right-color: var(--fill-color);\n",
              "    }\n",
              "    40% {\n",
              "      border-color: transparent;\n",
              "      border-right-color: var(--fill-color);\n",
              "      border-top-color: var(--fill-color);\n",
              "    }\n",
              "    60% {\n",
              "      border-color: transparent;\n",
              "      border-right-color: var(--fill-color);\n",
              "    }\n",
              "    80% {\n",
              "      border-color: transparent;\n",
              "      border-right-color: var(--fill-color);\n",
              "      border-bottom-color: var(--fill-color);\n",
              "    }\n",
              "    90% {\n",
              "      border-color: transparent;\n",
              "      border-bottom-color: var(--fill-color);\n",
              "    }\n",
              "  }\n",
              "</style>\n",
              "\n",
              "  <script>\n",
              "    async function quickchart(key) {\n",
              "      const quickchartButtonEl =\n",
              "        document.querySelector('#' + key + ' button');\n",
              "      quickchartButtonEl.disabled = true;  // To prevent multiple clicks.\n",
              "      quickchartButtonEl.classList.add('colab-df-spinner');\n",
              "      try {\n",
              "        const charts = await google.colab.kernel.invokeFunction(\n",
              "            'suggestCharts', [key], {});\n",
              "      } catch (error) {\n",
              "        console.error('Error during call to suggestCharts:', error);\n",
              "      }\n",
              "      quickchartButtonEl.classList.remove('colab-df-spinner');\n",
              "      quickchartButtonEl.classList.add('colab-df-quickchart-complete');\n",
              "    }\n",
              "    (() => {\n",
              "      let quickchartButtonEl =\n",
              "        document.querySelector('#df-cc922dc2-ae68-4721-bd9a-c8c97f6569fe button');\n",
              "      quickchartButtonEl.style.display =\n",
              "        google.colab.kernel.accessAllowed ? 'block' : 'none';\n",
              "    })();\n",
              "  </script>\n",
              "</div>\n",
              "    </div>\n",
              "  </div>\n"
            ],
            "text/plain": [
              "Date  2009-02-01  2009-03-01  2009-04-01  2009-05-01  2009-06-01  2009-07-01  \\\n",
              "AAPL   -0.009140    0.162989    0.179830    0.076325    0.047594    0.137289   \n",
              "K      -0.115611   -0.051819    0.139418    0.026712    0.081856    0.019773   \n",
              "\n",
              "Date  2009-08-01  2009-09-01  2009-10-01  2009-11-01  ...  2018-03-01  \\\n",
              "AAPL    0.029073    0.097033    0.016852    0.058769  ...   -0.055735   \n",
              "K      -0.008669    0.052460    0.045855    0.019978  ...   -0.018139   \n",
              "\n",
              "Date  2018-04-01  2018-05-01  2018-06-01  2018-07-01  2018-08-01  2018-09-01  \\\n",
              "AAPL   -0.015134    0.122893   -0.005614    0.027599    0.179172   -0.004837   \n",
              "K      -0.090597    0.089117    0.089897    0.016466    0.010643   -0.017129   \n",
              "\n",
              "Date  2018-10-01  2018-11-01  2018-12-01  \n",
              "AAPL   -0.030952   -0.203396   -0.120606  \n",
              "K      -0.067036   -0.028345   -0.101279  \n",
              "\n",
              "[2 rows x 119 columns]"
            ]
          },
          "execution_count": 12,
          "metadata": {},
          "output_type": "execute_result"
        }
      ],
      "source": [
        "t_monthly_ret = monthly_ret.transpose()\n",
        "t_monthly_ret.head()"
      ]
    },
    {
      "cell_type": "code",
      "execution_count": null,
      "metadata": {
        "colab": {
          "base_uri": "https://localhost:8080/"
        },
        "id": "k-IlUHE1g5lu",
        "outputId": "18b05abf-b9e6-4972-f4f8-a307ced07c0c",
        "scrolled": true
      },
      "outputs": [
        {
          "name": "stdout",
          "output_type": "stream",
          "text": [
            "            Portfolio Returns\n",
            "Date                         \n",
            "2009-02-01          -0.062375\n",
            "2009-03-01           0.055585\n",
            "2009-04-01           0.159624\n",
            "2009-05-01           0.051518\n",
            "2009-06-01           0.064725\n"
          ]
        }
      ],
      "source": [
        "# Portfolio Returns\n",
        "t_monthly_ret = monthly_ret.transpose()\n",
        "port_ret = proportions.dot(t_monthly_ret).transpose()\n",
        "port_ret.columns = ['Portfolio Returns']\n",
        "print(port_ret.head())"
      ]
    },
    {
      "cell_type": "code",
      "execution_count": null,
      "metadata": {
        "colab": {
          "base_uri": "https://localhost:8080/"
        },
        "id": "YzkkCzjSg5lu",
        "outputId": "a8b52388-44b7-49db-a768-970d8c072bd6"
      },
      "outputs": [
        {
          "name": "stdout",
          "output_type": "stream",
          "text": [
            "Portfolio Variance    0.002299\n",
            "dtype: float64\n"
          ]
        }
      ],
      "source": [
        "# Calculate portfolio Variance\n",
        "port_var = proportions.dot(cov_mat).dot(proportions.transpose()).iloc[0,0]\n",
        "print(pd.Series(port_var,index=[\"Portfolio Variance\"]))"
      ]
    },
    {
      "cell_type": "code",
      "execution_count": null,
      "metadata": {
        "colab": {
          "base_uri": "https://localhost:8080/"
        },
        "id": "2_KqBEyxg5lv",
        "outputId": "7f89ac4b-9f88-4a26-b9a4-583d0f4d9528"
      },
      "outputs": [
        {
          "name": "stdout",
          "output_type": "stream",
          "text": [
            "Portfolio Sigma    0.047952\n",
            "dtype: float64\n"
          ]
        }
      ],
      "source": [
        "# Calculate portfolio Sigma\n",
        "port_sigma = math.sqrt(port_var)\n",
        "print(pd.Series(port_sigma,index=[\"Portfolio Sigma\"]))"
      ]
    }
  ],
  "metadata": {
    "colab": {
      "provenance": []
    },
    "kernelspec": {
      "display_name": "Python 3",
      "language": "python",
      "name": "python3"
    },
    "language_info": {
      "codemirror_mode": {
        "name": "ipython",
        "version": 3
      },
      "file_extension": ".py",
      "mimetype": "text/x-python",
      "name": "python",
      "nbconvert_exporter": "python",
      "pygments_lexer": "ipython3",
      "version": "3.9.13"
    }
  },
  "nbformat": 4,
  "nbformat_minor": 0
}
