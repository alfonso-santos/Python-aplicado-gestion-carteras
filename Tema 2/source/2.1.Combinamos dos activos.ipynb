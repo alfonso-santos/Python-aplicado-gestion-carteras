{
  "cells": [
    {
      "attachments": {},
      "cell_type": "markdown",
      "metadata": {},
      "source": [
        "# RENTABILIDAD Y VOLATILIDAD DE UNA CARTERA"
      ]
    },
    {
      "attachments": {},
      "cell_type": "markdown",
      "metadata": {},
      "source": [
        "## Rentabilidad de una cartera \n",
        "\n",
        "Disponemos de $n$ activos tipificados por una rentabilidad media y media $mu_i$ y un nivel de volatilidad $\\sigma_i$. Vamos a crear una cartera en la que invertimos una porporción $w_i$ de cada activo. Lógicamente $\\sum_i^n w_i=1$.\n",
        "\n",
        "La rentabilidad esperada de la cartera $\\phi$ será:\n",
        "\n",
        "$$E(\\phi)=\\mu(\\phi)=\\sum_i^n w_i·\\mu_i$$\n",
        "\n",
        "Si $\\mu$ es el vector de rectabilidades esperadas: $\\mu=\\left(\\begin{array}{clr} \\mu_1 \\\\ \\mu_2 \\\\ ... \\\\ \\mu_n \\end{array}\\right)$ \n",
        "\n",
        "Si $w$ es el vector de ponderaciones de la carter $\\phi$: $w=\\left(\\begin{array}{clr} w_1 \\\\ w_2 \\\\ ... \\\\ w_n \\end{array}\\right)$\n",
        "\n",
        "La rentabilidad puede estimarse\n",
        "\n",
        "$$\\begin{align}\n",
        "\\mu(\\phi) &= w^T \\times \\mu \\\\ \n",
        "&=\\left(\\begin{array}{clr} w_1 & w_2 & ... & w_n \\end{array}\\right)\\left(\\begin{array}{clr} \\mu_1 \\\\ \\mu_2 \\\\ ... \\\\ \\mu_n \\end{array}\\right)\n",
        "\\end{align}$$"
      ]
    },
    {
      "attachments": {},
      "cell_type": "markdown",
      "metadata": {},
      "source": [
        "## Volatilidad de una cartera \n",
        "\n",
        "### 2 activos\n",
        "\n",
        "Disponemos de dos activos $a=(\\mu_a,\\sigma_a)$ y $b=(\\mu_b,\\sigma_b)$, invertimos $w$ en el activo $a$ y $1-w$ en el activo b. La covarianza entre ambos activos es $\\sigma_ab$.\n",
        "\n",
        "La varianza de la cartera $\\phi$ será:\n",
        "\n",
        "$$\\sigma^2(\\phi)=w^2·\\sigma_a^2+(1-w)^2·\\sigma_b^2+ 2·w_a·w_b·\\sigma_ab $$\n",
        "\n",
        "La volatilidad será: \n",
        "\n",
        "$$\\sigma(\\phi)=\\sqrt{\\sigma^2 (\\phi)}$$\n",
        "\n",
        "### n activos\n",
        "\n",
        "Disponemos de $n$ activos tipificados por una rentabilidad media y media $mu_i$ y un nivel de volatilidad $\\sigma_i$. Vamos a crear una cartera en la que invertimos una porporción $w_i$ de cada activo. Lógicamente $\\sum_i^n w_i=1$.\n",
        "\n",
        "La varianza de la cartera $\\phi$ será:\n",
        "\n",
        "$$\\sigma^2(\\phi)=\\sum_{i=1}^n\\sum_{j=1}^n w_i·w_j·\\sigma_ij $$\n",
        "\n",
        "Si $S$ representa la matriz de varianzas covarianzas: \n",
        "\n",
        "$$S=\\left(\\begin{array}{clr} \n",
        "\\sigma^2_1 & \\sigma_{12} & ... & \\sigma_{1n}  \\\\\n",
        " \\sigma_{21} & \\sigma^2_2 & ... & \\sigma_{2n} \\\\\n",
        " ... & ... & ... & ... \\\\\n",
        " \\sigma_{n1} & \\sigma_{n2} & ... & \\sigma^2_n \\\\\n",
        " \n",
        " \\end{array}\\right)$$\n",
        "\n",
        "La varianza de la cartera $\\phi$ será:\n",
        "$$\\begin{align}\n",
        "\\sigma^2(\\phi) &=w^T \\times S \\times w \\\\\n",
        "=& \\left(\\begin{array}{clr} w_1 & w_2 & ... & w_n \\end{array}\\right) \n",
        "\\left(\\begin{array}{clr} \n",
        "\\sigma^2_1 & \\sigma_{12} & ... & \\sigma_{1n}  \\\\\n",
        " \\sigma_{21} & \\sigma^2_2 & ... & \\sigma_{2n} \\\\\n",
        " ... & ... & ... & ... \\\\\n",
        " \\sigma_{n1} & \\sigma_{n2} & ... & \\sigma^2_n \\\\\n",
        " \\end{array}\\right)\n",
        " \\left(\\begin{array}{clr} w_1 \\\\ w_2 \\\\ ... \\\\ w_n \\end{array}\\right)\n",
        " \\end{align}$$\n"
      ]
    },
    {
      "cell_type": "markdown",
      "metadata": {
        "id": "jp0V-beag5ln"
      },
      "source": [
        "Instalamos yfinance para poder sacar datos directamente de la página web"
      ]
    },
    {
      "cell_type": "code",
      "execution_count": 1,
      "metadata": {
        "colab": {
          "base_uri": "https://localhost:8080/"
        },
        "id": "q84imkBHg5ln",
        "outputId": "7f1a55f4-05fb-49ee-c1b8-60efdc4758bb"
      },
      "outputs": [
        {
          "name": "stdout",
          "output_type": "stream",
          "text": [
            "Requirement already satisfied: yfinance in /opt/anaconda3/lib/python3.9/site-packages (0.2.11)\n",
            "Requirement already satisfied: pandas>=1.3.0 in /opt/anaconda3/lib/python3.9/site-packages (from yfinance) (1.5.3)\n",
            "Requirement already satisfied: numpy>=1.16.5 in /opt/anaconda3/lib/python3.9/site-packages (from yfinance) (1.21.6)\n",
            "Requirement already satisfied: requests>=2.26 in /opt/anaconda3/lib/python3.9/site-packages (from yfinance) (2.26.0)\n",
            "Requirement already satisfied: multitasking>=0.0.7 in /opt/anaconda3/lib/python3.9/site-packages (from yfinance) (0.0.11)\n",
            "Requirement already satisfied: lxml>=4.9.1 in /opt/anaconda3/lib/python3.9/site-packages (from yfinance) (4.9.1)\n",
            "Requirement already satisfied: appdirs>=1.4.4 in /opt/anaconda3/lib/python3.9/site-packages (from yfinance) (1.4.4)\n",
            "Requirement already satisfied: pytz>=2022.5 in /opt/anaconda3/lib/python3.9/site-packages (from yfinance) (2022.7.1)\n",
            "Requirement already satisfied: frozendict>=2.3.4 in /opt/anaconda3/lib/python3.9/site-packages (from yfinance) (2.3.4)\n",
            "Requirement already satisfied: cryptography>=3.3.2 in /opt/anaconda3/lib/python3.9/site-packages (from yfinance) (37.0.1)\n",
            "Collecting beautifulsoup4>=4.11.1 (from yfinance)\n",
            "  Using cached beautifulsoup4-4.12.2-py3-none-any.whl (142 kB)\n",
            "Requirement already satisfied: html5lib>=1.1 in /opt/anaconda3/lib/python3.9/site-packages (from yfinance) (1.1)\n",
            "Requirement already satisfied: soupsieve>1.2 in /opt/anaconda3/lib/python3.9/site-packages (from beautifulsoup4>=4.11.1->yfinance) (2.3.1)\n",
            "Requirement already satisfied: cffi>=1.12 in /opt/anaconda3/lib/python3.9/site-packages (from cryptography>=3.3.2->yfinance) (1.15.1)\n",
            "Requirement already satisfied: six>=1.9 in /opt/anaconda3/lib/python3.9/site-packages (from html5lib>=1.1->yfinance) (1.16.0)\n",
            "Requirement already satisfied: webencodings in /opt/anaconda3/lib/python3.9/site-packages (from html5lib>=1.1->yfinance) (0.5.1)\n",
            "Requirement already satisfied: python-dateutil>=2.8.1 in /opt/anaconda3/lib/python3.9/site-packages (from pandas>=1.3.0->yfinance) (2.8.2)\n",
            "Requirement already satisfied: urllib3<1.27,>=1.21.1 in /opt/anaconda3/lib/python3.9/site-packages (from requests>=2.26->yfinance) (1.26.11)\n",
            "Requirement already satisfied: certifi>=2017.4.17 in /opt/anaconda3/lib/python3.9/site-packages (from requests>=2.26->yfinance) (2022.9.24)\n",
            "Requirement already satisfied: charset-normalizer~=2.0.0 in /opt/anaconda3/lib/python3.9/site-packages (from requests>=2.26->yfinance) (2.0.12)\n",
            "Requirement already satisfied: idna<4,>=2.5 in /opt/anaconda3/lib/python3.9/site-packages (from requests>=2.26->yfinance) (2.10)\n",
            "Requirement already satisfied: pycparser in /opt/anaconda3/lib/python3.9/site-packages (from cffi>=1.12->cryptography>=3.3.2->yfinance) (2.21)\n",
            "Installing collected packages: beautifulsoup4\n",
            "  Attempting uninstall: beautifulsoup4\n",
            "    Found existing installation: beautifulsoup4 4.9.3\n",
            "    Uninstalling beautifulsoup4-4.9.3:\n",
            "      Successfully uninstalled beautifulsoup4-4.9.3\n",
            "\u001b[31mERROR: pip's dependency resolver does not currently take into account all the packages that are installed. This behaviour is the source of the following dependency conflicts.\n",
            "gnews 0.2.7 requires beautifulsoup4~=4.9.3, but you have beautifulsoup4 4.12.2 which is incompatible.\n",
            "openbb 2.3.1 requires charset-normalizer==2.1.1, but you have charset-normalizer 2.0.12 which is incompatible.\n",
            "openbb 2.3.1 requires dnspython<3.0.0,>=2.1.0, but you have dnspython 1.16.0 which is incompatible.\n",
            "openbb 2.3.1 requires fredapi<0.5.0,>=0.4.3, but you have fredapi 0.5.0 which is incompatible.\n",
            "openbb 2.3.1 requires ipympl<0.9.0,>=0.8.2, but you have ipympl 0.9.2 which is incompatible.\n",
            "openbb 2.3.1 requires numpy==1.23.4, but you have numpy 1.21.6 which is incompatible.\n",
            "openbb 2.3.1 requires oandapyV20<0.7.0,>=0.6.3, but you have oandapyv20 0.7.2 which is incompatible.\n",
            "openbb 2.3.1 requires protobuf==3.20.1, but you have protobuf 4.22.0 which is incompatible.\n",
            "openbb 2.3.1 requires pycoingecko<3.0.0,>=2.2.0, but you have pycoingecko 3.1.0 which is incompatible.\n",
            "openbb 2.3.1 requires python-coinmarketcap<0.3,>=0.2, but you have python-coinmarketcap 0.5 which is incompatible.\n",
            "openbb 2.3.1 requires rapidfuzz<2.0.0,>=1.1.1, but you have rapidfuzz 2.13.7 which is incompatible.\n",
            "openbb 2.3.1 requires rich<13.0.0,>=12.6.0, but you have rich 13.3.1 which is incompatible.\n",
            "openbb 2.3.1 requires scipy<2.0.0,>=1.9.3, but you have scipy 1.7.3 which is incompatible.\n",
            "openbb 2.3.1 requires screeninfo<0.7.0,>=0.6.7, but you have screeninfo 0.8.1 which is incompatible.\n",
            "openbb 2.3.1 requires setuptools<65.5.0, but you have setuptools 67.3.1 which is incompatible.\n",
            "pointpats 2.3.0 requires scipy>=1.8.0, but you have scipy 1.7.3 which is incompatible.\n",
            "spyder 5.3.3 requires ipython<8.0.0,>=7.31.1, but you have ipython 8.5.0 which is incompatible.\u001b[0m\u001b[31m\n",
            "\u001b[0mSuccessfully installed beautifulsoup4-4.12.2\n",
            "\n",
            "\u001b[1m[\u001b[0m\u001b[34;49mnotice\u001b[0m\u001b[1;39;49m]\u001b[0m\u001b[39;49m A new release of pip is available: \u001b[0m\u001b[31;49m23.2.1\u001b[0m\u001b[39;49m -> \u001b[0m\u001b[32;49m23.3.1\u001b[0m\n",
            "\u001b[1m[\u001b[0m\u001b[34;49mnotice\u001b[0m\u001b[1;39;49m]\u001b[0m\u001b[39;49m To update, run: \u001b[0m\u001b[32;49mpip install --upgrade pip\u001b[0m\n",
            "Note: you may need to restart the kernel to use updated packages.\n"
          ]
        }
      ],
      "source": [
        "pip install yfinance"
      ]
    },
    {
      "cell_type": "code",
      "execution_count": 2,
      "metadata": {},
      "outputs": [
        {
          "name": "stdout",
          "output_type": "stream",
          "text": [
            "Requirement already satisfied: pip in /opt/anaconda3/lib/python3.9/site-packages (23.2.1)\n",
            "Collecting pip\n",
            "  Obtaining dependency information for pip from https://files.pythonhosted.org/packages/47/6a/453160888fab7c6a432a6e25f8afe6256d0d9f2cbd25971021da6491d899/pip-23.3.1-py3-none-any.whl.metadata\n",
            "  Downloading pip-23.3.1-py3-none-any.whl.metadata (3.5 kB)\n",
            "Downloading pip-23.3.1-py3-none-any.whl (2.1 MB)\n",
            "\u001b[2K   \u001b[90m━━━━━━━━━━━━━━━━━━━━━━━━━━━━━━━━━━━━━━━━\u001b[0m \u001b[32m2.1/2.1 MB\u001b[0m \u001b[31m11.2 MB/s\u001b[0m eta \u001b[36m0:00:00\u001b[0m00:01\u001b[0m00:01\u001b[0m\n",
            "\u001b[?25hInstalling collected packages: pip\n",
            "  Attempting uninstall: pip\n",
            "    Found existing installation: pip 23.2.1\n",
            "    Uninstalling pip-23.2.1:\n",
            "      Successfully uninstalled pip-23.2.1\n",
            "Successfully installed pip-23.3.1\n",
            "Note: you may need to restart the kernel to use updated packages.\n"
          ]
        }
      ],
      "source": [
        "pip install --upgrade pip"
      ]
    },
    {
      "cell_type": "markdown",
      "metadata": {
        "id": "DJc8A8Lvg5lp"
      },
      "source": [
        "Importamos las librerias\n",
        "\n",
        "Numpy: es una librería para el cálculo numérico.\n",
        "- Pandas: es una librería para el manejo de los datos\n",
        "- sklearn : es una librería espectacular para implementar los algoritmos de Machine Learning\n",
        "- math: es una librería de operadores matemáticos\n",
        "- matplotlib: es una librería para representaciones gráficas\n",
        "- scipy.optimize: nos proporciona funciones para optimizar"
      ]
    },
    {
      "cell_type": "code",
      "execution_count": 1,
      "metadata": {
        "id": "dwFsBATYg5lp"
      },
      "outputs": [],
      "source": [
        "import numpy as np\n",
        "import pandas as pd\n",
        "import yfinance as yf\n",
        "from sklearn.linear_model import LinearRegression\n",
        "import math\n",
        "import matplotlib.pyplot as plt\n",
        "from scipy.optimize import minimize"
      ]
    },
    {
      "attachments": {},
      "cell_type": "markdown",
      "metadata": {
        "id": "HiBmlx0Lg5lq"
      },
      "source": [
        "## Creamos una cartera con dos activos\n",
        "Descargamos los datos de  Yahoo! Finance"
      ]
    },
    {
      "cell_type": "code",
      "execution_count": 2,
      "metadata": {
        "id": "FFsQGwM5g5lq"
      },
      "outputs": [],
      "source": [
        "stocks_list = 'AAPL K'  # tickers separados por espacios\n",
        "start_date = '2009-01-01'\n",
        "end_date = '2019-01-01'"
      ]
    },
    {
      "cell_type": "code",
      "execution_count": 3,
      "metadata": {
        "colab": {
          "base_uri": "https://localhost:8080/",
          "height": 272
        },
        "id": "kA6KqiAKg5lr",
        "outputId": "3a059f15-5041-4b5f-b594-e40ea69e9ee7"
      },
      "outputs": [
        {
          "name": "stdout",
          "output_type": "stream",
          "text": [
            "[*********************100%***********************]  2 of 2 completed\n",
            "Stocks Prices:\n"
          ]
        },
        {
          "data": {
            "text/html": [
              "<div>\n",
              "<style scoped>\n",
              "    .dataframe tbody tr th:only-of-type {\n",
              "        vertical-align: middle;\n",
              "    }\n",
              "\n",
              "    .dataframe tbody tr th {\n",
              "        vertical-align: top;\n",
              "    }\n",
              "\n",
              "    .dataframe thead th {\n",
              "        text-align: right;\n",
              "    }\n",
              "</style>\n",
              "<table border=\"1\" class=\"dataframe\">\n",
              "  <thead>\n",
              "    <tr style=\"text-align: right;\">\n",
              "      <th></th>\n",
              "      <th>AAPL</th>\n",
              "      <th>K</th>\n",
              "    </tr>\n",
              "    <tr>\n",
              "      <th>Date</th>\n",
              "      <th></th>\n",
              "      <th></th>\n",
              "    </tr>\n",
              "  </thead>\n",
              "  <tbody>\n",
              "    <tr>\n",
              "      <th>2009-01-01</th>\n",
              "      <td>2.732216</td>\n",
              "      <td>24.645245</td>\n",
              "    </tr>\n",
              "    <tr>\n",
              "      <th>2009-02-01</th>\n",
              "      <td>2.707357</td>\n",
              "      <td>21.954527</td>\n",
              "    </tr>\n",
              "    <tr>\n",
              "      <th>2009-03-01</th>\n",
              "      <td>3.186625</td>\n",
              "      <td>20.857864</td>\n",
              "    </tr>\n",
              "    <tr>\n",
              "      <th>2009-04-01</th>\n",
              "      <td>3.814432</td>\n",
              "      <td>23.978277</td>\n",
              "    </tr>\n",
              "    <tr>\n",
              "      <th>2009-05-01</th>\n",
              "      <td>4.116966</td>\n",
              "      <td>24.627411</td>\n",
              "    </tr>\n",
              "  </tbody>\n",
              "</table>\n",
              "</div>"
            ],
            "text/plain": [
              "                AAPL          K\n",
              "Date                           \n",
              "2009-01-01  2.732216  24.645245\n",
              "2009-02-01  2.707357  21.954527\n",
              "2009-03-01  3.186625  20.857864\n",
              "2009-04-01  3.814432  23.978277\n",
              "2009-05-01  4.116966  24.627411"
            ]
          },
          "execution_count": 3,
          "metadata": {},
          "output_type": "execute_result"
        }
      ],
      "source": [
        "# Obtenemos los datos\n",
        "data = yf.download(tickers=stocks_list, start=start_date,\n",
        "                   end=end_date, interval=\"1mo\")['Adj Close'].dropna()\n",
        "print(\"Stocks Prices:\")\n",
        "data.head()"
      ]
    },
    {
      "attachments": {},
      "cell_type": "markdown",
      "metadata": {
        "id": "jxxcasZdg5ls"
      },
      "source": [
        "### Estadísticas descriptivas"
      ]
    },
    {
      "cell_type": "code",
      "execution_count": 4,
      "metadata": {
        "colab": {
          "base_uri": "https://localhost:8080/"
        },
        "id": "yC5XVf21g5ls",
        "outputId": "f816f324-615b-4923-cf1a-19c8a6a5427b"
      },
      "outputs": [
        {
          "name": "stdout",
          "output_type": "stream",
          "text": [
            "Rentabilidad mensual:\n",
            "                AAPL         K\n",
            "Date                          \n",
            "2009-02-01 -0.009140 -0.115611\n",
            "2009-03-01  0.162990 -0.051242\n",
            "2009-04-01  0.179829  0.139417\n",
            "2009-05-01  0.076325  0.026712\n",
            "2009-06-01  0.047594  0.082371\n"
          ]
        }
      ],
      "source": [
        "# Calculadmos la rentabilidad mensual\n",
        "monthly_ret = np.log(data).diff().dropna()\n",
        "print(\"Rentabilidad mensual:\")\n",
        "print(monthly_ret.head())"
      ]
    },
    {
      "cell_type": "code",
      "execution_count": 5,
      "metadata": {
        "colab": {
          "base_uri": "https://localhost:8080/"
        },
        "id": "2qNYWY6Tg5ls",
        "outputId": "6695b2b7-8294-48cb-e75c-914208319bdf"
      },
      "outputs": [
        {
          "name": "stdout",
          "output_type": "stream",
          "text": [
            "Rentabilidad media:\n",
            "AAPL    0.022099\n",
            "K       0.004978\n",
            "dtype: float64\n"
          ]
        }
      ],
      "source": [
        "# Rentabilidad medida\n",
        "mean_ret = monthly_ret.mean()\n",
        "print(\"Rentabilidad media:\")\n",
        "print(mean_ret)"
      ]
    },
    {
      "cell_type": "code",
      "execution_count": 6,
      "metadata": {
        "colab": {
          "base_uri": "https://localhost:8080/"
        },
        "id": "3JiYubhzg5lt",
        "outputId": "6d4c1890-fa8a-4d02-c9ea-12d970b374cc"
      },
      "outputs": [
        {
          "name": "stdout",
          "output_type": "stream",
          "text": [
            "Desviación típica:\n",
            "AAPL    0.074039\n",
            "K       0.045404\n",
            "dtype: float64\n"
          ]
        }
      ],
      "source": [
        "# Sigma\n",
        "sigma = monthly_ret.std()\n",
        "print(\"Desviación típica:\")\n",
        "print(sigma)"
      ]
    },
    {
      "cell_type": "code",
      "execution_count": 7,
      "metadata": {
        "colab": {
          "base_uri": "https://localhost:8080/"
        },
        "id": "Su8V9T-Bg5lt",
        "outputId": "73a16a5d-6bc5-4e35-d97e-bb247fcefe6b"
      },
      "outputs": [
        {
          "name": "stdout",
          "output_type": "stream",
          "text": [
            "Variance-Covariance Matrix:\n",
            "          AAPL         K\n",
            "AAPL  0.005482  0.000826\n",
            "K     0.000826  0.002061\n"
          ]
        }
      ],
      "source": [
        "# Matrix de varianza covarianza\n",
        "cov_mat = monthly_ret.cov()\n",
        "print(\"Variance-Covariance Matrix:\")\n",
        "print(cov_mat)"
      ]
    },
    {
      "cell_type": "code",
      "execution_count": 8,
      "metadata": {
        "colab": {
          "base_uri": "https://localhost:8080/"
        },
        "id": "jZPWYNXig5lt",
        "outputId": "8e0f0220-9ef1-4f39-a73c-05925fa6c7a2"
      },
      "outputs": [
        {
          "name": "stdout",
          "output_type": "stream",
          "text": [
            "Correlation Matrix\n",
            "          AAPL         K\n",
            "AAPL  1.000000  0.245718\n",
            "K     0.245718  1.000000\n"
          ]
        }
      ],
      "source": [
        "# Matriz de correlaciones\n",
        "corr_mat = monthly_ret.corr()\n",
        "print(\"Correlation Matrix\")\n",
        "print(corr_mat)"
      ]
    },
    {
      "attachments": {},
      "cell_type": "markdown",
      "metadata": {
        "id": "Ftv1eZw3g5lt"
      },
      "source": [
        "### Construimos una cartera"
      ]
    },
    {
      "cell_type": "code",
      "execution_count": 9,
      "metadata": {
        "colab": {
          "base_uri": "https://localhost:8080/"
        },
        "id": "5li0g-4eg5lu",
        "outputId": "507d93c0-ef3d-4279-8b95-ce68d29242c7"
      },
      "outputs": [
        {
          "name": "stdout",
          "output_type": "stream",
          "text": [
            "         AAPL    K\n",
            "Weights   0.5  0.5\n"
          ]
        }
      ],
      "source": [
        "# Set proportions\n",
        "Xa = 0.5\n",
        "Xb = 1 - Xa\n",
        "proportions = pd.DataFrame(data = [[Xa], [Xb]],columns = ['Weights'], index = ['AAPL','K']).transpose()\n",
        "print(proportions)"
      ]
    },
    {
      "cell_type": "code",
      "execution_count": 10,
      "metadata": {
        "colab": {
          "base_uri": "https://localhost:8080/",
          "height": 179
        },
        "id": "UTGuJwTMlgB2",
        "outputId": "1d9db69f-c7b8-4a11-f12e-3f137e2e46db"
      },
      "outputs": [
        {
          "data": {
            "text/html": [
              "<div>\n",
              "<style scoped>\n",
              "    .dataframe tbody tr th:only-of-type {\n",
              "        vertical-align: middle;\n",
              "    }\n",
              "\n",
              "    .dataframe tbody tr th {\n",
              "        vertical-align: top;\n",
              "    }\n",
              "\n",
              "    .dataframe thead th {\n",
              "        text-align: right;\n",
              "    }\n",
              "</style>\n",
              "<table border=\"1\" class=\"dataframe\">\n",
              "  <thead>\n",
              "    <tr style=\"text-align: right;\">\n",
              "      <th>Date</th>\n",
              "      <th>2009-02-01</th>\n",
              "      <th>2009-03-01</th>\n",
              "      <th>2009-04-01</th>\n",
              "      <th>2009-05-01</th>\n",
              "      <th>2009-06-01</th>\n",
              "      <th>2009-07-01</th>\n",
              "      <th>2009-08-01</th>\n",
              "      <th>2009-09-01</th>\n",
              "      <th>2009-10-01</th>\n",
              "      <th>2009-11-01</th>\n",
              "      <th>...</th>\n",
              "      <th>2018-03-01</th>\n",
              "      <th>2018-04-01</th>\n",
              "      <th>2018-05-01</th>\n",
              "      <th>2018-06-01</th>\n",
              "      <th>2018-07-01</th>\n",
              "      <th>2018-08-01</th>\n",
              "      <th>2018-09-01</th>\n",
              "      <th>2018-10-01</th>\n",
              "      <th>2018-11-01</th>\n",
              "      <th>2018-12-01</th>\n",
              "    </tr>\n",
              "  </thead>\n",
              "  <tbody>\n",
              "    <tr>\n",
              "      <th>AAPL</th>\n",
              "      <td>-0.009140</td>\n",
              "      <td>0.162990</td>\n",
              "      <td>0.179829</td>\n",
              "      <td>0.076325</td>\n",
              "      <td>0.047594</td>\n",
              "      <td>0.137289</td>\n",
              "      <td>0.029074</td>\n",
              "      <td>0.097033</td>\n",
              "      <td>0.016852</td>\n",
              "      <td>0.058769</td>\n",
              "      <td>...</td>\n",
              "      <td>-0.055735</td>\n",
              "      <td>-0.015134</td>\n",
              "      <td>0.122893</td>\n",
              "      <td>-0.005614</td>\n",
              "      <td>0.027598</td>\n",
              "      <td>0.179172</td>\n",
              "      <td>-0.004837</td>\n",
              "      <td>-0.030952</td>\n",
              "      <td>-0.203396</td>\n",
              "      <td>-0.120605</td>\n",
              "    </tr>\n",
              "    <tr>\n",
              "      <th>K</th>\n",
              "      <td>-0.115611</td>\n",
              "      <td>-0.051242</td>\n",
              "      <td>0.139417</td>\n",
              "      <td>0.026712</td>\n",
              "      <td>0.082371</td>\n",
              "      <td>0.019773</td>\n",
              "      <td>-0.008669</td>\n",
              "      <td>0.052984</td>\n",
              "      <td>0.045855</td>\n",
              "      <td>0.019977</td>\n",
              "      <td>...</td>\n",
              "      <td>-0.018139</td>\n",
              "      <td>-0.090068</td>\n",
              "      <td>0.089117</td>\n",
              "      <td>0.090434</td>\n",
              "      <td>0.016466</td>\n",
              "      <td>0.010643</td>\n",
              "      <td>-0.016617</td>\n",
              "      <td>-0.067036</td>\n",
              "      <td>-0.028345</td>\n",
              "      <td>-0.100699</td>\n",
              "    </tr>\n",
              "  </tbody>\n",
              "</table>\n",
              "<p>2 rows × 119 columns</p>\n",
              "</div>"
            ],
            "text/plain": [
              "Date  2009-02-01  2009-03-01  2009-04-01  2009-05-01  2009-06-01  2009-07-01  \\\n",
              "AAPL   -0.009140    0.162990    0.179829    0.076325    0.047594    0.137289   \n",
              "K      -0.115611   -0.051242    0.139417    0.026712    0.082371    0.019773   \n",
              "\n",
              "Date  2009-08-01  2009-09-01  2009-10-01  2009-11-01  ...  2018-03-01  \\\n",
              "AAPL    0.029074    0.097033    0.016852    0.058769  ...   -0.055735   \n",
              "K      -0.008669    0.052984    0.045855    0.019977  ...   -0.018139   \n",
              "\n",
              "Date  2018-04-01  2018-05-01  2018-06-01  2018-07-01  2018-08-01  2018-09-01  \\\n",
              "AAPL   -0.015134    0.122893   -0.005614    0.027598    0.179172   -0.004837   \n",
              "K      -0.090068    0.089117    0.090434    0.016466    0.010643   -0.016617   \n",
              "\n",
              "Date  2018-10-01  2018-11-01  2018-12-01  \n",
              "AAPL   -0.030952   -0.203396   -0.120605  \n",
              "K      -0.067036   -0.028345   -0.100699  \n",
              "\n",
              "[2 rows x 119 columns]"
            ]
          },
          "execution_count": 10,
          "metadata": {},
          "output_type": "execute_result"
        }
      ],
      "source": [
        "t_monthly_ret = monthly_ret.transpose()\n",
        "t_monthly_ret.head()"
      ]
    },
    {
      "cell_type": "code",
      "execution_count": 11,
      "metadata": {
        "colab": {
          "base_uri": "https://localhost:8080/"
        },
        "id": "k-IlUHE1g5lu",
        "outputId": "18b05abf-b9e6-4972-f4f8-a307ced07c0c",
        "scrolled": true
      },
      "outputs": [
        {
          "name": "stdout",
          "output_type": "stream",
          "text": [
            "            Portfolio Returns\n",
            "Date                         \n",
            "2009-02-01          -0.062375\n",
            "2009-03-01           0.055874\n",
            "2009-04-01           0.159623\n",
            "2009-05-01           0.051518\n",
            "2009-06-01           0.064982\n"
          ]
        }
      ],
      "source": [
        "# Portfolio Returns\n",
        "t_monthly_ret = monthly_ret.transpose()\n",
        "port_ret = proportions.dot(t_monthly_ret).transpose()\n",
        "port_ret.columns = ['Portfolio Returns']\n",
        "print(port_ret.head())"
      ]
    },
    {
      "cell_type": "code",
      "execution_count": 12,
      "metadata": {
        "colab": {
          "base_uri": "https://localhost:8080/"
        },
        "id": "YzkkCzjSg5lu",
        "outputId": "a8b52388-44b7-49db-a768-970d8c072bd6"
      },
      "outputs": [
        {
          "name": "stdout",
          "output_type": "stream",
          "text": [
            "Portfolio Variance    0.002299\n",
            "dtype: float64\n"
          ]
        }
      ],
      "source": [
        "# Calculate portfolio Variance\n",
        "port_var = proportions.dot(cov_mat).dot(proportions.transpose()).iloc[0,0]\n",
        "print(pd.Series(port_var,index=[\"Portfolio Variance\"]))"
      ]
    },
    {
      "cell_type": "code",
      "execution_count": 13,
      "metadata": {
        "colab": {
          "base_uri": "https://localhost:8080/"
        },
        "id": "2_KqBEyxg5lv",
        "outputId": "7f89ac4b-9f88-4a26-b9a4-583d0f4d9528"
      },
      "outputs": [
        {
          "name": "stdout",
          "output_type": "stream",
          "text": [
            "Portfolio Sigma    0.047946\n",
            "dtype: float64\n"
          ]
        }
      ],
      "source": [
        "# Calculate portfolio Sigma\n",
        "port_sigma = math.sqrt(port_var)\n",
        "print(pd.Series(port_sigma,index=[\"Portfolio Sigma\"]))"
      ]
    },
    {
      "attachments": {},
      "cell_type": "markdown",
      "metadata": {},
      "source": [
        "## Representación gráfica\n",
        "\n",
        "Generamos un conjunto de carteras con los activos y las representamos gráficamente."
      ]
    },
    {
      "cell_type": "code",
      "execution_count": 16,
      "metadata": {},
      "outputs": [],
      "source": [
        "# Generamos las ponderacoines\n",
        "aapl_weight = np.arange(-4.5,7.5,0.5)\n",
        "k_weight = 1-aapl_weight"
      ]
    },
    {
      "cell_type": "code",
      "execution_count": 23,
      "metadata": {},
      "outputs": [
        {
          "data": {
            "text/plain": [
              "array([-0.07206671, -0.06350615, -0.05494558, -0.04638502, -0.03782446,\n",
              "       -0.0292639 , -0.02070333, -0.01214277, -0.00358221,  0.00497836,\n",
              "        0.01353892,  0.02209948,  0.03066004,  0.03922061,  0.04778117,\n",
              "        0.05634173,  0.0649023 ,  0.07346286,  0.08202342,  0.09058398,\n",
              "        0.09914455,  0.10770511,  0.11626567,  0.12482624])"
            ]
          },
          "execution_count": 23,
          "metadata": {},
          "output_type": "execute_result"
        }
      ],
      "source": [
        "# Rentabilidad de las carteras generadas\n",
        "port_z_ret = aapl_weight * mean_ret[0] +k_weight* mean_ret[1]\n",
        "port_z_ret"
      ]
    },
    {
      "cell_type": "code",
      "execution_count": 29,
      "metadata": {},
      "outputs": [
        {
          "data": {
            "text/plain": [
              "array([0.36397471, 0.32589035, 0.28788374, 0.24999035, 0.21227081,\n",
              "       0.1748377 , 0.13792441, 0.10209634, 0.06906361, 0.04540373,\n",
              "       0.04794595, 0.07403869, 0.10775083, 0.14382055, 0.18084264,\n",
              "       0.21833316, 0.25608646, 0.29400132, 0.33202241, 0.37011699,\n",
              "       0.40826448, 0.44645132, 0.48466821, 0.52290857])"
            ]
          },
          "execution_count": 29,
          "metadata": {},
          "output_type": "execute_result"
        }
      ],
      "source": [
        "# Portfolios Sigma\n",
        "port_z_sigma = (aapl_weight ** 2 * cov_mat.iloc[0,0] + k_weight ** 2 * cov_mat.iloc[1,1] +\n",
        "                2* (aapl_weight * k_weight) * cov_mat.iloc[0,1] ) ** 0.5\n",
        "port_z_sigma "
      ]
    },
    {
      "cell_type": "code",
      "execution_count": 31,
      "metadata": {},
      "outputs": [
        {
          "data": {
            "image/png": "[encoded data removed]",
            "text/plain": [
              "<Figure size 640x480 with 1 Axes>"
            ]
          },
          "metadata": {},
          "output_type": "display_data"
        }
      ],
      "source": [
        "#Scatter Plot\n",
        "plt.plot(port_z_sigma, port_z_ret) # envelope\n",
        "\n",
        "\n",
        "# Titles and axes names\n",
        "plt.title(r'Portfolio Means and Returns', fontsize = 20)\n",
        "plt.xlabel(r'Standard Deviations', fontsize = 15)\n",
        "plt.ylabel(r'Mean Returns', fontsize = 15)\n",
        "\n",
        "# Show plot\n",
        "plt.show()"
      ]
    }
  ],
  "metadata": {
    "colab": {
      "provenance": []
    },
    "kernelspec": {
      "display_name": "Python 3",
      "language": "python",
      "name": "python3"
    },
    "language_info": {
      "codemirror_mode": {
        "name": "ipython",
        "version": 3
      },
      "file_extension": ".py",
      "mimetype": "text/x-python",
      "name": "python",
      "nbconvert_exporter": "python",
      "pygments_lexer": "ipython3",
      "version": "3.9.13"
    }
  },
  "nbformat": 4,
  "nbformat_minor": 0
}
