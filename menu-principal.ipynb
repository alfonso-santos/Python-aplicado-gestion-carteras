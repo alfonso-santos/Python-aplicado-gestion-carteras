{
 "cells": [
  {
   "cell_type": "markdown",
   "metadata": {},
   "source": [
    "# MICROCREDENCIAL: Python aplicado a la Gestión de Carteras"
   ]
  },
  {
   "cell_type": "markdown",
   "metadata": {},
   "source": [
    "<center>\n",
    "<img src=\"imgs/python-logo.png\"  alt=\"drawing\" width=\"500\"/>\n",
    "<img src=\"imgs/UAM-Logo.png\"  alt=\"drawing\" width=\"400\"/>\n",
    "</center>\n",
    "\n",
    "\n",
    "**PROFESORES:**\n",
    "\n",
    "- [Fernando Úbeda](https://www.uam.es/Economicas/%C3%9Abeda-Mellina,-Fernando/1234888497623.htm?language=es&pid=1234888496695&title=?beda%20Mellina,%20Fernando).\n",
    "\n",
    "    - Doctor en Economía y Empresa. Universidad Autónoma de Madrid.\n",
    "\n",
    "    - Profesor Titular Dpto Financiación e Investigación Comercial. Facultad Económicas y Empresariales. Universidad Autónoma de Madrid.\n",
    "    \n",
    "\n",
    "- [Alfonso Santos](https://www.uam.es/Economicas/santos-ramon-alfonso/1242667903456.htm?language=es&pid=1242653687745&title=Santos%20Ram?n%20Alfonso). \n",
    "\n",
    "    - Profesor Asociado Dpto Financiación e Investigación Comercial. Facultad Económicas y Empresariales Universidad Autónoma de Madrid.\n",
    "\n",
    "    - Ingeniero Superior de Telecomunicaciones Universidad Politécnica de Madrid.\n",
    "\n",
    "    - Master de IA aplicado a los Mercados Financieros del Instituto  BME"
   ]
  },
  {
   "cell_type": "markdown",
   "metadata": {},
   "source": [
    " El curso **Python Aplicado a la Gestión de Carteras**, es una propuesta académica diseñada para fusionar la teoría financiera con la aplicación práctica mediante herramientas computacionales.\n",
    " \n",
    " La gestión de carteras es un campo esencial en el mundo financiero, y su correcto entendimiento es una demanda del mercado.\n",
    "\n",
    " En este curso, no solo abordaremos los pilares fundamentales de la teoría de carteras, tales como:\n",
    " \n",
    " - La frontera eficiente de Markowitz\n",
    " \n",
    " - Los modelos CAPM, APT y los modelos de factores\n",
    " \n",
    " sino que también aprenderemos a implementar y validar estos conceptos utilizando Python, uno de los lenguajes de programación más versátiles y demandados en el ámbito financiero."
   ]
  },
  {
   "cell_type": "markdown",
   "metadata": {},
   "source": [
    "Los **objetivos específicos** del curso son:\n",
    "\n",
    "* Fundamentos Teóricos: Profundizar en la teoría moderna de carteras, comprendiendo conceptos esenciales que rigen la gestión de inversiones.\n",
    "\n",
    "* Aplicación Práctica con Python: Utilizar Python para simular, optimizar y validar estrategias de inversión basadas en los conceptos teóricos aprendidos."
   ]
  },
  {
   "cell_type": "markdown",
   "metadata": {},
   "source": [
    "El curso está basado en los libros:\n",
    "\n",
    "<center>\n",
    "<img src=\"imgs/libro_carteras.PNG\"  alt=\"drawing\" width=\"300\"/>\n",
    "<img src=\"imgs/python for finance.jpg\"  alt=\"drawing\" width=\"313\"/>\n",
    "<img src=\"imgs/python_for_finance.png\"  alt=\"drawing\" width=\"293\"/>\n",
    "<img src=\"imgs/quantitative-finance-with-python.jpg\"  alt=\"drawing\" width=\"265\"/>\n",
    "\n",
    "</center>\n",
    "\n",
    "\n"
   ]
  },
  {
   "cell_type": "markdown",
   "metadata": {},
   "source": [
    "\n",
    "\n",
    "## MÓDULO 1: INTRODUCCIÓN"
   ]
  },
  {
   "cell_type": "markdown",
   "metadata": {},
   "source": [
    "[1.1](source/descarga-datos.ipynb) Descarga de datos\n",
    "\n",
    "[1.2](source/analisis-inicial.ipynb) Análisis Inicial de los datos de un activo\n",
    "\n",
    "[1.3](source/cartera-dos-activos.ipynb) Rentabilidad y Riesgo de una cartera de dos activos\n",
    "\n",
    "[1.4](source/carteras-reales.ipynb) Rentabilidad y Riesgo de una cartera dos activos reales\n",
    "\n",
    "[1.5](source/analisis-diversificacion.ipynb) Análisis del efecto de la Diversificación\n",
    "\n",
    "[Apéndice](source/carteras-inicial.ipynb) Fórmulas matemáticas carteras\n",
    "\n"
   ]
  },
  {
   "cell_type": "markdown",
   "metadata": {},
   "source": []
  }
 ],
 "metadata": {
  "kernelspec": {
   "display_name": "venv",
   "language": "python",
   "name": "python3"
  },
  "language_info": {
   "name": "python",
   "version": "3.11.5"
  }
 },
 "nbformat": 4,
 "nbformat_minor": 2
}
