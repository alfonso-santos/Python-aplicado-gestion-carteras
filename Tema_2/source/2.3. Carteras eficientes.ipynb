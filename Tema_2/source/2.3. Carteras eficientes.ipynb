{
 "cells": [
  {
   "attachments": {},
   "cell_type": "markdown",
   "metadata": {},
   "source": [
    "# CARTERAS EFICIENTES"
   ]
  },
  {
   "attachments": {},
   "cell_type": "markdown",
   "metadata": {},
   "source": [
    "## La utilidad del inversor\n",
    "\n",
    "Una cartera puede ser óptima para un inversor con baja aversión al riesgo pero subóptima para otro inversor con menor aversión al riesgo. Para resolver este problema creamos una función de utidad $U(\\tilde{w})$.\n",
    "\n",
    "$$\\begin{align}\n",
    "\\tilde{w} &=\\tilde{w}_0(1+r_p(w)) \\tag{1}\\\\\n",
    "U(\\tilde{w}) &= U(\\tilde{w}_0(1+r_p(w))) \\tag{2}\n",
    "\\end{align}$$\n",
    "\n",
    "donde $\\tilde{w}$ es la riqueza al finalizar el periodo, $\\tilde{w}_0$ es la riqueza inicial, $r_p$ es la rentabilidad de la cartera, la cual es aleatoria. Por tanto, deberemos incorporar la aversión al riesgo del inversor. En este contexto podremos hablar de maximizar la utilidad esperada:\n",
    "$$\\begin{align}\n",
    "\\underset{w}{max} f(w)&=\\mathbb{E} \\left[ U(\\tilde{w}_0(1+r_p(w)))\\right] \\tag{3}\\\\\n",
    "\\underset{w}{max} f(w)&=\\mathbb{E} \\left[ U(\\tilde{w}_0\\left(1+\\sum_i{w_ir_i}\\right))\\right] \\nonumber\n",
    "\\end{align}$$\n",
    "\n",
    "Optimizamos\n",
    "$$\\begin{align}\n",
    "\\frac{\\partial f(w)}{w_i} &=U' \\left(\\tilde{w}_0(1+\\sum_i{w_ir_i}\\right)r_i=0 \\tag{4}\\\\\n",
    "\\frac{\\partial f(w)}{w_i^2} &=U'' \\left(\\tilde{w}_0(1+\\sum_i{w_ir_i}\\right)r^2_i<0 \\tag{5}\\\\\n",
    "\\end{align}$$\n",
    "\n",
    "La teoría económica indica que $U'(\\tilde{w})$ debe ser positivo ya que el inversor prefiere más rentabilidad. Del mismo modo $U'(\\tilde{w})$ debe ser negativa para reflejar la aversión al riesgo.\n",
    "\n",
    "Markowitz(1952) el que porpició la Moderna Teoría de Carteras. Propone una función de utilidad cuadrática con una rendimientos que se comportan como una función distribución normal tipificadas por una media y varianza. Concretamente propone maximizar la siguiente función de utilidad:\n",
    "\n",
    "$$\\underset{w}{max} f(w)=w^TR-\\lambda w^T\\Sigma w\\tag{6}$$ \n",
    "\n",
    "donde $\\lambda$ es la aversión al riesgo del inversor que consideramos constante, $\\Sigma$ es la matriz de varianza covarianza\n",
    "\n",
    "$$\\frac{\\partial f(w)}{\\partial w}=R-\\lambda \\Sigma w=0 \\tag{7}$$\n",
    "\n",
    "Dado que la función $f(w)$ es cóncava la condición de primer orden define un único máximo. Por tanto:\n",
    "$$w=\\frac{1}{2\\lambda}\\Sigma^{-1} \\tag{8}R$$\n",
    "\n",
    "## La frontera eficiente\n",
    "\n",
    "Podemos replantear la definición de cartera eficiente con una única restricción\n",
    "\n",
    "$$\\begin{gather}\n",
    "\\underset{w}{max} \\left(-w^T\\Sigma w\\right) \\tag{9}\\\\\n",
    "s.t. w^TR=\\hat{R} \\nonumber\n",
    "\\end{gather}$$\n",
    "\n",
    "donde $\\hat{R}$ es la rentabilidad deseada por el inversor. Utilizaremos un Lagrangiano para resolver el problema de optimización\n",
    "\n",
    "$$\\mathcal{L}(w,\\upsilon)=\\left(-w^T\\Sigma w\\right)+\\lambda\\left( w^TR-\\hat{R}\\right) \\tag{10}$$\n",
    "\n",
    "La condición de primer orden del proceso de optimización será:\n",
    "\n",
    "$$\\begin{align}\n",
    "\\frac{\\partial L}{\\partial w}=-2\\Sigma w+ \\lambda R&=0 \\tag{11}\\\\\n",
    "\\frac{\\partial L}{\\partial \\lambda} =w^TR-\\hat{R}&=0 \\tag{12}\n",
    "\\end{align}$$\n",
    "\n",
    "Resolvemos el sistema de ecuaciones:\n",
    "\n",
    "$$\\begin{align}\n",
    "\\lambda R&=2\\Sigma w \\tag{13}\\\\\n",
    "w&=\\frac{\\lambda}{2} \\Sigma^{-1} R \\tag{14}\n",
    "\\end{align}$$\n",
    "\n",
    "Utilizamos la ecuación 12 para despejar $\\lambda$\n",
    "\n",
    "$$\\begin{align}\n",
    "w^TR&=\\hat{R} \\tag{15} \\\\\n",
    "\\left(\\lambda \\Sigma^{-1} R  \\right)^TR&=2\\hat{R} \\tag{16} \\\\\n",
    "\\lambda &=\\frac{2\\hat{R}}{R^T\\Sigma^{-1} R}\\tag{17}\n",
    "\\end{align}$$\n",
    "\n",
    "La creación de carteras exige tener en cuenta más restricciones. Así incorporamos una restricción adicional, no pdemos invertir más dinero del que tenemos.\n",
    "\n",
    "$$\\begin{gather}\n",
    "\\underset{w}{min} \\left(w^T\\Sigma w\\right) \\tag{18}\\\\\n",
    "s.t. w^TR=\\hat{R} \\nonumber \\\\\n",
    "w^T1=1\\nonumber\n",
    "\\end{gather}$$\n",
    "\n",
    "Volvemos a utilizar el Langranjiano\n",
    "\n",
    "$$\\mathcal{L}(w,\\upsilon)=\\left(-w^T\\Sigma w\\right)+\\lambda_1\\left( w^TR-\\hat{R}\\right)+\\lambda_2\\left( w^T1-1 \\right) \\tag{19}$$\n",
    "\n",
    "Desarrollamos la condición de primer orden:\n",
    "\n",
    "$$\\begin{align}\n",
    "\\frac{\\partial L}{\\partial w}=-2\\Sigma w+ \\lambda_1 R&+\\lambda_2 1=0 \\tag{20}\\\\\n",
    "\\frac{\\partial L}{\\partial \\lambda_1} =w^TR-\\hat{R}&=0 \\tag{21} \\\\\n",
    "\\frac{\\partial L}{\\partial \\lambda_2} =w^T1-1&=0 \\tag{22}\n",
    "\\end{align}$$\n",
    "\n",
    "La resolución del sistema de ecuaciones nos lleva a:\n",
    "\n",
    "\n",
    "$$\\begin{align}\n",
    "w &= \\frac{1}{d}\\left[c\\Sigma^{-1}R-a\\Sigma^{-1} 1 \\right]\\hat{R}+\\frac{1}{d}\\left[b\\Sigma^{-1} 1-a\\Sigma^{-1} R \\right] \\tag{23}\\\\\n",
    "a &= 1^T\\Sigma^{-1}R \\nonumber \\\\\n",
    "b &= R^T\\Sigma^{-1}R \\nonumber \\\\ \n",
    "c &= 1^T\\Sigma^{-1}1 \\nonumber\\\\\n",
    "a &= bc-a^2  \\nonumber\n",
    "\\end{align}$$"
   ]
  },
  {
   "attachments": {},
   "cell_type": "markdown",
   "metadata": {},
   "source": [
    "Vamos a definir el $\\textbf{precio de mercado del riesgo}$, el cual puede ser definido como la compensación esperada por unidad de riesgo.\n",
    "$$\\lambda=\\frac{\\mu-r_f}{\\sigma}$$\n",
    "\n",
    "La relación entre rentabilidad y riesgo puede expresada como:\n",
    "$$\\mu=r_f+\\lambda \\sigma$$\n",
    "\n",
    "Por tanto, si el el precio de mercado del riesgo es cero, entonces $\\mu=r_f$\n",
    "\n",
    "Función de utilidad esperada:\n",
    "\n",
    "$$U(x)=\\mu_p(x)-\\frac{1}{2}\\lambda\\sigma _p^2(x)$$\n",
    "\n",
    "Donde $\\lambda$ es la aversión al riesgo del inversor. Normalmente los valores de $\\lambda$ están entre 2 y 4."
   ]
  },
  {
   "attachments": {},
   "cell_type": "markdown",
   "metadata": {},
   "source": [
    "Supongamos que disponemos de $n$ activos con riesgo con rentabilidad esperada $\\mu$ y matriz de varianza covarianza $\\Sigma$. Veamos dos alternativas de definir una cartera eficiente.\n",
    "\n",
    "- Minimizar el riesgo para un nivel de rentabilidad deseado.\n",
    "$$\\begin{gather}\n",
    "min \\frac{1}{2} w^T\\Sigma w \\\\\n",
    "s.t. i^Tw=1,\\\\\n",
    "\\mu^T=\\mu_E\n",
    "\\end{gather}$$\n",
    "- Maximizar la función de utilidad dado un nivel de aversión al riesgo\n",
    "$$\\begin{gather}\n",
    "max \\mu^Tw-\\frac{lambda}{2} w^T\\Sigma w \\\\\n",
    "s.t. i^Tw=1,\\\\\n",
    "\\end{gather}$$\n",
    "\n",
    "Nos quedamos con la primera opción y utilizamos un Lagrangiano con un multiplicador $\\upsilon$ para determinar el máximo:\n",
    "$$\\mathcal{L}(w,\\upsilon)=\\frac{1}{2} w^T\\Sigma w+ \\upsilon(1-i^Tw) $$\n",
    "\n",
    "Con ello planteamos un sistema de ecuaciones que se podrá resolver en la medida en que la matriz varianza covarianza sea invertible:\n",
    "$$\\Sigma w - \\upsilon i=0 \\Longrightarrow w=\\upsilon\\Sigma^{-1}i$$\n",
    "\n"
   ]
  },
  {
   "cell_type": "code",
   "execution_count": 2,
   "metadata": {},
   "outputs": [
    {
     "name": "stdout",
     "output_type": "stream",
     "text": [
      "Collecting qpsolvers\n",
      "  Downloading qpsolvers-4.0.1-py3-none-any.whl.metadata (16 kB)\n",
      "Collecting daqp>=0.5.1 (from qpsolvers)\n",
      "  Downloading daqp-0.5.1-cp39-cp39-macosx_10_9_x86_64.whl (100 kB)\n",
      "\u001b[2K     \u001b[90m━━━━━━━━━━━━━━━━━━━━━━━━━━━━━━━━━━━━━━━\u001b[0m \u001b[32m100.2/100.2 kB\u001b[0m \u001b[31m3.0 MB/s\u001b[0m eta \u001b[36m0:00:00\u001b[0m\n",
      "\u001b[?25hCollecting ecos>=2.0.8 (from qpsolvers)\n",
      "  Downloading ecos-2.0.12-cp39-cp39-macosx_10_9_x86_64.whl (90 kB)\n",
      "\u001b[2K     \u001b[90m━━━━━━━━━━━━━━━━━━━━━━━━━━━━━━━━━━━━━━━━\u001b[0m \u001b[32m90.6/90.6 kB\u001b[0m \u001b[31m8.1 MB/s\u001b[0m eta \u001b[36m0:00:00\u001b[0m\n",
      "\u001b[?25hRequirement already satisfied: numpy>=1.15.4 in /opt/anaconda3/lib/python3.9/site-packages (from qpsolvers) (1.21.6)\n",
      "Collecting osqp>=0.6.2 (from qpsolvers)\n",
      "  Downloading osqp-0.6.3-cp39-cp39-macosx_10_9_x86_64.whl.metadata (1.7 kB)\n",
      "Requirement already satisfied: scipy>=1.2.0 in /opt/anaconda3/lib/python3.9/site-packages (from qpsolvers) (1.7.3)\n",
      "Collecting scs>=3.2.0 (from qpsolvers)\n",
      "  Downloading scs-3.2.3-cp39-cp39-macosx_10_9_x86_64.whl (11.6 MB)\n",
      "\u001b[2K     \u001b[90m━━━━━━━━━━━━━━━━━━━━━━━━━━━━━━━━━━━━━━━━\u001b[0m \u001b[32m11.6/11.6 MB\u001b[0m \u001b[31m10.8 MB/s\u001b[0m eta \u001b[36m0:00:00\u001b[0ma \u001b[36m0:00:01\u001b[0m\n",
      "\u001b[?25hCollecting qdldl (from osqp>=0.6.2->qpsolvers)\n",
      "  Downloading qdldl-0.1.7.post0-cp39-cp39-macosx_10_9_x86_64.whl.metadata (1.7 kB)\n",
      "Downloading qpsolvers-4.0.1-py3-none-any.whl (83 kB)\n",
      "\u001b[2K   \u001b[90m━━━━━━━━━━━━━━━━━━━━━━━━━━━━━━━━━━━━━━━━\u001b[0m \u001b[32m83.7/83.7 kB\u001b[0m \u001b[31m9.7 MB/s\u001b[0m eta \u001b[36m0:00:00\u001b[0m\n",
      "\u001b[?25hDownloading osqp-0.6.3-cp39-cp39-macosx_10_9_x86_64.whl (252 kB)\n",
      "\u001b[2K   \u001b[90m━━━━━━━━━━━━━━━━━━━━━━━━━━━━━━━━━━━━━━━━\u001b[0m \u001b[32m252.6/252.6 kB\u001b[0m \u001b[31m25.4 MB/s\u001b[0m eta \u001b[36m0:00:00\u001b[0m\n",
      "\u001b[?25hDownloading qdldl-0.1.7.post0-cp39-cp39-macosx_10_9_x86_64.whl (105 kB)\n",
      "\u001b[2K   \u001b[90m━━━━━━━━━━━━━━━━━━━━━━━━━━━━━━━━━━━━━━━━\u001b[0m \u001b[32m105.3/105.3 kB\u001b[0m \u001b[31m11.4 MB/s\u001b[0m eta \u001b[36m0:00:00\u001b[0m\n",
      "\u001b[?25hInstalling collected packages: daqp, scs, qdldl, ecos, osqp, qpsolvers\n",
      "Successfully installed daqp-0.5.1 ecos-2.0.12 osqp-0.6.3 qdldl-0.1.7.post0 qpsolvers-4.0.1 scs-3.2.3\n",
      "Note: you may need to restart the kernel to use updated packages.\n"
     ]
    }
   ],
   "source": [
    "pip install qpsolvers"
   ]
  },
  {
   "cell_type": "code",
   "execution_count": 3,
   "metadata": {},
   "outputs": [],
   "source": [
    "import numpy as np\n",
    "import pandas as pd\n",
    "import math\n",
    "import matplotlib.pyplot as plt\n",
    "from scipy.optimize import minimize\n",
    "from qpsolvers import solve_qp"
   ]
  },
  {
   "cell_type": "markdown",
   "metadata": {},
   "source": [
    "### Finding the Market Portfolio: The Capital Market Line (CML)"
   ]
  },
  {
   "cell_type": "code",
   "execution_count": 2,
   "metadata": {},
   "outputs": [],
   "source": [
    "# Input: Variance Covariance Matrix\n",
    "var_cov_mat = np.array([[0.10,0.01,0.03,0.05],\n",
    "                           [0.01,0.30,0.06,-0.04],\n",
    "                           [0.03,0.06,0.40,0.02],\n",
    "                           [0.05,-0.04,0.02,0.50]])\n",
    "\n",
    "# Input: mean returns\n",
    "assets_mean_ret = np.array([0.06, 0.08, 0.1, 0.15]).transpose()"
   ]
  },
  {
   "cell_type": "code",
   "execution_count": 3,
   "metadata": {},
   "outputs": [],
   "source": [
    "# Function: Calculate Envelope Portfolio proportions in one step\n",
    "def envelope_portfolio(var_cov_mat, assets_mean_ret, constant):\n",
    "    inv_var_cov_mat = np.linalg.inv(var_cov_mat)\n",
    "    ex_ret = assets_mean_ret - constant\n",
    "    Z = np.dot(inv_var_cov_mat, ex_ret)\n",
    "    Z_Sum = np.sum(Z) # Sum of Z's\n",
    "    return Z/Z_Sum # Efficient Portfolio proportions"
   ]
  },
  {
   "cell_type": "code",
   "execution_count": 4,
   "metadata": {},
   "outputs": [
    {
     "name": "stdout",
     "output_type": "stream",
     "text": [
      "0    0.355273\n",
      "1    0.236230\n",
      "2    0.155295\n",
      "3    0.253202\n",
      "dtype: float64\n"
     ]
    }
   ],
   "source": [
    "# Computing Portfolio X Asset Allocation\n",
    "port_x_prop = envelope_portfolio(var_cov_mat, assets_mean_ret, 0)\n",
    "print(pd.Series(port_x_prop))"
   ]
  },
  {
   "cell_type": "code",
   "execution_count": 5,
   "metadata": {},
   "outputs": [
    {
     "name": "stdout",
     "output_type": "stream",
     "text": [
      "0    0.078206\n",
      "1    0.268397\n",
      "2    0.222739\n",
      "3    0.430658\n",
      "dtype: float64\n"
     ]
    }
   ],
   "source": [
    "# Computing Portfolio Y Asset Allocation\n",
    "port_y_prop = envelope_portfolio(var_cov_mat, assets_mean_ret, 0.04)\n",
    "print(pd.Series(port_y_prop))"
   ]
  },
  {
   "cell_type": "code",
   "execution_count": 6,
   "metadata": {},
   "outputs": [
    {
     "name": "stdout",
     "output_type": "stream",
     "text": [
      "Mean Returns:\n",
      "X    0.093725\n",
      "Y    0.113037\n",
      "dtype: float64\n"
     ]
    }
   ],
   "source": [
    "# Mean Returns\n",
    "port_x_ret = np.dot(assets_mean_ret, port_x_prop)\n",
    "port_y_ret = np.dot(assets_mean_ret, port_y_prop)\n",
    "print(\"Mean Returns:\")\n",
    "print(pd.Series([port_x_ret,port_y_ret],index=['X','Y']))"
   ]
  },
  {
   "cell_type": "code",
   "execution_count": 7,
   "metadata": {},
   "outputs": [
    {
     "name": "stdout",
     "output_type": "stream",
     "text": [
      "Portfolios Variance:\n",
      "X    0.086240\n",
      "Y    0.141398\n",
      "dtype: float64\n"
     ]
    }
   ],
   "source": [
    "# Portfolios Variance\n",
    "port_x_var = np.dot(port_x_prop, var_cov_mat).dot(port_x_prop.transpose())\n",
    "port_y_var = np.dot(port_y_prop, var_cov_mat).dot(port_y_prop.transpose())\n",
    "print(\"Portfolios Variance:\")\n",
    "print(pd.Series([port_x_var,port_y_var],index=['X','Y']))"
   ]
  },
  {
   "cell_type": "code",
   "execution_count": 8,
   "metadata": {},
   "outputs": [
    {
     "name": "stdout",
     "output_type": "stream",
     "text": [
      "Cov(X,Y)    0.10401\n",
      "dtype: float64\n"
     ]
    }
   ],
   "source": [
    "# Covarinace(X,Y)\n",
    "cov_xy = np.dot(port_x_prop, var_cov_mat).dot(port_y_prop.transpose())\n",
    "print(pd.Series(cov_xy,index=[\"Cov(X,Y)\"]))"
   ]
  },
  {
   "cell_type": "code",
   "execution_count": 9,
   "metadata": {},
   "outputs": [
    {
     "name": "stdout",
     "output_type": "stream",
     "text": [
      "Portfolios Sigma:\n",
      "X    0.293666\n",
      "Y    0.376029\n",
      "dtype: float64\n"
     ]
    }
   ],
   "source": [
    "# Portfolios Standard Deviations\n",
    "port_x_sigma = math.sqrt(port_x_var)\n",
    "port_y_sigma = math.sqrt(port_y_var)\n",
    "print(\"Portfolios Sigma:\")\n",
    "print(pd.Series([port_x_sigma,port_y_sigma],index=['X','Y']))"
   ]
  },
  {
   "cell_type": "code",
   "execution_count": 10,
   "metadata": {},
   "outputs": [
    {
     "name": "stdout",
     "output_type": "stream",
     "text": [
      "Rho    0.941887\n",
      "dtype: float64\n"
     ]
    }
   ],
   "source": [
    "# Correlation Coefficient (Rho)\n",
    "print(pd.Series(cov_xy / (port_x_sigma * port_y_sigma),index=[\"Rho\"]))"
   ]
  },
  {
   "cell_type": "markdown",
   "metadata": {},
   "source": [
    "### Plotting the Envelope"
   ]
  },
  {
   "cell_type": "code",
   "execution_count": 11,
   "metadata": {},
   "outputs": [],
   "source": [
    "# Set an Array of Portfolio Weights\n",
    "port_x_weight = np.arange(-4.5,7.5,0.5)\n",
    "port_y_weight = 1-port_x_weight"
   ]
  },
  {
   "cell_type": "code",
   "execution_count": 12,
   "metadata": {},
   "outputs": [],
   "source": [
    "# Portfolio Z Mean Return\n",
    "port_z_ret = port_x_weight * port_x_ret + port_y_weight * port_y_ret\n",
    "\n",
    "# Portfolios Sigma\n",
    "port_z_sigma = (port_x_weight ** 2 * port_x_var + port_y_weight ** 2 * port_y_var + (port_x_weight * port_y_weight) * cov_xy * 2) ** 0.5"
   ]
  },
  {
   "cell_type": "code",
   "execution_count": 13,
   "metadata": {},
   "outputs": [
    {
     "data": {
      "image/png": "[encoded data removed]",
      "text/plain": [
       "<Figure size 432x288 with 1 Axes>"
      ]
     },
     "metadata": {
      "needs_background": "light"
     },
     "output_type": "display_data"
    }
   ],
   "source": [
    "#Scatter Plot\n",
    "plt.plot(port_z_sigma, port_z_ret) # envelope\n",
    "assets_sigma = np.diag(var_cov_mat)**0.5\n",
    "plt.plot([port_x_sigma, port_y_sigma], [port_x_ret, port_y_ret], 'o') # portfolios\n",
    "plt.plot(assets_sigma, assets_mean_ret, 'o') # assets\n",
    "\n",
    "# Labels\n",
    "plt.text(port_x_sigma+0.01,port_x_ret,'Port. X')\n",
    "plt.text(port_y_sigma+0.01,port_y_ret,'Port. Y')\n",
    "plt.text(assets_sigma[0]+0.01,assets_mean_ret[0],'Asset 1')\n",
    "plt.text(assets_sigma[1]+0.01,assets_mean_ret[1],'Asset 2')\n",
    "plt.text(assets_sigma[2]+0.01,assets_mean_ret[2],'Asset 3')\n",
    "plt.text(assets_sigma[3]+0.01,assets_mean_ret[3],'Asset 4')\n",
    "\n",
    "# Titles and axes names\n",
    "plt.title(r'Portfolio Means and Returns', fontsize = 20)\n",
    "plt.xlabel(r'Standard Deviations', fontsize = 15)\n",
    "plt.ylabel(r'Mean Returns', fontsize = 15)\n",
    "\n",
    "# Show plot\n",
    "plt.show()"
   ]
  },
  {
   "cell_type": "markdown",
   "metadata": {},
   "source": [
    "### Computing the Global Minimum Variance Portfolio (GMVP)"
   ]
  },
  {
   "cell_type": "code",
   "execution_count": 14,
   "metadata": {},
   "outputs": [],
   "source": [
    "# FUNCTION: GMVP as row\n",
    "def GMVP_as_row(var_cov_mat):\n",
    "    inv_var_cov_mat = np.linalg.inv(var_cov_mat)\n",
    "    num = inv_var_cov_mat.sum(axis=1)\n",
    "    den = inv_var_cov_mat.sum()\n",
    "    return num / den"
   ]
  },
  {
   "cell_type": "code",
   "execution_count": 15,
   "metadata": {},
   "outputs": [
    {
     "name": "stdout",
     "output_type": "stream",
     "text": [
      "0    0.606238\n",
      "1    0.207093\n",
      "2    0.094205\n",
      "3    0.092464\n",
      "dtype: float64\n"
     ]
    }
   ],
   "source": [
    "# GMVP Weights\n",
    "GMVP_prop = GMVP_as_row(var_cov_mat)\n",
    "print(pd.Series(GMVP_prop))"
   ]
  },
  {
   "cell_type": "code",
   "execution_count": 16,
   "metadata": {},
   "outputs": [
    {
     "name": "stdout",
     "output_type": "stream",
     "text": [
      "GMVP Mean Return    0.076232\n",
      "dtype: float64\n"
     ]
    }
   ],
   "source": [
    "# GMVP Mean Return\n",
    "GMVP_mean_ret = np.dot(GMVP_prop,assets_mean_ret)\n",
    "print(pd.Series(GMVP_mean_ret,index=[\"GMVP Mean Return\"]))"
   ]
  },
  {
   "cell_type": "code",
   "execution_count": 17,
   "metadata": {},
   "outputs": [
    {
     "name": "stdout",
     "output_type": "stream",
     "text": [
      "GMVP Variance    0.070144\n",
      "dtype: float64\n"
     ]
    }
   ],
   "source": [
    "# GMVP Variance\n",
    "GMVP_variance = np.dot(GMVP_prop, var_cov_mat).dot(GMVP_prop.transpose())\n",
    "print(pd.Series(GMVP_variance,index=[\"GMVP Variance\"]))"
   ]
  },
  {
   "cell_type": "code",
   "execution_count": 18,
   "metadata": {},
   "outputs": [
    {
     "name": "stdout",
     "output_type": "stream",
     "text": [
      "GMVP Sigma    0.264847\n",
      "dtype: float64\n"
     ]
    }
   ],
   "source": [
    "# GMVP Sigma\n",
    "GMVP_Sigma = np.dot(GMVP_prop, var_cov_mat).dot(GMVP_prop.transpose()) ** 0.5\n",
    "print(pd.Series(GMVP_Sigma, index=[\"GMVP Sigma\"]))"
   ]
  },
  {
   "cell_type": "markdown",
   "metadata": {},
   "source": [
    "### Efficient Portfolios Without Short Sales"
   ]
  },
  {
   "cell_type": "code",
   "execution_count": 19,
   "metadata": {},
   "outputs": [],
   "source": [
    "# Input: Assets Mean Returns\n",
    "assets_mean_ret = np.array([0.02, 0.02, 0.08, 0.1])\n",
    "constant = 0.02"
   ]
  },
  {
   "cell_type": "code",
   "execution_count": 20,
   "metadata": {},
   "outputs": [],
   "source": [
    "# Setting Target Function: Sharpe\n",
    "def sharpe(x, assets_mean_ret, constant, var_cov_mat):\n",
    "    ex_ret = assets_mean_ret - constant\n",
    "    ret = np.dot(ex_ret, x)\n",
    "    var = np.dot(x,var_cov_mat).dot(x.transpose())\n",
    "    sigma = var ** 0.5\n",
    "    sharpe = -1*(ret / sigma) # set sharpe to minus sign for minimization\n",
    "    return sharpe"
   ]
  },
  {
   "cell_type": "code",
   "execution_count": 21,
   "metadata": {},
   "outputs": [],
   "source": [
    "# No Short Constarints \n",
    "range = (0, math.inf)\n",
    "bounds = (range,range,range,range)\n",
    "\n",
    "# Enforce sum of weights = 100%\n",
    "def sum_weights_constr(x):\n",
    "    return np.sum(x) - 1 # this should be equal to 0\n",
    "\n",
    "sum_weight = {'type': 'eq', 'fun': sum_weights_constr, 'args': ()}"
   ]
  },
  {
   "cell_type": "code",
   "execution_count": 22,
   "metadata": {},
   "outputs": [],
   "source": [
    "# Stting initial guess\n",
    "x0 = np.array([0.25,0.25,0.25,0.25])"
   ]
  },
  {
   "cell_type": "code",
   "execution_count": 23,
   "metadata": {
    "scrolled": true
   },
   "outputs": [
    {
     "name": "stdout",
     "output_type": "stream",
     "text": [
      "0    0.000000e+00\n",
      "1    4.253796e-18\n",
      "2    4.798424e-01\n",
      "3    5.201576e-01\n",
      "dtype: float64\n"
     ]
    }
   ],
   "source": [
    "# Solve\n",
    "args = (assets_mean_ret, constant , var_cov_mat)\n",
    "result = minimize(sharpe, x0, args = args, method = 'SLSQP', bounds = bounds,constraints=sum_weight)\n",
    "# Max Sharpe weights\n",
    "print(pd.Series(result.x)) "
   ]
  },
  {
   "cell_type": "code",
   "execution_count": 24,
   "metadata": {},
   "outputs": [
    {
     "name": "stdout",
     "output_type": "stream",
     "text": [
      "Sharpe    0.144505\n",
      "dtype: float64\n"
     ]
    }
   ],
   "source": [
    "# Max Sharpe\n",
    "print(pd.Series(-sharpe(result.x, assets_mean_ret, constant , var_cov_mat),index=[\"Sharpe\"]))"
   ]
  },
  {
   "cell_type": "markdown",
   "metadata": {},
   "source": [
    "#### No short (solver 2nd approach) - Adding a rP = 9% Constraint"
   ]
  },
  {
   "cell_type": "code",
   "execution_count": 25,
   "metadata": {},
   "outputs": [],
   "source": [
    "# Quadratic Solver to solve: min. 1/2 x^T P x + q^T x s.t A x = b and G x <= h\n",
    "P = var_cov_mat\n",
    "q = np.zeros(4)"
   ]
  },
  {
   "cell_type": "code",
   "execution_count": 26,
   "metadata": {},
   "outputs": [],
   "source": [
    "# Impose portfolio returns => 9% and all assets weights are => 0%\n",
    "G = np.vstack((-assets_mean_ret,-np.identity(4)))\n",
    "h = np.array([-0.09, 0, 0, 0, 0])"
   ]
  },
  {
   "cell_type": "code",
   "execution_count": 27,
   "metadata": {},
   "outputs": [],
   "source": [
    "# Impose sum of weights = 100%\n",
    "A = np.ones(4)\n",
    "b = np.array([1.])"
   ]
  },
  {
   "cell_type": "code",
   "execution_count": 28,
   "metadata": {},
   "outputs": [],
   "source": [
    "# Result\n",
    "result = solve_qp(P, q, G=G, h=h, A=A, b=b)"
   ]
  },
  {
   "cell_type": "code",
   "execution_count": 29,
   "metadata": {},
   "outputs": [
    {
     "name": "stdout",
     "output_type": "stream",
     "text": [
      "Portfolio Mean Return    0.09\n",
      "dtype: float64\n"
     ]
    }
   ],
   "source": [
    "# Portfolio Return\n",
    "port_mean_ret = np.dot(result,assets_mean_ret)\n",
    "print(pd.Series(port_mean_ret,index=[\"Portfolio Mean Return\"]))"
   ]
  },
  {
   "cell_type": "code",
   "execution_count": 30,
   "metadata": {},
   "outputs": [
    {
     "name": "stdout",
     "output_type": "stream",
     "text": [
      "Portfolio Variance    0.23475\n",
      "dtype: float64\n"
     ]
    }
   ],
   "source": [
    "# Portfolio Variance\n",
    "port_variance = np.dot(result, var_cov_mat).dot(result.transpose())\n",
    "print(pd.Series(port_variance,index=[\"Portfolio Variance\"]))"
   ]
  },
  {
   "cell_type": "code",
   "execution_count": 31,
   "metadata": {},
   "outputs": [
    {
     "name": "stdout",
     "output_type": "stream",
     "text": [
      "Portfolio Sigma    0.48451\n",
      "dtype: float64\n"
     ]
    }
   ],
   "source": [
    "# Portfolio Sigma\n",
    "port_Sigma = port_variance ** 0.5\n",
    "print(pd.Series(port_Sigma,index=[\"Portfolio Sigma\"]))"
   ]
  }
 ],
 "metadata": {
  "kernelspec": {
   "display_name": "Python 3 (ipykernel)",
   "language": "python",
   "name": "python3"
  },
  "language_info": {
   "codemirror_mode": {
    "name": "ipython",
    "version": 3
   },
   "file_extension": ".py",
   "mimetype": "text/x-python",
   "name": "python",
   "nbconvert_exporter": "python",
   "pygments_lexer": "ipython3",
   "version": "3.9.13"
  }
 },
 "nbformat": 4,
 "nbformat_minor": 4
}
