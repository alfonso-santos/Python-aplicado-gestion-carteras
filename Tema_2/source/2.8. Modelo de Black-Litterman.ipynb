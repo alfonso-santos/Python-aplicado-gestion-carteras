{
 "cells": [
  {
   "attachments": {},
   "cell_type": "markdown",
   "metadata": {},
   "source": [
    "# Modelo de Black-Litterman\n",
    "\n",
    "Black Litterman propone una alternativa para considera $k$ opiniones sobre la rentabilidad de los activos. Partiendo de la estadística Bayesiana consideran que la rentabilidad de los activos es una variable aleatoria inobservable y que únicamente podremos inferir su función de distribución. La inferencia parte de una creencia a priori. Se utiliza la información adicional para inferior la función de distribución a posteriori. En dicho marco la cartera de equilibrio propuesta por el CAPM es la creencia a priori y la información generada son las opiniones. La estadística bayesiana permiten determinar la función de distribución a posteriori.\n",
    "\n",
    "La rentabilidad de los $N$ activos que conforman el mercado es una variable aleatoria:\n",
    "$$r\\sim N(\\mu,\\Sigma) \\tag{1}$$\n",
    "\n",
    "La catera de equilibrio viene determinada por $w_eq$. Si  $\\delta$ representa la aversión al riesgo, La prima por riesgo en equilibrio será (Black 1989):\n",
    "$$\\Pi=\\delta\\Sigma w_{eq} \\tag{2}$$\n",
    "\n",
    "Estimamos la rentabilidad implícitas en equilibrio suponiendo que tenemos dos activos Intel (INTC) y Pfizer (PFE) cuya matriz de varianza convarianza es (multiplicados por $10^4$):\n",
    "$$\\Sigma=\\left[\\begin{array}{crl}  \n",
    "46.0 & 1.06 \\\\\n",
    "1.06 & 5.3\n",
    "\\end{array}\\right]$$\n",
    "\n",
    "En primer lugar utilizaremos como cartera de mercado un índice basado en el nivel de capitalización. Así, laLa capitalización de Intel es aproximadamente 80.000 millones de US$ y la de PEnfizer de 100.000 millones US$. Las ponderaciones de ambos activos que configuran el índice son:\n",
    "\n",
    "$$ W_{INTC}=80/180=0.44, W_{PFE}=100/180=0.56 $$\n",
    "\n",
    "Considerar que $\\delta=2.5$."
   ]
  },
  {
   "cell_type": "code",
   "execution_count": 46,
   "metadata": {},
   "outputs": [],
   "source": [
    "import numpy as np\n",
    "import pandas as pd\n",
    "from numpy.linalg import inv"
   ]
  },
  {
   "attachments": {},
   "cell_type": "markdown",
   "metadata": {},
   "source": [
    "numpy trata un vector columna de manera diferente a un array unidimensional. Para usar vectores columna de manera consistente, la siguiente función `as_colvec` permite trabajar con un numpy o una matriz numpy de una columna (es decir, un vector columna) y devuelve los datos como un vector columna. "
   ]
  },
  {
   "cell_type": "code",
   "execution_count": 41,
   "metadata": {},
   "outputs": [],
   "source": [
    "def as_colvec(x):\n",
    "    if (x.ndim == 2):\n",
    "        return x\n",
    "    else:\n",
    "        return np.expand_dims(x, axis=1)"
   ]
  },
  {
   "cell_type": "code",
   "execution_count": 42,
   "metadata": {},
   "outputs": [
    {
     "data": {
      "text/plain": [
       "array([0, 1, 2, 3])"
      ]
     },
     "execution_count": 42,
     "metadata": {},
     "output_type": "execute_result"
    }
   ],
   "source": [
    "np.arange(4)"
   ]
  },
  {
   "cell_type": "code",
   "execution_count": 43,
   "metadata": {},
   "outputs": [
    {
     "data": {
      "text/plain": [
       "array([[0],\n",
       "       [1],\n",
       "       [2],\n",
       "       [3]])"
      ]
     },
     "execution_count": 43,
     "metadata": {},
     "output_type": "execute_result"
    }
   ],
   "source": [
    "as_colvec(np.arange(4))"
   ]
  },
  {
   "cell_type": "code",
   "execution_count": 44,
   "metadata": {},
   "outputs": [],
   "source": [
    "def implied_returns(delta, sigma, w):\n",
    "    \"\"\"\n",
    "Obtenemos los rendimientos implícitos en equilibrio por ingeniería inversa.\n",
    "- delta: Coeficiente de Aversión al Riesgo (escalar)\n",
    "- sigma: Matriz de Varianzas-Covarianzas (N x N) como DataFrame\n",
    "- w: Ponderaciones de la cartera de mercado (N x 1) como Series\n",
    "Rentabilidades vector N x 1 como Series\n",
    "\n",
    "`squeeze()`es una herramienta útil para manejar y simplificar \n",
    "las dimensiones de los arrays, pero no modifica los datos ni \n",
    "las operaciones matemáticas subyacentes como \n",
    "el producto de matrices\n",
    "       \"\"\"\n",
    "    ir = delta * sigma.dot(w).squeeze() \n",
    "    ir.name = 'Implied Returns'\n",
    "    return ir\n"
   ]
  },
  {
   "cell_type": "code",
   "execution_count": 45,
   "metadata": {},
   "outputs": [
    {
     "data": {
      "text/plain": [
       "INTC    0.052084\n",
       "PFE     0.008628\n",
       "Name: Implied Returns, dtype: float64"
      ]
     },
     "execution_count": 45,
     "metadata": {},
     "output_type": "execute_result"
    }
   ],
   "source": [
    "tickers = ['INTC', 'PFE']\n",
    "s = pd.DataFrame([[46.0, 1.06], [1.06, 5.33]], index=tickers, columns=tickers) *  10E-4\n",
    "pi = implied_returns(delta=2.5, sigma=s, w=pd.Series([.44, .56], index=tickers))\n",
    "pi"
   ]
  },
  {
   "attachments": {},
   "cell_type": "markdown",
   "metadata": {},
   "source": [
    "La opinión de los analistas disiente de las rentabilidades de equilibrio estimadas y considera que Intel reducirá su rentabilidad al 2% y Pfizer la incrementará al 4%. Por tanto vamos a construir una nueva cartera, no a partir del modelo de mercado, sino a partir del modelo de Markowitz. Por tanto, optimizaremos el ratio de Sharpe considerando que la rentabilidad libre de riesgo es del 0%. \n",
    "$$\\begin{align}\n",
    "\\mu_e- R_f &=\\Sigma z \\\\\n",
    "z &=\\Sigma^{-1} (\\mu_e- R_f) \\\\\n",
    "w_{SR_i} &=\\frac{z_i}{\\sum_{i=1}^{N}z_i} \n",
    "\n",
    "\\end{align}$$"
   ]
  },
  {
   "cell_type": "code",
   "execution_count": 50,
   "metadata": {},
   "outputs": [
    {
     "data": {
      "text/plain": [
       "array([0.26305395, 7.45237576])"
      ]
     },
     "execution_count": 50,
     "metadata": {},
     "output_type": "execute_result"
    }
   ],
   "source": [
    "mean_returns_minus_rf=([.02, .04])\n",
    "z = np.dot(np.linalg.inv(s), mean_returns_minus_rf)\n",
    "z"
   ]
  },
  {
   "cell_type": "code",
   "execution_count": 51,
   "metadata": {},
   "outputs": [
    {
     "data": {
      "text/plain": [
       "array([0.03409453, 0.96590547])"
      ]
     },
     "execution_count": 51,
     "metadata": {},
     "output_type": "execute_result"
    }
   ],
   "source": [
    "w_sr = np.divide(z, np.sum(z))\n",
    "w_sr"
   ]
  },
  {
   "attachments": {},
   "cell_type": "markdown",
   "metadata": {},
   "source": [
    "Creamos una función que nos permita realizar las estimaciones anteriores"
   ]
  },
  {
   "cell_type": "code",
   "execution_count": 48,
   "metadata": {},
   "outputs": [],
   "source": [
    "# se define una función que estima la inversa de la matriz implícita en un dataframe.\n",
    "def inverse(d):\n",
    "    \"\"\"\n",
    "    Invert the dataframe by inverting the underlying matrix\n",
    "    \"\"\"\n",
    "    return pd.DataFrame(inv(d.values), index=d.columns, columns=d.index)\n",
    "\n",
    "def w_msr(sigma, mu, scale=True):\n",
    "    \"\"\"\n",
    "    Estimamos la cartera M de acuerdo al modelo de Markowitz (La tangente/Maximzar el Ratio Sharpe) \n",
    "    Mu: es el vector de la prima por riesgo, es un seire\n",
    "    Sigma: es una matriz N x N es un DataFrame\n",
    "        \"\"\"\n",
    "    w = inverse(sigma).dot(mu)\n",
    "    if scale:\n",
    "        w = w/sum(w) \n",
    "    return w\n"
   ]
  },
  {
   "cell_type": "code",
   "execution_count": 49,
   "metadata": {},
   "outputs": [
    {
     "data": {
      "text/plain": [
       "INTC     3.41\n",
       "PFE     96.59\n",
       "dtype: float64"
      ]
     },
     "execution_count": 49,
     "metadata": {},
     "output_type": "execute_result"
    }
   ],
   "source": [
    "mu_exp = pd.Series([.02, .04],index=tickers) # INTC and PFE\n",
    "np.round(w_msr(s, mu_exp)*100, 2)"
   ]
  },
  {
   "attachments": {},
   "cell_type": "markdown",
   "metadata": {},
   "source": [
    "La optimización ingenua de Markowitz propone una cartera con una ponderación poco realista de más del 96% en Pfizer y menos del 4% en Intel. Esto es completamente impracticable y ningún inversor razonable haría apuestas tan dramáticas.\n",
    "\n",
    "## La propuesta del modelo de Black Litterman\n",
    "\n",
    "Desde la perspectiva Bayesiana la función a priori de la rentabilidad esperada, está centrada en el valor de equilibrio, es decir, se comporta como un normal de media $\\Pi$\n",
    "$$\\mu=\\Pi+\\varepsilon^{(e)} \\tag{3}$$\n",
    "\n",
    "donde $\\varepsilon^{(e)}$ es un vector aleatorio que se distribuye como una normal de media cero y con una matriz de covarianza $\\tau\\Sigma$, donde $\\tau$ es un indicador de la incertidumbre del CAPM a priori. Dicho parámetro es fuente de confusión, algunos los igualan a 1 o calibran el modelo con $\\tau$. Black y Litterman proponen un número bajo, en este sentido una técnica habitual es $\\tau=1/T$ donde T es el número de periodos utilizados.\n",
    "\n",
    "Se disponen de $K$ opiniones que se comportan como una normal de media $q$ y desviación típica $\\omega$. Dichas opiniones se representan con dos vectores $P$ y $Q$:\n",
    "$$P'=(p_1, p_2, ...p_k)\\tag{4}$$\n",
    "$$Q'=(q_1, q_2, ...q_k)\\tag{5}$$\n",
    "\n",
    "La opinión de los inversores se puede expresar como:\n",
    "\n",
    "$$P\\mu=Q+\\varepsilon^{(\\nu)} \\tag{6}$$\n",
    "\n",
    "donde $\\varepsilon^{(\\nu)}$ es una variable aleatoria inobservable normalmente distribuida con media cero y matriz de covarianza $\\Omega$. Se supone que las opiniones son únicas e incorrelacionadas con el resto. Ello permite que la matriz de covarianza que refleja la incertidumbre implícita en las opiniones $\\Omega$ sea una matriz diagonal que recoja la varianza de las opiniones $(\\omega_i)$. Además se asume que $\\varepsilon^{(e)}$ son independientes $\\varepsilon^{(\\nu)}$:\n",
    "\n",
    "$$\\left(\\begin{array}{crl}  \n",
    "\\varepsilon^{(e)} \\\\\n",
    "\\varepsilon^{(\\nu)}\n",
    "\\end{array}\\right) \\sim \n",
    "N\\left(0,\\left[\\begin{array}{crl}  \n",
    "\\tau\\Sigma & 0 \\\\\n",
    "0 & \\Omega\n",
    "\\end{array}\\right]\\right)\n",
    "\\tag{7}$$\n",
    "\n"
   ]
  },
  {
   "cell_type": "code",
   "execution_count": 31,
   "metadata": {},
   "outputs": [
    {
     "data": {
      "text/plain": [
       "INTC    0.02\n",
       "PFE     0.04\n",
       "dtype: float64"
      ]
     },
     "execution_count": 31,
     "metadata": {},
     "output_type": "execute_result"
    }
   ],
   "source": [
    "# Opinión absoluta 1: la rentabilidad de INTC será del 2%\n",
    "# Opinión absoluta 2: la rentabilidad de PFE será del 4%\n",
    "q = pd.Series({'INTC': 0.02, 'PFE': 0.04})\n",
    "\n",
    "# La Matriz P (Pick) \n",
    "p = pd.DataFrame([\n",
    "    {'INTC': 1, 'PFE': 0},\n",
    "    {'INTC': 0, 'PFE': 1}\n",
    "    ])\n"
   ]
  },
  {
   "attachments": {},
   "cell_type": "markdown",
   "metadata": {},
   "source": [
    "## La especificación de $\\Omega$\n",
    "\n",
    "Posiblemente no siempre resulta sencillo determinar la varianza asociada a las opiniones, sobre todo cuando trabajamos con opiniones cualitativas. Además, $\\left[P^T\\Omega^{-1} P \\right]$ no es invertible y por tanto no se puede utilizar. Afortunadamente disponemos de distintos métodos para especificar $\\Omega$:\n",
    "- Una proporción de la varianza histórica.\n",
    "- Un intervalo de confianza.\n",
    "- La varianza de los residuos en un modelo factorial.\n",
    "- El método de Idzorek para especificar la confianza a lo largo de la dimensión de las ponderaciones.\n",
    "\n",
    "### Una proporción de la varianza historica\n",
    "\n",
    "Se asume que la varianza de las opiones son proporcionales a la varianza de la rentabilidad de los activos (He and Litterman. 1999; Meucci, 2006):\n",
    "\n",
    "$$\\begin{aligned}\n",
    "\\omega_{ij}&=p(\\tau\\Sigma)p^T \\forall i=j \\tag{12}\\\\\n",
    "\\omega_{ij}&=0 \\\\\n",
    "\\Omega&=diag\\left(P (\\tau\\Sigma) P^T \\right)\n",
    "\\end{aligned}$$\n",
    "\n",
    "### Un intervalo de confianza.\n",
    "\n",
    "El inversor especifica la varianza utilizando un intervalo de confianza en torno a la rentabilidad media. Por ejemplo, se ha estimado una rentabilidad esperada del 3% y se le asigna una probabilidad del 68% de se encuentre en el intervalo (2%,4%), por tanto la desviación típica es del 1%.\n",
    "\n",
    "###  La varianza de los residuos en un modelo factorial\n",
    "\n",
    "La predicción de la rentabilidad puede estar basada en un modelo factorial.\n",
    "\n",
    "$$r=\\sum_{i=1}^{n} \\beta_i f_i+ \\varepsilon \\tag{13}$$\n",
    "\n",
    "donde:\n",
    "- $r$ es la rentabilidad del activo.\n",
    "- $\\beta_i$ es el coeficiente del factor $i$.\n",
    "- $f_i$ es la rentabilidad del factor $i$.\n",
    "- $\\varepsilon$ es el error que presenta una distribución normal. \n",
    "\n",
    "La varianza de la rentabilidad estimada a través del modelo factorial es:\n",
    "\n",
    "$$V(r)=BV(F)B^T+V(\\varepsilon) \\tag{14}$$\n",
    "\n",
    "donde:\n",
    "- $B$ es el vector de coeficientes\n",
    "- $F$ es el vector de rentabilidad de los factores\n",
    "\n",
    "Beach y Orlov (2006) realizan las predicciones utilizando un modelo factorial GARCH que posteriormente incluye en el modelo de  Black-Litterman. \n",
    "\n",
    "### El método de Idzorek para especificar la confianza a lo largo de la dimensión de las ponderaciones\n",
    "\n",
    "Idzorek (2005) describe un método para especificar la confianza en la vista en términos de un desplazamiento porcentual de los pesos en el intervalo desde el 0% de confianza hasta el 100% de confianza. Veremos el algoritmo de Idzorek en la sección sobre extensiones\n"
   ]
  },
  {
   "attachments": {},
   "cell_type": "markdown",
   "metadata": {},
   "source": [
    "Entre las distintas alternativas definimos una función para estimar el riesgo de las opiniones $\\Omega$ a partir de la varianza histórica de los activos."
   ]
  },
  {
   "cell_type": "code",
   "execution_count": 55,
   "metadata": {},
   "outputs": [],
   "source": [
    "# Se asume que Omega es proporcional a la varianza histórica\n",
    "def proportional_prior(sigma, tau, p):\n",
    "    \"\"\"\n",
    "    Basado en He & Litterman (1999) \n",
    "    Inputs:\n",
    "    sigma: Matriz de covarianza N x N es un DataFrame\n",
    "    tau: es un scalar que mide el nivel de confianza en el CAPM\n",
    "    p: es un datraframe K x N DataFrame y enlaza las opiniones  Q  con la rentabilidad de los activos \n",
    "    \n",
    "    \"\"\"\n",
    "    helit_omega = p.dot(tau * sigma).dot(p.T)\n",
    "    # Make a diag matrix from the diag elements of Omega\n",
    "    return pd.DataFrame(np.diag(np.diag(helit_omega.values)),index=p.index, columns=p.index)"
   ]
  },
  {
   "attachments": {},
   "cell_type": "markdown",
   "metadata": {},
   "source": [
    "## Estimación de la rentabilidad esperada considerando las opiniones\n",
    "\n",
    "Las opiniones se combinan con el CAPM en el marco de la estadística Bayesiana y el resultado es que las rentabilidades esperadas se distribuyen como $N(\\bar{\\mu},\\bar{M}^{-1} )$. Donde la rentabilidad esperada es:\n",
    "\n",
    "$$\\bar{\\mu}=\\left[(\\tau\\Sigma)^{-1}+P'\\Omega^{-1}P\\right]^{-1}\\left[(\\tau\\Sigma)^{-1}\\Pi+P'\\Omega^{-1}Q\\right] \\tag{8}$$\n",
    "\n",
    "y la matriz de covarianza $\\bar{M}^{-1}$ es dado por:\n",
    "\n",
    "$$\\bar{M}^{-1}=\\left[(\\tau\\Sigma)^{-1}+P'\\Omega^{-1}P\\right]^{-1} \\tag{9}$$"
   ]
  },
  {
   "cell_type": "code",
   "execution_count": 53,
   "metadata": {},
   "outputs": [],
   "source": [
    "from numpy.linalg import inv\n",
    "\n",
    "def bl(w_prior, sigma_prior, p, q,\n",
    "                omega=None,\n",
    "                delta=2.5, tau=.02):\n",
    "    \"\"\"\n",
    "# Computes the posterior expected returns based on \n",
    "# the original black litterman reference model\n",
    "#\n",
    "# W.prior must be an N x 1 vector of weights, a Series\n",
    "# Sigma.prior is an N x N covariance matrix, a DataFrame\n",
    "# P must be a K x N matrix linking Q and the Assets, a DataFrame\n",
    "# Q must be an K x 1 vector of views, a Series\n",
    "# Omega must be a K x K matrix a DataFrame, or None\n",
    "# if Omega is None, we assume it is\n",
    "#    proportional to variance of the prior\n",
    "# delta and tau are scalars\n",
    "    \"\"\"\n",
    "    if omega is None:\n",
    "        omega = proportional_prior(sigma_prior, tau, p)\n",
    "    # Force w.prior and Q to be column vectors\n",
    "    # How many assets do we have?\n",
    "    N = w_prior.shape[0]\n",
    "    # And how many views?\n",
    "    K = q.shape[0]\n",
    "    # First, reverse-engineer the weights to get pi\n",
    "    pi = implied_returns(delta, sigma_prior,  w_prior)\n",
    "    # Adjust (scale) Sigma by the uncertainty scaling factor\n",
    "    sigma_prior_scaled = tau * sigma_prior  \n",
    "    # posterior estimate of the mean, use the \"Master Formula\"\n",
    "    # we use the versions that do not require\n",
    "    # Omega to be inverted (see previous section)\n",
    "    # this is easier to read if we use '@' for matrixmult instead of .dot()\n",
    "    #     mu_bl = pi + sigma_prior_scaled @ p.T @ inv(p @ sigma_prior_scaled @ p.T + omega) @ (q - p @ pi)\n",
    "    mu_bl = pi + sigma_prior_scaled.dot(p.T).dot(inv(p.dot(sigma_prior_scaled).dot(p.T) + omega).dot(q - p.dot(pi).values))\n",
    "    # posterior estimate of uncertainty of mu.bl\n",
    "#     sigma_bl = sigma_prior + sigma_prior_scaled - sigma_prior_scaled @ p.T @ inv(p @ sigma_prior_scaled @ p.T + omega) @ p @ sigma_prior_scaled\n",
    "    sigma_bl = sigma_prior + sigma_prior_scaled - sigma_prior_scaled.dot(p.T).dot(inv(p.dot(sigma_prior_scaled).dot(p.T) + omega)).dot(p).dot(sigma_prior_scaled)\n",
    "    return (mu_bl, sigma_bl)"
   ]
  },
  {
   "cell_type": "code",
   "execution_count": 54,
   "metadata": {},
   "outputs": [
    {
     "data": {
      "text/plain": [
       "INTC    0.037622\n",
       "PFE     0.024111\n",
       "dtype: float64"
      ]
     },
     "execution_count": 54,
     "metadata": {},
     "output_type": "execute_result"
    }
   ],
   "source": [
    "# Find the Black Litterman Expected Returns\n",
    "bl_mu, bl_sigma = bl(w_prior=pd.Series({'INTC':.44, 'PFE':.56}), sigma_prior=s, p=p, q=q)\n",
    "# Black Litterman Implied Mu\n",
    "bl_mu\n"
   ]
  },
  {
   "attachments": {},
   "cell_type": "markdown",
   "metadata": {},
   "source": [
    "## Identificación de las carteras eficientes de acuerdo a Black- Litterman\n",
    "\n",
    "Tras considerar las opiniones la rentabilidad presenta la siguiente función de distribución:\n",
    "\n",
    "$$r\\sim N(\\bar{\\mu},\\bar{\\Sigma} ) \\tag{10}$$\n",
    "\n",
    "donde $\\bar{\\Sigma}=\\Sigma+\\bar{M}^{-1}$\n",
    "\n",
    "Podremos identificar las cartera eficientes optimizando:\n",
    "\n",
    "$$max \\text{   } \\omega'\\bar{\\mu}-\\frac{\\delta}{2}\\omega'\\bar{\\Sigma}\\omega \\tag{11}$$\n",
    "\n",
    "La condición de primera orden: \n",
    "$$\\bar{\\mu}=\\delta\\bar{\\Sigma}\\omega^* \\tag{12}$$\n",
    "\n",
    "de donde:\n",
    "\n",
    "$$\\omega^*=\\frac{1}{\\delta}\\bar{\\Sigma}^{-1}\\bar{\\mu} \\tag{13}$$\n",
    "\n",
    "Utilizando la ecuación 8, podemos estimar la cartera de mercado\n",
    "\n",
    "$$\\omega^*=\\frac{1}{\\delta}\\bar{\\Sigma}^{-1}\\bar{M}^{-1}\\left[(\\tau\\Sigma)^{-1}\\Pi+P'\\Omega^{-1}\\right] \\tag{14}$$\n",
    "\n",
    "Dado que:\n",
    "$$\\bar{\\Sigma}^{-1}=(\\Sigma+\\bar{M}^{-1})^{-1}=\\bar{M}-\\bar{M}(\\bar{M}+\\Sigma^{-1})^{-1}\\bar{M} \\tag{15}$$\n",
    "\n",
    "el término $\\bar{\\Sigma}^{-1}\\bar{M}^{-1}$ puede ser simplificado como\n",
    "\n",
    "$$\\bar{\\Sigma}^{-1}\\bar{M}^{-1}=\\frac{\\tau}{1+\\tau}\\left(I-P'A^{-1}P\\frac{\\Sigma}{1+tau}\\right) \\tag{16}$$\n",
    "\n",
    "donde $A=\\frac{\\Omega}{\\tau}+P\\frac{\\Sigma}{(1+\\tau}P'$ por tanto la ponderación de la nueva cartera de mercado será:\n",
    "$$\\omega^*=\\frac{1}{1+\\tau}(\\omega_{eq}+P'\\times \\Lambda )\\tag{17}$$\n",
    "\n",
    "donde $\\omega_{eq}=(\\delta\\Sigma)^{-1}\\Pi$ son las ponderaciones de la cartera en equilibrio y:\n",
    "\n",
    "$$\\Lambda=\\tau\\Omega^{-1}\\frac{Q}{\\delta}-A^{-1}P\\frac{\\Sigma}{1+\\tau}\\omega_{eq}-A^{-1}P\\frac{\\Sigma}{1+\\tau}P'\\tau\\frac{Q}{\\delta} \\tag{18}$$\n",
    "\n",
    "Dado que cada columna de la matriz $P'$ es una opinión, la ecuación 17 que un inversor crea una cartera compuesta por las ponderaciones de una cartera de equilibrio más más una suma ponderada del impacto de las opiniones condicionadas por un factor $\\frac{1}{(1+\\tau)}$.\n",
    "\n",
    "Podemos realizar una interpretación intuitiva de las ponderaciones de las ecuación 18:\n",
    "- $\\tau\\Omega^{-1}\\frac{Q}{\\delta}$ cuanto mayor es el nivel de confianza en una opinión $q_k$ mayor es su peso en la determinación de la ponderación.\n",
    "- $A^{-1}P\\frac{\\Sigma}{1+\\tau}\\omega_{eq}$ la correlación entre los activos penaliza la corrección de las ponderaciones de equilibrio\n",
    "- $A^{-1}P\\frac{\\Sigma}{1+\\tau}P'\\tau\\frac{Q}{\\delta}$ podemos observar que la penalización por las covarianzas es doble.\n",
    "\n",
    "Para un inversor con un nivel de aversión al riesgo $\\hat{\\delta}$ las ponderaciones de la cartera vendrán determinadas por\n",
    "$$\\hat{\\omega}^*=\\frac{\\delta}{\\hat{\\delta}}\\omega^*\\tag{19}$$\n",
    "\n",
    "Para un inversor que no desea asumir un riesgo superior a $\\sigma$, tendrá que realizar la siguiente optimización:\n",
    "\n",
    "$$\\underset{\\omega'\\Sigma \\omega\\leq \\sigma^2}{max} \\omega' \\bar{\\mu} \\tag{20}$$\n",
    "\n",
    "La cartera óptima sería:\n",
    "\n",
    "$$\\tilde{\\omega}^*=\\left(\\frac{\\sigma \\delta}{\\sqrt{\\bar{\\mu}'\\Sigma \\bar{\\mu}}}\\right)\\omega^*$$\n",
    "\n"
   ]
  },
  {
   "cell_type": "code",
   "execution_count": null,
   "metadata": {},
   "outputs": [],
   "source": []
  },
  {
   "cell_type": "code",
   "execution_count": null,
   "metadata": {},
   "outputs": [],
   "source": []
  }
 ],
 "metadata": {
  "kernelspec": {
   "display_name": "Python 3",
   "language": "python",
   "name": "python3"
  },
  "language_info": {
   "codemirror_mode": {
    "name": "ipython",
    "version": 3
   },
   "file_extension": ".py",
   "mimetype": "text/x-python",
   "name": "python",
   "nbconvert_exporter": "python",
   "pygments_lexer": "ipython3",
   "version": "3.9.13"
  },
  "orig_nbformat": 4
 },
 "nbformat": 4,
 "nbformat_minor": 2
}
