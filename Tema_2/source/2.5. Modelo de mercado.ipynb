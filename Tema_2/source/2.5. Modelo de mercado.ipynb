{
 "cells": [
  {
   "attachments": {},
   "cell_type": "markdown",
   "metadata": {},
   "source": [
    "# Modelo de Mercado (Unifactorial)\n"
   ]
  },
  {
   "attachments": {},
   "cell_type": "markdown",
   "metadata": {},
   "source": [
    "El modelo de de mercado unifactorial consiste en tratar de explicar la rentabilidad de un activo a través del comportamiento del mercado, medido a través de la evolución de un indice. Es decir, se trata de realizar una regresión lineal unifactorial entre el comportamiento del indice y el comportamiento del mercado.\n",
    "\n",
    "$$\\tilde{R}_{it}=\\alpha_i+\\beta_i \\tilde{R}_{Mt}+\\tilde{\\varepsilon}_{it}$$\n",
    "\n",
    "La rentabilidad depende de tres componentes:\n",
    "- $\\alpha_i$: la parte del riesgo explicada por determinadas características del riesgo que no se deben a la evolución de la economía sino a características predecibles del título, se supone constante en el tiempo.\n",
    "- $\\beta_i$:la parte del riesgo que obedece a la evolución general de la economía que vienen recogido por el índice de mercado (RIESGO SISTEMÁTICO)\n",
    "- $\\varepsilon_{it}$:perturbación aleatoria del título, provocado por las decisiones o acontecimientos no predecibles (RIESGO ESPECÍFICO)"
   ]
  },
  {
   "attachments": {},
   "cell_type": "markdown",
   "metadata": {},
   "source": [
    "## Hipótesis del modelo\n",
    "\n",
    "- El riesgo específico es una variable aleatoria con $E(\\tilde{\\varepsilon}_{it})=0$. Esto tiene sentido,cualquir componente predecible debe estar incluido en $\\alpha_i$.\n",
    "- El riesgo específico y el sistemático deben estar incorrelacionados $cov(R_{Mt},\\varepsilon_{it}), \\forall t$.\n",
    "- No debe existir correlación entre los riesgos específicos de dos activos distintos $cov(\\tilde{\\varepsilon}_{it},\\tilde{\\varepsilon}_{jt}), \\forall t$.\n",
    "- No debe existir correlación entre los errores a lo largo del tiempo  $cov(\\tilde{\\varepsilon}_{it},\\tilde{\\varepsilon}_{jt'}),\\forall t\\neq t'$\n",
    "- La varianza debe del riesgo específico ser constante a lo largo del tiempo $\\sigma^2(\\tilde{\\varepsilon}_{it})=\\sigma^2(\\tilde{\\varepsilon}_{it'}),\\forall t\\neq t'$.\n",
    "- El riesgo sistemático se comporta como $\\tilde{\\varepsilon}_{it}=N(0,1),\\forall t$"
   ]
  },
  {
   "cell_type": "code",
   "execution_count": 1,
   "metadata": {},
   "outputs": [],
   "source": [
    "import pandas as pd\n",
    "import yfinance as yf\n",
    "import statsmodels.api as sm"
   ]
  },
  {
   "cell_type": "markdown",
   "metadata": {},
   "source": []
  }
 ],
 "metadata": {
  "kernelspec": {
   "display_name": "Python 3",
   "language": "python",
   "name": "python3"
  },
  "language_info": {
   "codemirror_mode": {
    "name": "ipython",
    "version": 3
   },
   "file_extension": ".py",
   "mimetype": "text/x-python",
   "name": "python",
   "nbconvert_exporter": "python",
   "pygments_lexer": "ipython3",
   "version": "3.9.13"
  },
  "orig_nbformat": 4
 },
 "nbformat": 4,
 "nbformat_minor": 2
}
