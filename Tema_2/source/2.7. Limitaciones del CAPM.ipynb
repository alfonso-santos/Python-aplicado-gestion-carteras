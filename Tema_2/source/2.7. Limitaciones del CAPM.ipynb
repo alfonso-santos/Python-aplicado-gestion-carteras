{
 "cells": [
  {
   "attachments": {},
   "cell_type": "markdown",
   "metadata": {},
   "source": [
    "The problem with this model in a real-life application is as follows:\n",
    "\n",
    "Some assets do not have enough data points for us to calculate their correlation with others (for example, new team members to the team).\n",
    "In financial markets, the correlation between assets changes dynamically, and it is hard to forecast a forward-looking correlation.\n",
    "The correlation is not linear.\n",
    "\n",
    "This model works on public equity with efficient pricing and lots of data points for modeling. But it does not work on non-liquid assets—such as private equity in start-ups or emerging market securities or bonds, where we don't have full visibility of the pricing and many are often reconstructed analytically.\n",
    "\n",
    "One specific type of correlation in risk could be credit risk—in good times, the correlation of risk across assets is low; whereas, in crisis, the correlation spikes and moves in a similar direction. Please refer to Credit Risk Pricing, Measurement and Management, by Duffie D. and Singleton, K.J., for an example on default correlation."
   ]
  },
  {
   "cell_type": "markdown",
   "metadata": {},
   "source": []
  },
  {
   "cell_type": "code",
   "execution_count": null,
   "metadata": {},
   "outputs": [],
   "source": []
  }
 ],
 "metadata": {
  "language_info": {
   "name": "python"
  },
  "orig_nbformat": 4
 },
 "nbformat": 4,
 "nbformat_minor": 2
}
