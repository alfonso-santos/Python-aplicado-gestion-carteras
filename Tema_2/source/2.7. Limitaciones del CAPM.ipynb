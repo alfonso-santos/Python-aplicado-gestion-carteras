{
 "cells": [
  {
   "attachments": {},
   "cell_type": "markdown",
   "metadata": {},
   "source": [
    "The problem with this model in a real-life application is as follows:\n",
    "\n",
    "Some assets do not have enough data points for us to calculate their correlation with others (for example, new team members to the team).\n",
    "In financial markets, the correlation between assets changes dynamically, and it is hard to forecast a forward-looking correlation.\n",
    "The correlation is not linear.\n",
    "\n",
    "This model works on public equity with efficient pricing and lots of data points for modeling. But it does not work on non-liquid assets—such as private equity in start-ups or emerging market securities or bonds, where we don't have full visibility of the pricing and many are often reconstructed analytically.\n",
    "\n",
    "One specific type of correlation in risk could be credit risk—in good times, the correlation of risk across assets is low; whereas, in crisis, the correlation spikes and moves in a similar direction. Please refer to Credit Risk Pricing, Measurement and Management, by Duffie D. and Singleton, K.J., for an example on default correlation."
   ]
  },
  {
   "attachments": {},
   "cell_type": "markdown",
   "metadata": {},
   "source": [
    "The CAPM has been empirically tested, generating plenty of controversy. Empirical evidence does not fully support the model, although even defining how the test should be carried out is controversial. In fact, we have stated the CAPM in relationship with an index portfolio, but we should actually include any traded asset, not only stock shares, which is far from trivial. Nevertheless, even though we may not believe in the CAPM literally, this does not imply that it is useless. As we shall see in Section 10.3, the CAPM is the foundation of the Black-Litterman portfolio optimization model, which can be interpreted as an application of Bayesian statistics. Furthermore, the CAPM can provide us with a benchmark for security analysis ex-ante, and for performance evaluation ex-post. Let us illustrate how we may use the ex-post SML to evaluate realized performance, taking ex-ante risk into account. The left plot in Fig. 10.3 shows the ex-ante SML. All portfolios p1, p2   and   p3 are on the SML, following the CAPM principle. We may increase the portfolio risk premium only by increasing its exposure to systematic, nondiversifiable risk. The CAPM is about ex-ante expectation, but let us stretch the model a bit and draw the SML ex-post. This means that we plot the actual return performance of each portfolio, while keeping the ex-ante assessment of risk. Let us assume that the market return falls well below its expectation, resulting in a loss. In the picture on the right, the ex-post SML features a negative slope, going through the risk-free asset and the point M' corresponding to the actual market performance. If the observed performance of the three portfolios were in line, the corresponding points P1, P2, and P3 should lie on the SML. On the contrary, say that we observe points , where return is observed ex-post and risk is assessed ex-ante. Note that this approach is not quite correct, nor theoretically sound, as it is not supported by the CAPM. However, the idea is to use the ex-post SML to define a sensible benchmark. For instance, point p3 corresponds to the benchmark performance of a portfolio, consistent with its exposure to market risk and the realized market performance. Point , corresponding to the actual performance, is above p3. This portfolio did not perform well in absolute terms, but it is above the line. Hence, in terms of relative performance, the portfolio manager did fairly well. The same can be said for portfolio p1 , which looks even better than p3 , whereas portfolio p2 had an unsatisfactory performance, as it lies below the ex-post SML.\n",
    "\n",
    "Figura 3: Línea del mercado de los títulos (SML)\n",
    "\n",
    "![SML](https://raw.githubusercontent.com/alfonso-santos/Python-aplicado-gestion-carteras/fernando/Tema_2/imgs/c10f003.jpg)\n",
    "\n",
    "Fuente:Brandimarte(2018)\n",
    "\n",
    "By a similar token, let us assume that the market performs according to or above expectations, so that the ex-post SML has positive slope. If an extremely risky portfolio yields a remarkable profit, before getting too excited, we should check if this profit is in line with the risk that the manager has taken. If observed return is positive, but below the SML, we might wonder if the performance has really been that good."
   ]
  },
  {
   "cell_type": "code",
   "execution_count": null,
   "metadata": {},
   "outputs": [],
   "source": []
  }
 ],
 "metadata": {
  "language_info": {
   "name": "python"
  },
  "orig_nbformat": 4
 },
 "nbformat": 4,
 "nbformat_minor": 2
}
