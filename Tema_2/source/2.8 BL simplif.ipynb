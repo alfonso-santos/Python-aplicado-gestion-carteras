{
 "cells": [
  {
   "attachments": {},
   "cell_type": "markdown",
   "metadata": {},
   "source": [
    "# Black-Litterman\n",
    "\n",
    "La principal diferencia con respecto a la estadística ortodoxa es que, en el enfoque bayesiano, los parámetros de las distribuciones de probabilidad son variables aleatorias y su distribución representa nuestra incertidumbre sobre ellos.\n",
    "Por lo tanto, en lugar de basarnos únicamente en los datos, podemos representar el conocimiento posiblemente subjetivo mediante una distribución a priori de los parámetros, que se revisa a medida que reunimos más pruebas, lo que da lugar a una distribución a posteriori.\n",
    "\n",
    "Partimos de la estimación de la cartera óptima:\n",
    "$$w^*=\\frac{1}{\\lambda}\\Sigma^{-1}\\pi \\tag{1}$$\n",
    "\n",
    "donde $\\lambda$ es la aversión al riesgo del inversor, $\\Sigma$ la matriz de varianzas-covarianzas y $\\pi$ la prima de mercado.\n",
    "\n",
    "Si consideramos que las ponderaciones de la cartera de mercado son $w_{Mj}$, la rentabilidad  del mercado es una variable aleatoria determinada por:\n",
    "\n",
    "$$\\tilde{r}_M=\\sum_{j=1}^N w_{Mj}\\tilde{r}_j \\tag{2}$$\n",
    "\n",
    "De acuerdo al CAPM la rentabilidad esperada de cada activo viene definida por:\n",
    "$$\\mu_j-r_f=\\beta_j(\\mu_M-r_f) \\tag{3}$$\n",
    "\n",
    "donde\n",
    "\n",
    "$$\\mu_M=\\sum_{j=1}^N w_{Mj}\\mu_j \\tag{4}$$\n",
    "\n",
    "Si $\\pi_{ei}$ es el premio de mercado en equilibrio:\n",
    "$$\\begin{align}\n",
    "\\pi_{ej}&=\\frac{cov(\\tilde{r}_i,\\tilde{r}_M)}{\\sigma^2_M}(\\mu_M-r_f) \\tag{5} \\\\\n",
    "&=\\frac{1}{\\sigma^2_M}cov\\left(\\tilde{r}_i,\\sum_{j=1}^N w_{Mj}\\tilde{r}_j \\right)(\\mu_M-r_f) \\\\\n",
    "&=\\frac{(\\mu_M-r_f)}{\\sigma^2_M}\\sum_{j=1}^N w_{Mj}cov(\\tilde{r}_i,\\tilde{r}_j)\n",
    "\\end{align}$$\n",
    "\n",
    "Si lo expresmos matricialmente \n",
    "$$\\pi_e=\\delta\\Sigma \\mathrm{w}_m \\tag{5}$$\n",
    "\n",
    "donde $\\delta$ es el ratio de Sharpe del mercado. Si comparamos las ecuaciones 1 y 5 podemos apreciar que el coeficiente de aversión $\\lambda$ al riesgo del mercado puede ser medido con $\\delta$.\n",
    "\n",
    "En el marco bayesiano, las primas de riesgo inciertas se consideran un vector $\\tilde{\\theta}$ de variables aleatorias.Las estimaciones que implica el equilibrio del mercado se basan en conocimientos previos, que podemos representar como una información condicionante $\\mathcal{M}_e$. Por tanto la prima de mercado puede interpretarse como:\n",
    "$$\\pi_e=E\\left[\\tilde{\\theta}|\\mathcal{M}_e\\right]$$\n",
    "\n",
    "Del mismo modo,$\\pi_s$ para la estimación implícita basadas en las opiniones subjetivas, y $\\pi_{BL}$ para la estimación agregada de Black-Litterman. \n",
    "\n",
    "Vamos a considerar las opiniones subjetivas, así suponemos que el activo 2 superará en un 2% al activo 5.\n",
    "$$\\pi_{s2}-\\pi_{s5}=0.02$$ \n",
    "\n",
    "Matricialmente podríamos utilizar la siguiente expresión para modelizar las opiniones subjetivas:\n",
    "$$\\mathrm{P}\\mathrm{\\pi}_s=\\mathrm{q}$$\n",
    "\n"
   ]
  },
  {
   "cell_type": "code",
   "execution_count": null,
   "metadata": {},
   "outputs": [],
   "source": []
  },
  {
   "cell_type": "code",
   "execution_count": null,
   "metadata": {},
   "outputs": [],
   "source": []
  },
  {
   "cell_type": "code",
   "execution_count": null,
   "metadata": {},
   "outputs": [],
   "source": []
  }
 ],
 "metadata": {
  "kernelspec": {
   "display_name": "Python 3",
   "language": "python",
   "name": "python3"
  },
  "language_info": {
   "name": "python",
   "version": "3.9.13"
  },
  "orig_nbformat": 4
 },
 "nbformat": 4,
 "nbformat_minor": 2
}
