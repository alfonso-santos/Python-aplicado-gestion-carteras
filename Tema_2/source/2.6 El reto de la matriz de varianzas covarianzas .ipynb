{
 "cells": [
  {
   "attachments": {},
   "cell_type": "markdown",
   "metadata": {},
   "source": [
    "# El reto de la matriz de varianzas covarianzas"
   ]
  },
  {
   "attachments": {},
   "cell_type": "markdown",
   "metadata": {},
   "source": [
    "La aplicación práctica de la técnica de optimización propuesta plantea muchos problemas.Vermos cuales son los retos principales.\n",
    "La optimización de la cartera requiere la inversión de una matriz de covarianza, pero en la práctica esta matriz de covarianza no suele ser de rango completo. Si esto no se maneja adecuadamente, puede dar lugar a resultados inestables e indeseables al realizar la operación de inversión.Esto es especialmente difícil cuando se optimizan activos muy correlacionados, y puede dar lugar a carteras inestables e inverosímiles."
   ]
  },
  {
   "attachments": {},
   "cell_type": "markdown",
   "metadata": {},
   "source": [
    "## Estimación del error en las rentabilidades esperadas\n",
    "\n",
    "El error que cometemos cuando utilizamos datos históricos para estimar la rentabilidad esparada es:\n",
    "$$\\epsilon_{\\mu}=\\frac{\\sigma}{\\sqrt{T}} \\tag{1}$$\n",
    "\n",
    "donde $\\epsilon_{\\mu}$ es el error en la estimación, $\\sigma$ es la volatilidad del activo y $T$ es la amplitud temporal utilizada para estimar la esperanza.\n",
    "\n",
    "Si disponemos de 20 años de datos, y estimamos la media de un activo con una volatilidad del 20%, el error de estimación de la media es de casi el 4,5%. "
   ]
  },
  {
   "cell_type": "code",
   "execution_count": 3,
   "metadata": {},
   "outputs": [],
   "source": [
    "def emu(sigma, T):\n",
    "   emu=sigma/(T)**0.5\n",
    "   return emu"
   ]
  },
  {
   "cell_type": "code",
   "execution_count": 5,
   "metadata": {},
   "outputs": [
    {
     "data": {
      "text/plain": [
       "0.044721359549995794"
      ]
     },
     "execution_count": 5,
     "metadata": {},
     "output_type": "execute_result"
    }
   ],
   "source": [
    "sigma=0.2\n",
    "T=20\n",
    "emu(sigma,T)"
   ]
  },
  {
   "attachments": {},
   "cell_type": "markdown",
   "metadata": {},
   "source": [
    "Que ocurre si trabajamos con datos mensuales."
   ]
  },
  {
   "cell_type": "code",
   "execution_count": 7,
   "metadata": {},
   "outputs": [
    {
     "data": {
      "text/plain": [
       "0.00372677996249965"
      ]
     },
     "execution_count": 7,
     "metadata": {},
     "output_type": "execute_result"
    }
   ],
   "source": [
    "sigma_m= 0.2/(12)**0.5\n",
    "T_m=20*12\n",
    "emu(sigma_m,T_m)\n"
   ]
  },
  {
   "attachments": {},
   "cell_type": "markdown",
   "metadata": {},
   "source": [
    "Para alcanzar un error de estimación del 1% para este activo, necesitaríamos 400 años de datos. Aún más problemático, un intervalo de confianza del 90% de la estimación de la media estaría cerca del +/- 7%, un rango del 14%.La magnitud de este error de estimación y los requisitos implícitos relativos a la duración del periodo de medición son realmente sorprendentes. La magnitud de este error de estimación y los requisitos implícitos en cuanto a la duración del periodo de medición son realmente sorprendentes."
   ]
  }
 ],
 "metadata": {
  "kernelspec": {
   "display_name": "Python 3",
   "language": "python",
   "name": "python3"
  },
  "language_info": {
   "codemirror_mode": {
    "name": "ipython",
    "version": 3
   },
   "file_extension": ".py",
   "mimetype": "text/x-python",
   "name": "python",
   "nbconvert_exporter": "python",
   "pygments_lexer": "ipython3",
   "version": "3.9.13"
  },
  "orig_nbformat": 4
 },
 "nbformat": 4,
 "nbformat_minor": 2
}
