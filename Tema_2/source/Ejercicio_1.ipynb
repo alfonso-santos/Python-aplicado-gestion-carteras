{
 "cells": [
  {
   "attachments": {},
   "cell_type": "markdown",
   "metadata": {},
   "source": [
    "# Parcial de Carteras 2023"
   ]
  },
  {
   "attachments": {},
   "cell_type": "markdown",
   "metadata": {},
   "source": [
    "Consideramos que nuestro universo empresarial está compuesto por las siguientes empresas. Trabajamos con datos diarios y la rentabilidad libre de riesgo es del 5.5,285%.\n",
    "\n",
    "1.     ^GSPC S&P500 indice de mercado\n",
    "\n",
    "2.     AAPL Apple Inc\n",
    "\n",
    "3.     AIG American International Group, Inc.\n",
    "\n",
    "4.     AMZN Amazon.com, Inc.\n",
    "\n",
    "5.     AXP American Express\n",
    "\n",
    "6.     BAC Bank of America\n",
    "\n",
    "7.     CLX The Clorox Company\n",
    "\n",
    "8.     CSCO CISCO\n",
    "\n",
    "9.     CVX Chevron\n",
    "\n",
    "10.   DPZ Domino's Pizza, Inc.\n",
    "\n",
    "11.   EBAY eBay Inc.\n",
    "\n",
    "12.   GOOGL Alphabet Inc.\n",
    "\n",
    "13.   KO Coca Cola\n",
    "\n",
    "14.   MSFT  Microsoft Corporation\n",
    "\n",
    "15.   TEF Telefónica, S.A.\n",
    "\n",
    "La cartera que define la línea del mercado de capitales sí sólo trabajamos con los 14 títulos ofrece un rentabilidad mayor que el índice de mercado (^GSPC S&P500 indice de mercado). Suponemos que durante un año se cotizan 252 días y no se puede utilizar el optimizador para contestar a esta pregunta.\n",
    "La respuesta errónea resta.\n",
    "\n"
   ]
  },
  {
   "cell_type": "code",
   "execution_count": 79,
   "metadata": {},
   "outputs": [],
   "source": [
    "import numpy as np\n",
    "import pandas as pd\n",
    "import yfinance as yf\n",
    "from sklearn.linear_model import LinearRegression\n",
    "import math\n",
    "import matplotlib.pyplot as plt\n",
    "import scipy.optimize as sco\n",
    "import statsmodels.api as sm"
   ]
  },
  {
   "attachments": {},
   "cell_type": "markdown",
   "metadata": {},
   "source": [
    "Obtenemos los precios de Yahoo Finance"
   ]
  },
  {
   "cell_type": "code",
   "execution_count": 80,
   "metadata": {},
   "outputs": [],
   "source": [
    "stocks_list = 'AAPL AIG AMZN AXP BAC CLX CSCO CVX DPZ EBAY GOOGL KO MSFT TEF' #ojo no incluir el indice\n",
    "start_date = '2018-08-01'\n",
    "end_date = '2023-09-01'"
   ]
  },
  {
   "cell_type": "code",
   "execution_count": 81,
   "metadata": {},
   "outputs": [
    {
     "name": "stdout",
     "output_type": "stream",
     "text": [
      "[*********************100%***********************]  14 of 14 completed\n",
      "Precio de las acciones:\n",
      "                 AAPL        AIG       AMZN        AXP        BAC         CLX  \\\n",
      "Date                                                                            \n",
      "2018-08-01  48.013962  47.416664  89.858498  92.262833  27.601383  116.324989   \n",
      "2018-08-02  49.417446  47.563244  91.716499  92.522598  27.627878  123.504288   \n",
      "2018-08-03  49.560429  46.261204  91.164497  93.505981  27.831028  124.059219   \n",
      "2018-08-06  49.817757  46.062885  92.387497  93.626602  27.839855  124.440727   \n",
      "2018-08-07  49.350727  45.692112  93.124001  94.600700  27.831028  122.671890   \n",
      "\n",
      "                 CSCO        CVX         DPZ       EBAY      GOOGL         KO  \\\n",
      "Date                                                                            \n",
      "2018-08-01  35.728283  99.746849  256.222076  30.668215  61.649502  39.352844   \n",
      "2018-08-02  36.300140  98.450195  262.297333  30.788700  62.056499  39.174706   \n",
      "2018-08-03  36.556194  98.680878  264.903748  31.196497  61.908001  39.547955   \n",
      "2018-08-06  36.957344  98.879761  265.510345  31.502348  61.883499  39.573410   \n",
      "2018-08-07  37.196335  99.579788  262.960785  31.307716  62.792000  39.446163   \n",
      "\n",
      "                  MSFT       TEF  \n",
      "Date                              \n",
      "2018-08-01  100.307007  6.429691  \n",
      "2018-08-02  101.524513  6.336817  \n",
      "2018-08-03  101.968102  6.372538  \n",
      "2018-08-06  102.053032  6.308240  \n",
      "2018-08-07  102.760880  6.386826  \n"
     ]
    }
   ],
   "source": [
    "data = yf.download(tickers=stocks_list, start=start_date,\n",
    "                   end=end_date, interval=\"1d\")['Adj Close'].dropna()\n",
    "print(\"Precio de las acciones:\")\n",
    "symbols=data.columns\n",
    "noa=len(symbols)\n",
    "print(data.head())"
   ]
  },
  {
   "attachments": {},
   "cell_type": "markdown",
   "metadata": {},
   "source": [
    "Estimamos las rentabilidades diarias"
   ]
  },
  {
   "cell_type": "code",
   "execution_count": 82,
   "metadata": {},
   "outputs": [
    {
     "name": "stdout",
     "output_type": "stream",
     "text": [
      "Rentabilidad Diaria:\n",
      "                AAPL       AIG      AMZN       AXP       BAC       CLX  \\\n",
      "Date                                                                     \n",
      "2018-08-02  0.028812  0.003087  0.020466  0.002812  0.000959  0.059888   \n",
      "2018-08-03  0.002889 -0.027757 -0.006037  0.010572  0.007326  0.004483   \n",
      "2018-08-06  0.005179 -0.004296  0.013326  0.001289  0.000317  0.003070   \n",
      "2018-08-07 -0.009419 -0.008082  0.007940  0.010350 -0.000317 -0.014316   \n",
      "2018-08-08  0.000676 -0.010434  0.012825  0.007912  0.009161 -0.004392   \n",
      "\n",
      "                CSCO       CVX       DPZ      EBAY     GOOGL        KO  \\\n",
      "Date                                                                     \n",
      "2018-08-02  0.015879 -0.013085  0.023434  0.003921  0.006580 -0.004537   \n",
      "2018-08-03  0.007029  0.002340  0.009888  0.013158 -0.002396  0.009483   \n",
      "2018-08-06  0.010914  0.002013  0.002287  0.009756 -0.000396  0.000643   \n",
      "2018-08-07  0.006446  0.007055 -0.009649 -0.006197  0.014574 -0.003221   \n",
      "2018-08-08  0.005948 -0.010439  0.033563  0.001774  0.004362 -0.007555   \n",
      "\n",
      "                MSFT       TEF  \n",
      "Date                            \n",
      "2018-08-02  0.012065 -0.014550  \n",
      "2018-08-03  0.004360  0.005621  \n",
      "2018-08-06  0.000833 -0.010141  \n",
      "2018-08-07  0.006912  0.012381  \n",
      "2018-08-08  0.005587 -0.005609  \n"
     ]
    }
   ],
   "source": [
    "diario_ret = np.log(data).diff().dropna()\n",
    "print(\"Rentabilidad Diaria:\")\n",
    "print(diario_ret.head())"
   ]
  },
  {
   "attachments": {},
   "cell_type": "markdown",
   "metadata": {},
   "source": [
    "Calculamos la rentabilidad media diaria"
   ]
  },
  {
   "cell_type": "code",
   "execution_count": 83,
   "metadata": {},
   "outputs": [
    {
     "name": "stdout",
     "output_type": "stream",
     "text": [
      "AAPL     0.268539\n",
      "AIG      0.040281\n",
      "AMZN     0.084543\n",
      "AXP      0.105172\n",
      "BAC      0.007484\n",
      "CLX      0.056442\n",
      "CSCO     0.091822\n",
      "CVX      0.094454\n",
      "DPZ      0.080852\n",
      "EBAY     0.074582\n",
      "GOOGL    0.156133\n",
      "KO       0.080986\n",
      "MSFT     0.233291\n",
      "TEF     -0.089132\n",
      "dtype: float64\n"
     ]
    }
   ],
   "source": [
    "mean_ret= diario_ret.mean()\n",
    "print (mean_ret*252)\n",
    "assets_mean_ret = np.array(mean_ret)"
   ]
  },
  {
   "attachments": {},
   "cell_type": "markdown",
   "metadata": {},
   "source": [
    "Calculamos la matriz de covarianzas"
   ]
  },
  {
   "cell_type": "code",
   "execution_count": 84,
   "metadata": {},
   "outputs": [
    {
     "name": "stdout",
     "output_type": "stream",
     "text": [
      "Matriz de varianzas covarianzas:\n",
      "           AAPL       AIG      AMZN       AXP       BAC       CLX      CSCO  \\\n",
      "AAPL   0.000436  0.000215  0.000307  0.000240  0.000216  0.000073  0.000225   \n",
      "AIG    0.000215  0.000672  0.000147  0.000451  0.000435  0.000017  0.000219   \n",
      "AMZN   0.000307  0.000147  0.000528  0.000187  0.000169  0.000046  0.000185   \n",
      "AXP    0.000240  0.000451  0.000187  0.000551  0.000409  0.000017  0.000224   \n",
      "BAC    0.000216  0.000435  0.000169  0.000409  0.000500  0.000019  0.000220   \n",
      "CLX    0.000073  0.000017  0.000046  0.000017  0.000019  0.000288  0.000071   \n",
      "CSCO   0.000225  0.000219  0.000185  0.000224  0.000220  0.000071  0.000328   \n",
      "CVX    0.000174  0.000371  0.000111  0.000334  0.000322  0.000008  0.000176   \n",
      "DPZ    0.000139  0.000076  0.000158  0.000080  0.000082  0.000054  0.000106   \n",
      "EBAY   0.000205  0.000164  0.000225  0.000172  0.000167  0.000076  0.000156   \n",
      "GOOGL  0.000290  0.000210  0.000314  0.000235  0.000208  0.000039  0.000196   \n",
      "KO     0.000120  0.000184  0.000074  0.000173  0.000154  0.000073  0.000115   \n",
      "MSFT   0.000313  0.000202  0.000318  0.000231  0.000204  0.000067  0.000218   \n",
      "TEF    0.000134  0.000232  0.000100  0.000225  0.000225  0.000028  0.000132   \n",
      "\n",
      "            CVX       DPZ      EBAY     GOOGL        KO      MSFT       TEF  \n",
      "AAPL   0.000174  0.000139  0.000205  0.000290  0.000120  0.000313  0.000134  \n",
      "AIG    0.000371  0.000076  0.000164  0.000210  0.000184  0.000202  0.000232  \n",
      "AMZN   0.000111  0.000158  0.000225  0.000314  0.000074  0.000318  0.000100  \n",
      "AXP    0.000334  0.000080  0.000172  0.000235  0.000173  0.000231  0.000225  \n",
      "BAC    0.000322  0.000082  0.000167  0.000208  0.000154  0.000204  0.000225  \n",
      "CLX    0.000008  0.000054  0.000076  0.000039  0.000073  0.000067  0.000028  \n",
      "CSCO   0.000176  0.000106  0.000156  0.000196  0.000115  0.000218  0.000132  \n",
      "CVX    0.000505  0.000055  0.000117  0.000171  0.000137  0.000170  0.000190  \n",
      "DPZ    0.000055  0.000425  0.000113  0.000125  0.000045  0.000145  0.000046  \n",
      "EBAY   0.000117  0.000113  0.000429  0.000177  0.000083  0.000198  0.000088  \n",
      "GOOGL  0.000171  0.000125  0.000177  0.000405  0.000107  0.000309  0.000139  \n",
      "KO     0.000137  0.000045  0.000083  0.000107  0.000182  0.000117  0.000106  \n",
      "MSFT   0.000170  0.000145  0.000198  0.000309  0.000117  0.000384  0.000130  \n",
      "TEF    0.000190  0.000046  0.000088  0.000139  0.000106  0.000130  0.000379  \n"
     ]
    }
   ],
   "source": [
    "cov_mat = diario_ret.cov()\n",
    "var_cov_mat = np.array(cov_mat)\n",
    "print(\"Matriz de varianzas covarianzas:\")\n",
    "print(cov_mat)"
   ]
  },
  {
   "attachments": {},
   "cell_type": "markdown",
   "metadata": {},
   "source": [
    "Repetimos la misma operación con el indice "
   ]
  },
  {
   "cell_type": "code",
   "execution_count": 86,
   "metadata": {},
   "outputs": [],
   "source": [
    "index_list = '^GSPC'\n",
    "start_date = '2018-08-01'\n",
    "end_date = '2023-09-01'"
   ]
  },
  {
   "cell_type": "code",
   "execution_count": 87,
   "metadata": {},
   "outputs": [
    {
     "name": "stdout",
     "output_type": "stream",
     "text": [
      "[*********************100%***********************]  1 of 1 completed\n",
      "Evolución del Indice de Mercad:\n",
      "Date\n",
      "2018-08-01    2813.360107\n",
      "2018-08-02    2827.219971\n",
      "2018-08-03    2840.350098\n",
      "2018-08-06    2850.399902\n",
      "2018-08-07    2858.449951\n",
      "Name: Adj Close, dtype: float64\n"
     ]
    }
   ],
   "source": [
    "data_i = yf.download(tickers=index_list, start=start_date,\n",
    "                   end=end_date, interval=\"1d\")['Adj Close'].dropna()\n",
    "print(\"Evolución del Indice de Mercad:\")\n",
    "print(data_i.head())"
   ]
  },
  {
   "cell_type": "code",
   "execution_count": 88,
   "metadata": {},
   "outputs": [
    {
     "name": "stdout",
     "output_type": "stream",
     "text": [
      "Rentabilidad Diaria:\n",
      "Date\n",
      "2018-08-02    0.004914\n",
      "2018-08-03    0.004633\n",
      "2018-08-06    0.003532\n",
      "2018-08-07    0.002820\n",
      "2018-08-08   -0.000262\n",
      "Name: Adj Close, dtype: float64\n"
     ]
    }
   ],
   "source": [
    "diario_ret_i = np.log(data_i).diff().dropna()\n",
    "print(\"Rentabilidad Diaria:\")\n",
    "print(diario_ret_i.head())"
   ]
  },
  {
   "cell_type": "code",
   "execution_count": 89,
   "metadata": {},
   "outputs": [
    {
     "name": "stdout",
     "output_type": "stream",
     "text": [
      "0.09287917496697862\n"
     ]
    }
   ],
   "source": [
    "mean_ret_i= diario_ret_i.mean()\n",
    "print (mean_ret_i*252)"
   ]
  },
  {
   "attachments": {},
   "cell_type": "markdown",
   "metadata": {},
   "source": [
    "Estimamos la rentabilidad libre de riesgo diaria"
   ]
  },
  {
   "cell_type": "code",
   "execution_count": 91,
   "metadata": {},
   "outputs": [],
   "source": [
    "rf=0.05285/252"
   ]
  },
  {
   "attachments": {},
   "cell_type": "markdown",
   "metadata": {},
   "source": [
    "Definimos funciones para calcular la rentabilidad de una cartera, su volatilidad y el ratio de sharpe con signo negativo."
   ]
  },
  {
   "cell_type": "code",
   "execution_count": 92,
   "metadata": {},
   "outputs": [],
   "source": [
    "def port_ret(weights):\n",
    "    return np.dot(mean_ret.T *252, weights)"
   ]
  },
  {
   "cell_type": "code",
   "execution_count": 93,
   "metadata": {},
   "outputs": [],
   "source": [
    "def port_vol(weights):\n",
    "    return np.sqrt(np.dot(weights.T, np.dot(cov_mat * 252, weights)))"
   ]
  },
  {
   "cell_type": "code",
   "execution_count": 94,
   "metadata": {},
   "outputs": [],
   "source": [
    "def min_func_sharpe(weights):\n",
    "    return -(port_ret(weights)-rf) / port_vol(weights)"
   ]
  },
  {
   "attachments": {},
   "cell_type": "markdown",
   "metadata": {},
   "source": [
    "Indicamos que todas las ponderaciones deben de estar en tre 0 y 1. Es decir no están permitidas las posiciones cortas."
   ]
  },
  {
   "cell_type": "code",
   "execution_count": 95,
   "metadata": {},
   "outputs": [
    {
     "data": {
      "text/plain": [
       "((0, 1),\n",
       " (0, 1),\n",
       " (0, 1),\n",
       " (0, 1),\n",
       " (0, 1),\n",
       " (0, 1),\n",
       " (0, 1),\n",
       " (0, 1),\n",
       " (0, 1),\n",
       " (0, 1),\n",
       " (0, 1),\n",
       " (0, 1),\n",
       " (0, 1),\n",
       " (0, 1))"
      ]
     },
     "execution_count": 95,
     "metadata": {},
     "output_type": "execute_result"
    }
   ],
   "source": [
    "bnds = tuple((0, 1) for x in range(noa))\n",
    "bnds"
   ]
  },
  {
   "attachments": {},
   "cell_type": "markdown",
   "metadata": {},
   "source": [
    "Indicamos que la suma de las ponderaciones debe ser igual a 1"
   ]
  },
  {
   "cell_type": "code",
   "execution_count": 96,
   "metadata": {},
   "outputs": [
    {
     "data": {
      "text/plain": [
       "{'type': 'eq', 'fun': <function __main__.<lambda>(x)>}"
      ]
     },
     "execution_count": 96,
     "metadata": {},
     "output_type": "execute_result"
    }
   ],
   "source": [
    "cons = ({'type': 'eq', 'fun': lambda x:np.sum(x) - 1})\n",
    "cons"
   ]
  },
  {
   "attachments": {},
   "cell_type": "markdown",
   "metadata": {},
   "source": [
    "Calculamos las ponderaciones de una cartera equipondedarada."
   ]
  },
  {
   "cell_type": "code",
   "execution_count": 97,
   "metadata": {},
   "outputs": [
    {
     "data": {
      "text/plain": [
       "array([0.07142857, 0.07142857, 0.07142857, 0.07142857, 0.07142857,\n",
       "       0.07142857, 0.07142857, 0.07142857, 0.07142857, 0.07142857,\n",
       "       0.07142857, 0.07142857, 0.07142857, 0.07142857])"
      ]
     },
     "execution_count": 97,
     "metadata": {},
     "output_type": "execute_result"
    }
   ],
   "source": [
    "eweights = np.array(noa * [1. / noa,])\n",
    "eweights"
   ]
  },
  {
   "cell_type": "code",
   "execution_count": 98,
   "metadata": {},
   "outputs": [
    {
     "data": {
      "text/plain": [
       "-0.4230032005966753"
      ]
     },
     "execution_count": 98,
     "metadata": {},
     "output_type": "execute_result"
    }
   ],
   "source": [
    "min_func_sharpe(eweights)"
   ]
  },
  {
   "attachments": {},
   "cell_type": "markdown",
   "metadata": {},
   "source": [
    "Utilizamos el optimizador para encontrar la cartera M que define la línea del mercado de capitales"
   ]
  },
  {
   "cell_type": "code",
   "execution_count": 99,
   "metadata": {},
   "outputs": [
    {
     "data": {
      "text/plain": [
       "     fun: -0.8350450160002154\n",
       "     jac: array([-0.00071687,  0.3500658 ,  0.43516421,  0.19164857,  0.46377111,\n",
       "       -0.00066102,  0.20916642,  0.07977924,  0.05708096,  0.22112307,\n",
       "        0.1597185 ,  0.00708573, -0.00069639,  0.60786691])\n",
       " message: 'Optimization terminated successfully'\n",
       "    nfev: 105\n",
       "     nit: 7\n",
       "    njev: 7\n",
       "  status: 0\n",
       " success: True\n",
       "       x: array([6.07955089e-01, 2.16840434e-18, 8.08814821e-17, 0.00000000e+00,\n",
       "       3.37186876e-16, 3.93507709e-02, 0.00000000e+00, 0.00000000e+00,\n",
       "       0.00000000e+00, 1.20780122e-16, 2.58799059e-16, 0.00000000e+00,\n",
       "       3.52694140e-01, 0.00000000e+00])"
      ]
     },
     "execution_count": 99,
     "metadata": {},
     "output_type": "execute_result"
    }
   ],
   "source": [
    "opts = sco.minimize(min_func_sharpe, eweights, method='SLSQP', bounds=bnds, constraints=cons)\n",
    "opts"
   ]
  },
  {
   "cell_type": "code",
   "execution_count": 100,
   "metadata": {},
   "outputs": [
    {
     "data": {
      "text/plain": [
       "array([0.608, 0.   , 0.   , 0.   , 0.   , 0.039, 0.   , 0.   , 0.   ,\n",
       "       0.   , 0.   , 0.   , 0.353, 0.   ])"
      ]
     },
     "execution_count": 100,
     "metadata": {},
     "output_type": "execute_result"
    }
   ],
   "source": [
    "M=opts['x'].round(3)\n",
    "M"
   ]
  },
  {
   "cell_type": "code",
   "execution_count": 126,
   "metadata": {},
   "outputs": [],
   "source": [
    "ret_M_m=port_ret(M)"
   ]
  },
  {
   "attachments": {},
   "cell_type": "markdown",
   "metadata": {},
   "source": [
    "Determina la beta de la cartera anterior, utilizando para ello el índice de mercado. Indica el resultado utilizando tres decimales"
   ]
  },
  {
   "cell_type": "code",
   "execution_count": 102,
   "metadata": {},
   "outputs": [],
   "source": [
    "# Convertir las ponderaciones en una serie\n",
    "M = pd.Series(M)\n"
   ]
  },
  {
   "attachments": {},
   "cell_type": "markdown",
   "metadata": {},
   "source": [
    "Calculamos la rentabilidad diaria de la cartera M"
   ]
  },
  {
   "cell_type": "code",
   "execution_count": 103,
   "metadata": {},
   "outputs": [
    {
     "data": {
      "text/plain": [
       "array([ 0.02411198,  0.00347046,  0.00356234, ...,  0.01859912,\n",
       "        0.0119472 , -0.00054694])"
      ]
     },
     "execution_count": 103,
     "metadata": {},
     "output_type": "execute_result"
    }
   ],
   "source": [
    "rentabilidad_M = np.dot(diario_ret, M)\n",
    "rentabilidad_M"
   ]
  },
  {
   "attachments": {},
   "cell_type": "markdown",
   "metadata": {},
   "source": [
    "Añadimos la constante a la rentabilidad diaria del indice"
   ]
  },
  {
   "cell_type": "code",
   "execution_count": 104,
   "metadata": {},
   "outputs": [
    {
     "data": {
      "text/html": [
       "<div>\n",
       "<style scoped>\n",
       "    .dataframe tbody tr th:only-of-type {\n",
       "        vertical-align: middle;\n",
       "    }\n",
       "\n",
       "    .dataframe tbody tr th {\n",
       "        vertical-align: top;\n",
       "    }\n",
       "\n",
       "    .dataframe thead th {\n",
       "        text-align: right;\n",
       "    }\n",
       "</style>\n",
       "<table border=\"1\" class=\"dataframe\">\n",
       "  <thead>\n",
       "    <tr style=\"text-align: right;\">\n",
       "      <th></th>\n",
       "      <th>const</th>\n",
       "      <th>Adj Close</th>\n",
       "    </tr>\n",
       "    <tr>\n",
       "      <th>Date</th>\n",
       "      <th></th>\n",
       "      <th></th>\n",
       "    </tr>\n",
       "  </thead>\n",
       "  <tbody>\n",
       "    <tr>\n",
       "      <th>2018-08-02</th>\n",
       "      <td>1.0</td>\n",
       "      <td>0.004914</td>\n",
       "    </tr>\n",
       "    <tr>\n",
       "      <th>2018-08-03</th>\n",
       "      <td>1.0</td>\n",
       "      <td>0.004633</td>\n",
       "    </tr>\n",
       "    <tr>\n",
       "      <th>2018-08-06</th>\n",
       "      <td>1.0</td>\n",
       "      <td>0.003532</td>\n",
       "    </tr>\n",
       "    <tr>\n",
       "      <th>2018-08-07</th>\n",
       "      <td>1.0</td>\n",
       "      <td>0.002820</td>\n",
       "    </tr>\n",
       "    <tr>\n",
       "      <th>2018-08-08</th>\n",
       "      <td>1.0</td>\n",
       "      <td>-0.000262</td>\n",
       "    </tr>\n",
       "    <tr>\n",
       "      <th>...</th>\n",
       "      <td>...</td>\n",
       "      <td>...</td>\n",
       "    </tr>\n",
       "    <tr>\n",
       "      <th>2023-08-25</th>\n",
       "      <td>1.0</td>\n",
       "      <td>0.006696</td>\n",
       "    </tr>\n",
       "    <tr>\n",
       "      <th>2023-08-28</th>\n",
       "      <td>1.0</td>\n",
       "      <td>0.006245</td>\n",
       "    </tr>\n",
       "    <tr>\n",
       "      <th>2023-08-29</th>\n",
       "      <td>1.0</td>\n",
       "      <td>0.014404</td>\n",
       "    </tr>\n",
       "    <tr>\n",
       "      <th>2023-08-30</th>\n",
       "      <td>1.0</td>\n",
       "      <td>0.003826</td>\n",
       "    </tr>\n",
       "    <tr>\n",
       "      <th>2023-08-31</th>\n",
       "      <td>1.0</td>\n",
       "      <td>-0.001598</td>\n",
       "    </tr>\n",
       "  </tbody>\n",
       "</table>\n",
       "<p>1279 rows × 2 columns</p>\n",
       "</div>"
      ],
      "text/plain": [
       "            const  Adj Close\n",
       "Date                        \n",
       "2018-08-02    1.0   0.004914\n",
       "2018-08-03    1.0   0.004633\n",
       "2018-08-06    1.0   0.003532\n",
       "2018-08-07    1.0   0.002820\n",
       "2018-08-08    1.0  -0.000262\n",
       "...           ...        ...\n",
       "2023-08-25    1.0   0.006696\n",
       "2023-08-28    1.0   0.006245\n",
       "2023-08-29    1.0   0.014404\n",
       "2023-08-30    1.0   0.003826\n",
       "2023-08-31    1.0  -0.001598\n",
       "\n",
       "[1279 rows x 2 columns]"
      ]
     },
     "execution_count": 104,
     "metadata": {},
     "output_type": "execute_result"
    }
   ],
   "source": [
    "diario_ret_i=sm.add_constant(diario_ret_i )\n",
    "diario_ret_i"
   ]
  },
  {
   "attachments": {},
   "cell_type": "markdown",
   "metadata": {},
   "source": [
    "Realizamos la regresión"
   ]
  },
  {
   "cell_type": "code",
   "execution_count": 105,
   "metadata": {},
   "outputs": [
    {
     "name": "stdout",
     "output_type": "stream",
     "text": [
      "                            OLS Regression Results                            \n",
      "==============================================================================\n",
      "Dep. Variable:                      y   R-squared:                       0.752\n",
      "Model:                            OLS   Adj. R-squared:                  0.752\n",
      "Method:                 Least Squares   F-statistic:                     3881.\n",
      "Date:                Sun, 12 Nov 2023   Prob (F-statistic):               0.00\n",
      "Time:                        11:14:10   Log-Likelihood:                 4169.3\n",
      "No. Observations:                1279   AIC:                            -8335.\n",
      "Df Residuals:                    1277   BIC:                            -8324.\n",
      "Df Model:                           1                                         \n",
      "Covariance Type:            nonrobust                                         \n",
      "==============================================================================\n",
      "                 coef    std err          t      P>|t|      [0.025      0.975]\n",
      "------------------------------------------------------------------------------\n",
      "const          0.0005      0.000      2.102      0.036    3.63e-05       0.001\n",
      "Adj Close      1.1853      0.019     62.300      0.000       1.148       1.223\n",
      "==============================================================================\n",
      "Omnibus:                       90.968   Durbin-Watson:                   1.802\n",
      "Prob(Omnibus):                  0.000   Jarque-Bera (JB):              436.054\n",
      "Skew:                           0.007   Prob(JB):                     2.05e-95\n",
      "Kurtosis:                       5.860   Cond. No.                         73.2\n",
      "==============================================================================\n",
      "\n",
      "Notes:\n",
      "[1] Standard Errors assume that the covariance matrix of the errors is correctly specified.\n"
     ]
    }
   ],
   "source": [
    "capm_model = sm.OLS(rentabilidad_M,diario_ret_i).fit()\n",
    "print(capm_model.summary())"
   ]
  },
  {
   "attachments": {},
   "cell_type": "markdown",
   "metadata": {},
   "source": [
    "Berkshire Hathaway, el grupo inversor de Warren Buffett, le está sacando partido a la subida de los tipos de interés. Ante la falta de oportunidades de inversión que encuentre atractivas, el grupo ha invertido 126.401 millones de dólares, en títulos del Tesoro a corto plazo que ofrecen una rentabilidad de 5,285%.\n",
    "\n",
    "Su cartera de inversión en acciones tiene la siguiente estructura: Apple (AAPL), con 156.800 millones; Bank of America (BAC), con 28.300; American Express (AXP), con 22.600; Coca-Cola (KO), con 22.400, y Chevron (CVX), con 189.600 millones. Para estimar las ponderaciones redondea a dos decimales.\n",
    "\n",
    "Determina la rentabilidad esperada de la cartera."
   ]
  },
  {
   "cell_type": "code",
   "execution_count": 112,
   "metadata": {},
   "outputs": [
    {
     "name": "stdout",
     "output_type": "stream",
     "text": [
      "0.14140523268203675\n"
     ]
    }
   ],
   "source": [
    "BH_s=([0.63,0,0,0.09,0.11,0,0,0.08,0,0,0,0,0,0])\n",
    "rentabilidad_BH_s = np.dot(diario_ret, BH_s)\n",
    "ret_BH_S_m=rentabilidad_M.mean()\n",
    "w=0.66\n",
    "ret_BH=w*ret_BH_S_m+(1-w)*rf\n",
    "print(ret_BH*252)"
   ]
  },
  {
   "attachments": {},
   "cell_type": "markdown",
   "metadata": {},
   "source": [
    "¿La cartera de Berkshire Hathaway es eficiente?"
   ]
  },
  {
   "attachments": {},
   "cell_type": "markdown",
   "metadata": {},
   "source": [
    "Calculamos la volatilidad de la cartera BH_s accciones y luego la resultante tras incorporar el activo libre de riesgo."
   ]
  },
  {
   "cell_type": "code",
   "execution_count": 118,
   "metadata": {},
   "outputs": [
    {
     "data": {
      "text/plain": [
       "0.1753133478639716"
      ]
     },
     "execution_count": 118,
     "metadata": {},
     "output_type": "execute_result"
    }
   ],
   "source": [
    "var_BH_s=np.dot(BH_s, np.dot(cov_mat , BH_s))\n",
    "var_BH=(w**2*var_BH_s)*252\n",
    "vol_BH=np.sqrt(var_BH)\n",
    "vol_BH"
   ]
  },
  {
   "attachments": {},
   "cell_type": "markdown",
   "metadata": {},
   "source": [
    "Determinamos la ponderación que la cartera M debería tener para que la combinación con el activo libre de riesgo nos genere una volatilidad equivalente a la catera BH."
   ]
  },
  {
   "attachments": {},
   "cell_type": "markdown",
   "metadata": {},
   "source": [
    "$$\\begin{aligned}\n",
    "0.175 &=w_M*\\sigma(M)\\\\\n",
    "w_M &=\\frac{0.175}{\\sigma(M)}\n",
    "\\end{aligned}$$"
   ]
  },
  {
   "cell_type": "code",
   "execution_count": 139,
   "metadata": {},
   "outputs": [
    {
     "data": {
      "text/plain": [
       "0.591218274836242"
      ]
     },
     "execution_count": 139,
     "metadata": {},
     "output_type": "execute_result"
    }
   ],
   "source": [
    "wM=vol_BH/port_vol(M)\n",
    "wM"
   ]
  },
  {
   "attachments": {},
   "cell_type": "markdown",
   "metadata": {},
   "source": [
    "Calculamos la rentabilidad de la cartera que combina el 59% de la cartera M y el activo libre de riesgo"
   ]
  },
  {
   "cell_type": "code",
   "execution_count": 140,
   "metadata": {},
   "outputs": [
    {
     "data": {
      "text/plain": [
       "0.16812263684484147"
      ]
     },
     "execution_count": 140,
     "metadata": {},
     "output_type": "execute_result"
    }
   ],
   "source": [
    "R=wM*port_ret(M)+(1-wM)*rf*252\n",
    "R"
   ]
  }
 ],
 "metadata": {
  "kernelspec": {
   "display_name": "Python 3",
   "language": "python",
   "name": "python3"
  },
  "language_info": {
   "codemirror_mode": {
    "name": "ipython",
    "version": 3
   },
   "file_extension": ".py",
   "mimetype": "text/x-python",
   "name": "python",
   "nbconvert_exporter": "python",
   "pygments_lexer": "ipython3",
   "version": "3.9.13"
  },
  "orig_nbformat": 4
 },
 "nbformat": 4,
 "nbformat_minor": 2
}
