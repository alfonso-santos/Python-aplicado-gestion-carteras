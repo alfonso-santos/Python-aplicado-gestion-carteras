{
 "cells": [
  {
   "cell_type": "code",
   "execution_count": 1,
   "metadata": {},
   "outputs": [],
   "source": [
    "import numpy as np\n",
    "import pandas as pd\n",
    "import pandas_market_calendars as mcal\n",
    "import matplotlib.pyplot as plt\n",
    "import seaborn as sns\n",
    "\n",
    "plt.style.use('ggplot')"
   ]
  },
  {
   "cell_type": "markdown",
   "metadata": {},
   "source": [
    "Vamos a generar los precios de dos activos dados por:\n",
    "\n",
    "* valores medios\n",
    "* volatilidades\n",
    "* correlación"
   ]
  },
  {
   "cell_type": "code",
   "execution_count": 2,
   "metadata": {},
   "outputs": [],
   "source": [
    "# Parámetros de los activos\n",
    "med1 = 0.03/252  # Media del primer activo\n",
    "std1 = 0.05/np.sqrt(252)  # Desviación estándar del primer activo\n",
    "\n",
    "med2 = 0.04/252  # Media del segundo activo\n",
    "std2 = 0.06/np.sqrt(252)  # Desviación estándar del segundo activo\n",
    "\n",
    "corr12 = 0.2  # Coeficiente de correlación entre los dos activos"
   ]
  },
  {
   "cell_type": "markdown",
   "metadata": {},
   "source": [
    "Definimos los días de la simulación y, usando el calendario de días hábiles, calculamos los días naturalesde la simulación.\n",
    "\n",
    "Con los días naturales y la fecha inicial, generamos las fechas de la simulación "
   ]
  },
  {
   "cell_type": "code",
   "execution_count": 3,
   "metadata": {},
   "outputs": [],
   "source": [
    "# Número de días y simulaciones\n",
    "num_dias = 5000"
   ]
  },
  {
   "cell_type": "code",
   "execution_count": 4,
   "metadata": {},
   "outputs": [
    {
     "name": "stdout",
     "output_type": "stream",
     "text": [
      "Se necesitan 7269 days 00:00:00 días naturales para obtener 5000 días laborables.\n"
     ]
    }
   ],
   "source": [
    "# Crear un calendario para el mercado de Estados Unidos (por ejemplo, NASDAQ)\n",
    "us_cal = mcal.get_calendar('XNYS')\n",
    "\n",
    "# Definir la fecha de inicio\n",
    "start_date = pd.Timestamp('2020-01-01')\n",
    "\n",
    "# Definir el número de días laborables deseados\n",
    "num_business_days = 5000\n",
    "\n",
    "# Inicializar una variable para contar los días laborables\n",
    "business_days_count = 0\n",
    "\n",
    "# Inicializar la fecha de inicio\n",
    "current_date = start_date\n",
    "\n",
    "# Mientras no se alcance el número deseado de días laborables\n",
    "while business_days_count < num_business_days:\n",
    "    # Verificar si la fecha actual es un día laborable\n",
    "    if us_cal.valid_days(start_date=current_date, end_date=current_date).size > 0:\n",
    "        business_days_count += 1\n",
    "    current_date += pd.DateOffset(days=1)  # Avanzar al siguiente día natural\n",
    "\n",
    "dias_naturales = current_date - start_date\n",
    "\n",
    "# La variable 'current_date' ahora contiene la fecha en la que se alcanzaron los 1000 días laborables\n",
    "print(f\"Se necesitan {dias_naturales} días naturales para obtener {num_business_days} días laborables.\")\n",
    "\n",
    "# Generar un rango de fechas de días hábiles\n",
    "business_days = us_cal.valid_days(start_date=start_date, end_date=start_date + pd.DateOffset(days=dias_naturales.days))\n"
   ]
  },
  {
   "cell_type": "code",
   "execution_count": 5,
   "metadata": {},
   "outputs": [],
   "source": [
    "# Generar retornos diarios\n",
    "np.random.seed(0)  # Fijar la semilla para reproducibilidad\n",
    "\n",
    "# Generamos la matriz de covarianza\n",
    "cov_matrix = np.array([[std1**2, corr12 * std1 * std2],\n",
    "                       [corr12 * std1 * std2, std2**2]])\n",
    "\n",
    "# Generamos los retornos\n",
    "returns = np.random.multivariate_normal([med1, med2], cov_matrix, num_dias)"
   ]
  },
  {
   "cell_type": "code",
   "execution_count": 6,
   "metadata": {},
   "outputs": [
    {
     "data": {
      "text/html": [
       "<div>\n",
       "<style scoped>\n",
       "    .dataframe tbody tr th:only-of-type {\n",
       "        vertical-align: middle;\n",
       "    }\n",
       "\n",
       "    .dataframe tbody tr th {\n",
       "        vertical-align: top;\n",
       "    }\n",
       "\n",
       "    .dataframe thead th {\n",
       "        text-align: right;\n",
       "    }\n",
       "</style>\n",
       "<table border=\"1\" class=\"dataframe\">\n",
       "  <thead>\n",
       "    <tr style=\"text-align: right;\">\n",
       "      <th></th>\n",
       "      <th>Activo 1</th>\n",
       "      <th>Activo 2</th>\n",
       "    </tr>\n",
       "    <tr>\n",
       "      <th>fecha</th>\n",
       "      <th></th>\n",
       "      <th></th>\n",
       "    </tr>\n",
       "  </thead>\n",
       "  <tbody>\n",
       "    <tr>\n",
       "      <th>2020-01-02</th>\n",
       "      <td>0.003992</td>\n",
       "      <td>0.006002</td>\n",
       "    </tr>\n",
       "    <tr>\n",
       "      <th>2020-01-03</th>\n",
       "      <td>0.007772</td>\n",
       "      <td>0.000979</td>\n",
       "    </tr>\n",
       "  </tbody>\n",
       "</table>\n",
       "</div>"
      ],
      "text/plain": [
       "            Activo 1  Activo 2\n",
       "fecha                         \n",
       "2020-01-02  0.003992  0.006002\n",
       "2020-01-03  0.007772  0.000979"
      ]
     },
     "execution_count": 6,
     "metadata": {},
     "output_type": "execute_result"
    }
   ],
   "source": [
    "# Creamos un DataFrame de Pandas con los retornos y las fechas como índice\n",
    "returns_df = pd. DataFrame(returns, columns=['Activo 1', 'Activo 2'], index=business_days)\n",
    "\n",
    "# Convierte el 'DatetimeIndex' en una columna 'fecha' con solo la fecha\n",
    "returns_df['fecha'] = returns_df.index.date\n",
    "\n",
    "# Luego, crea un nuevo 'DatetimeIndex' usando la columna 'fecha'\n",
    "returns_df.index = pd.to_datetime(returns_df['fecha'])\n",
    "\n",
    "# Ahora puedes eliminar la columna 'fecha' si lo deseas\n",
    "returns_df.drop('fecha', axis=1, inplace=True)\n",
    "\n",
    "returns_df.head(2)"
   ]
  },
  {
   "cell_type": "markdown",
   "metadata": {},
   "source": [
    "Comprobamos que los retornos tienen la correlación deseada"
   ]
  },
  {
   "cell_type": "code",
   "execution_count": 7,
   "metadata": {},
   "outputs": [
    {
     "name": "stdout",
     "output_type": "stream",
     "text": [
      " El coeficiente de correlación de los retornos es 0.2027 y el esperado es 0.2\n"
     ]
    }
   ],
   "source": [
    "print(f' El coeficiente de correlación de los retornos es {returns_df.corr().iloc[0, 1]:.4f} y el esperado es {corr12}')"
   ]
  },
  {
   "cell_type": "code",
   "execution_count": 8,
   "metadata": {},
   "outputs": [],
   "source": [
    "df_precios = 1 + returns_df.cumsum()\n",
    "precios_ini = np.array([117, 238])\n",
    "df_precios = precios_ini * df_precios"
   ]
  },
  {
   "cell_type": "code",
   "execution_count": 9,
   "metadata": {},
   "outputs": [
    {
     "data": {
      "image/png": "[encoded data removed]",
      "text/plain": [
       "<Figure size 1200x600 with 1 Axes>"
      ]
     },
     "metadata": {},
     "output_type": "display_data"
    }
   ],
   "source": [
    "#hacemos una gráfica de los precios\n",
    "df_precios.plot(figsize=(12, 6))\n",
    "plt.xlabel('Fecha')\n",
    "plt.ylabel('Precio')\n",
    "plt.title('Precios de los activos')\n",
    "plt.show()\n"
   ]
  },
  {
   "cell_type": "code",
   "execution_count": null,
   "metadata": {},
   "outputs": [],
   "source": []
  },
  {
   "cell_type": "code",
   "execution_count": 11,
   "metadata": {},
   "outputs": [],
   "source": [
    "def genera_retornos(medias, desviaciones, correlaciones, num_dias):\n",
    "    \"\"\"\n",
    "    Genera una matriz de retornos diarios para un conjunto de activos.\n",
    "    :param medias: Vector de medias de los activos\n",
    "    :param desviaciones: Vector de desviaciones estándar de los activos\n",
    "    :param correlaciones: Matriz de correlaciones entre los activos\n",
    "    :param num_dias: Número de días para los que se generarán los retornos\n",
    "    :return: Matriz de retornos diarios\n",
    "    \"\"\"\n",
    "\n",
    "        # Verificar que medias, desviaciones y correlaciones tengan la misma longitud\n",
    "    if len(medias) != len(desviaciones) or len(medias) != len(correlaciones):\n",
    "        raise ValueError(\"Las listas de medias, desviaciones y correlaciones deben tener la misma longitud.\")\n",
    "\n",
    "    # Resto del código para generar los retornos\n",
    "    num_activos = len(medias)\n",
    " \n",
    "    # Generamos la matriz de covarianza\n",
    "    cov_matrix = np.zeros((num_activos, num_activos))\n",
    "    \n",
    "    for i in range(num_activos):\n",
    "        for j in range(num_activos):\n",
    "            cov_matrix[i, j] = desviaciones[i] * desviaciones[j] * correlaciones[i, j]\n",
    "\n",
    "    # Generamos los retornos\n",
    "    returns = np.random.multivariate_normal(medias, cov_matrix, num_dias)\n",
    "\n",
    "    return returns"
   ]
  },
  {
   "cell_type": "code",
   "execution_count": 12,
   "metadata": {},
   "outputs": [
    {
     "ename": "IndexError",
     "evalue": "too many indices for array: array is 1-dimensional, but 2 were indexed",
     "output_type": "error",
     "traceback": [
      "\u001b[0;31m---------------------------------------------------------------------------\u001b[0m",
      "\u001b[0;31mIndexError\u001b[0m                                Traceback (most recent call last)",
      "\u001b[1;32m/home/alfonso/Desktop/universidad/Python-aplicado-gestion-carteras/source/generacion-precios.ipynb Cell 15\u001b[0m line \u001b[0;36m9\n\u001b[1;32m      <a href='vscode-notebook-cell:/home/alfonso/Desktop/universidad/Python-aplicado-gestion-carteras/source/generacion-precios.ipynb#X32sZmlsZQ%3D%3D?line=5'>6</a>\u001b[0m \u001b[39m# Valores de correlación del primer activo con los demás activos (reemplaza con tus valores)\u001b[39;00m\n\u001b[1;32m      <a href='vscode-notebook-cell:/home/alfonso/Desktop/universidad/Python-aplicado-gestion-carteras/source/generacion-precios.ipynb#X32sZmlsZQ%3D%3D?line=6'>7</a>\u001b[0m correlaciones \u001b[39m=\u001b[39m np\u001b[39m.\u001b[39marray([\u001b[39m1.0\u001b[39m, \u001b[39m0.7\u001b[39m, \u001b[39m0.5\u001b[39m, \u001b[39m0.3\u001b[39m, \u001b[39m0.2\u001b[39m])\n\u001b[0;32m----> <a href='vscode-notebook-cell:/home/alfonso/Desktop/universidad/Python-aplicado-gestion-carteras/source/generacion-precios.ipynb#X32sZmlsZQ%3D%3D?line=8'>9</a>\u001b[0m kk \u001b[39m=\u001b[39m genera_retornos(medias, desviaciones, correlaciones, \u001b[39m5000\u001b[39;49m)\n",
      "\u001b[1;32m/home/alfonso/Desktop/universidad/Python-aplicado-gestion-carteras/source/generacion-precios.ipynb Cell 15\u001b[0m line \u001b[0;36m2\n\u001b[1;32m     <a href='vscode-notebook-cell:/home/alfonso/Desktop/universidad/Python-aplicado-gestion-carteras/source/generacion-precios.ipynb#X32sZmlsZQ%3D%3D?line=20'>21</a>\u001b[0m \u001b[39mfor\u001b[39;00m i \u001b[39min\u001b[39;00m \u001b[39mrange\u001b[39m(num_activos):\n\u001b[1;32m     <a href='vscode-notebook-cell:/home/alfonso/Desktop/universidad/Python-aplicado-gestion-carteras/source/generacion-precios.ipynb#X32sZmlsZQ%3D%3D?line=21'>22</a>\u001b[0m     \u001b[39mfor\u001b[39;00m j \u001b[39min\u001b[39;00m \u001b[39mrange\u001b[39m(num_activos):\n\u001b[0;32m---> <a href='vscode-notebook-cell:/home/alfonso/Desktop/universidad/Python-aplicado-gestion-carteras/source/generacion-precios.ipynb#X32sZmlsZQ%3D%3D?line=22'>23</a>\u001b[0m         cov_matrix[i, j] \u001b[39m=\u001b[39m desviaciones[i] \u001b[39m*\u001b[39m desviaciones[j] \u001b[39m*\u001b[39m correlaciones[i, j]\n\u001b[1;32m     <a href='vscode-notebook-cell:/home/alfonso/Desktop/universidad/Python-aplicado-gestion-carteras/source/generacion-precios.ipynb#X32sZmlsZQ%3D%3D?line=24'>25</a>\u001b[0m \u001b[39m# Generamos los retornos\u001b[39;00m\n\u001b[1;32m     <a href='vscode-notebook-cell:/home/alfonso/Desktop/universidad/Python-aplicado-gestion-carteras/source/generacion-precios.ipynb#X32sZmlsZQ%3D%3D?line=25'>26</a>\u001b[0m returns \u001b[39m=\u001b[39m np\u001b[39m.\u001b[39mrandom\u001b[39m.\u001b[39mmultivariate_normal(medias, cov_matrix, num_dias)\n",
      "\u001b[0;31mIndexError\u001b[0m: too many indices for array: array is 1-dimensional, but 2 were indexed"
     ]
    }
   ],
   "source": [
    "medias = np.array([0.03, 0.04, 0.02, 0.001, 0.005]) / 252\n",
    "\n",
    "# Desviaciones estándar de cada activo (reemplaza con tus valores)\n",
    "desviaciones = np.array([0.05, 0.06, 0.04, 0.07, 0.03]) / np.sqrt(252)\n",
    "\n",
    "# Valores de correlación del primer activo con los demás activos (reemplaza con tus valores)\n",
    "correlaciones = np.array([1.0, 0.7, 0.5, 0.3, 0.2])\n",
    "\n",
    "kk = genera_retornos(medias, desviaciones, correlaciones, 5000)"
   ]
  },
  {
   "cell_type": "code",
   "execution_count": 10,
   "metadata": {},
   "outputs": [],
   "source": [
    "num_activos = 3  # Número de activos\n",
    "medias = [0.03, 0.04, 0.02]  # Medias de los activos\n",
    "desviaciones = [0.05, 0.06, 0.04]  # Desviaciones estándar de los activos\n",
    "\n",
    "# Número de días y simulaciones\n",
    "num_dias = 100\n",
    "\n",
    "# Generar retornos diarios\n",
    "np.random.seed(0)  # Fijar la semilla para reproducibilidad\n",
    "\n",
    "# Crear una matriz de correlaciones lineales\n",
    "correlaciones = np.linspace(-1, 1, num_activos)\n",
    "\n",
    "cov_matrix = np.outer(desviaciones, desviaciones)"
   ]
  },
  {
   "cell_type": "code",
   "execution_count": 53,
   "metadata": {},
   "outputs": [],
   "source": [
    "matriz_correlaciones  = np.tile(correlaciones, (3,1))\n",
    "np.fill_diagonal(matriz_correlaciones, 1.0)"
   ]
  },
  {
   "cell_type": "code",
   "execution_count": 58,
   "metadata": {},
   "outputs": [
    {
     "data": {
      "text/plain": [
       "array([1.19047619e-04, 1.58730159e-04, 7.93650794e-05, 3.96825397e-06,\n",
       "       1.98412698e-05])"
      ]
     },
     "execution_count": 58,
     "metadata": {},
     "output_type": "execute_result"
    }
   ],
   "source": [
    "np.array([0.03, 0.04, 0.02, 0.001, 0.005]) / 252"
   ]
  },
  {
   "cell_type": "code",
   "execution_count": 60,
   "metadata": {},
   "outputs": [],
   "source": [
    "# Número de activos\n",
    "n = 5\n",
    "\n",
    "# Número de días\n",
    "num_dias = 1000\n",
    "\n",
    "medias = np.array([0.03, 0.04, 0.02, 0.001, 0.005]) / 252\n",
    "\n",
    "# Desviaciones estándar de cada activo (reemplaza con tus valores)\n",
    "desviaciones = np.array([0.05, 0.06, 0.04, 0.07, 0.03]) / np.sqrt(252)\n",
    "\n",
    "# Valores de correlación del primer activo con los demás activos (reemplaza con tus valores)\n",
    "correlaciones = np.array([1.0, 0.7, 0.5, 0.3, 0.2])\n",
    "\n",
    "# Inicializa una matriz de covarianzas vacía de dimensiones n x n\n",
    "cov_matrix = np.zeros((n, n))\n",
    "\n",
    "# Llena la diagonal principal con las varianzas de cada activo\n",
    "cov_matrix[np.arange(n), np.arange(n)] = desviaciones**2\n",
    "\n",
    "# Llena el resto de la matriz con los productos de desviaciones y correlaciones\n",
    "for i in range(1, n):\n",
    "    for j in range(i):\n",
    "        cov_matrix[i, j] = desviaciones[i] * desviaciones[0] * correlaciones[i]\n",
    "        cov_matrix[j, i] = cov_matrix[i, j]"
   ]
  },
  {
   "cell_type": "code",
   "execution_count": 61,
   "metadata": {},
   "outputs": [],
   "source": [
    "returns = np.random.multivariate_normal(medias, cov_matrix, num_dias)"
   ]
  },
  {
   "cell_type": "code",
   "execution_count": 64,
   "metadata": {},
   "outputs": [],
   "source": [
    "returns_df = pd.DataFrame(returns, columns=['Activo 1', 'Activo 2', 'Activo 3', 'Activo 4', 'Activo 5'])"
   ]
  },
  {
   "cell_type": "code",
   "execution_count": 66,
   "metadata": {},
   "outputs": [
    {
     "data": {
      "text/html": [
       "<div>\n",
       "<style scoped>\n",
       "    .dataframe tbody tr th:only-of-type {\n",
       "        vertical-align: middle;\n",
       "    }\n",
       "\n",
       "    .dataframe tbody tr th {\n",
       "        vertical-align: top;\n",
       "    }\n",
       "\n",
       "    .dataframe thead th {\n",
       "        text-align: right;\n",
       "    }\n",
       "</style>\n",
       "<table border=\"1\" class=\"dataframe\">\n",
       "  <thead>\n",
       "    <tr style=\"text-align: right;\">\n",
       "      <th></th>\n",
       "      <th>Activo 1</th>\n",
       "      <th>Activo 2</th>\n",
       "      <th>Activo 3</th>\n",
       "      <th>Activo 4</th>\n",
       "      <th>Activo 5</th>\n",
       "    </tr>\n",
       "  </thead>\n",
       "  <tbody>\n",
       "    <tr>\n",
       "      <th>Activo 1</th>\n",
       "      <td>1.000000</td>\n",
       "      <td>0.672713</td>\n",
       "      <td>0.462852</td>\n",
       "      <td>0.344699</td>\n",
       "      <td>0.211108</td>\n",
       "    </tr>\n",
       "    <tr>\n",
       "      <th>Activo 2</th>\n",
       "      <td>0.672713</td>\n",
       "      <td>1.000000</td>\n",
       "      <td>0.380485</td>\n",
       "      <td>0.297386</td>\n",
       "      <td>0.182776</td>\n",
       "    </tr>\n",
       "    <tr>\n",
       "      <th>Activo 3</th>\n",
       "      <td>0.462852</td>\n",
       "      <td>0.380485</td>\n",
       "      <td>1.000000</td>\n",
       "      <td>0.404296</td>\n",
       "      <td>0.284698</td>\n",
       "    </tr>\n",
       "    <tr>\n",
       "      <th>Activo 4</th>\n",
       "      <td>0.344699</td>\n",
       "      <td>0.297386</td>\n",
       "      <td>0.404296</td>\n",
       "      <td>1.000000</td>\n",
       "      <td>0.191424</td>\n",
       "    </tr>\n",
       "    <tr>\n",
       "      <th>Activo 5</th>\n",
       "      <td>0.211108</td>\n",
       "      <td>0.182776</td>\n",
       "      <td>0.284698</td>\n",
       "      <td>0.191424</td>\n",
       "      <td>1.000000</td>\n",
       "    </tr>\n",
       "  </tbody>\n",
       "</table>\n",
       "</div>"
      ],
      "text/plain": [
       "          Activo 1  Activo 2  Activo 3  Activo 4  Activo 5\n",
       "Activo 1  1.000000  0.672713  0.462852  0.344699  0.211108\n",
       "Activo 2  0.672713  1.000000  0.380485  0.297386  0.182776\n",
       "Activo 3  0.462852  0.380485  1.000000  0.404296  0.284698\n",
       "Activo 4  0.344699  0.297386  0.404296  1.000000  0.191424\n",
       "Activo 5  0.211108  0.182776  0.284698  0.191424  1.000000"
      ]
     },
     "execution_count": 66,
     "metadata": {},
     "output_type": "execute_result"
    }
   ],
   "source": [
    "returns_df.corr()"
   ]
  },
  {
   "cell_type": "code",
   "execution_count": 43,
   "metadata": {},
   "outputs": [
    {
     "ename": "ValueError",
     "evalue": "array must be at least 2-d",
     "output_type": "error",
     "traceback": [
      "\u001b[0;31m---------------------------------------------------------------------------\u001b[0m",
      "\u001b[0;31mValueError\u001b[0m                                Traceback (most recent call last)",
      "\u001b[1;32mUntitled-2.ipynb Cell 8\u001b[0m line \u001b[0;36m1\n\u001b[1;32m     <a href='vscode-notebook-cell:Untitled-2.ipynb?jupyter-notebook#X13sdW50aXRsZWQ%3D?line=12'>13</a>\u001b[0m \u001b[39m# Crear una matriz de correlaciones lineales\u001b[39;00m\n\u001b[1;32m     <a href='vscode-notebook-cell:Untitled-2.ipynb?jupyter-notebook#X13sdW50aXRsZWQ%3D?line=13'>14</a>\u001b[0m correlaciones \u001b[39m=\u001b[39m np\u001b[39m.\u001b[39mlinspace(\u001b[39m-\u001b[39m\u001b[39m1\u001b[39m, \u001b[39m1\u001b[39m, num_activos)\n\u001b[0;32m---> <a href='vscode-notebook-cell:Untitled-2.ipynb?jupyter-notebook#X13sdW50aXRsZWQ%3D?line=14'>15</a>\u001b[0m np\u001b[39m.\u001b[39;49mfill_diagonal(correlaciones, \u001b[39m1.0\u001b[39;49m)  \u001b[39m# Establecer las correlaciones de cada activo consigo mismo en 1\u001b[39;00m\n\u001b[1;32m     <a href='vscode-notebook-cell:Untitled-2.ipynb?jupyter-notebook#X13sdW50aXRsZWQ%3D?line=16'>17</a>\u001b[0m \u001b[39m# Crear una matriz de covarianza a partir de las correlaciones y desviaciones estándar\u001b[39;00m\n\u001b[1;32m     <a href='vscode-notebook-cell:Untitled-2.ipynb?jupyter-notebook#X13sdW50aXRsZWQ%3D?line=17'>18</a>\u001b[0m cov_matrix \u001b[39m=\u001b[39m np\u001b[39m.\u001b[39mouter(desviaciones, desviaciones) \u001b[39m*\u001b[39m correlaciones\n",
      "File \u001b[0;32m~/Desktop/universidad/Python-aplicado-gestion-carteras/venv/lib/python3.11/site-packages/numpy/lib/index_tricks.py:899\u001b[0m, in \u001b[0;36mfill_diagonal\u001b[0;34m(a, val, wrap)\u001b[0m\n\u001b[1;32m    787\u001b[0m \u001b[39m\u001b[39m\u001b[39m\"\"\"Fill the main diagonal of the given array of any dimensionality.\u001b[39;00m\n\u001b[1;32m    788\u001b[0m \n\u001b[1;32m    789\u001b[0m \u001b[39mFor an array `a` with ``a.ndim >= 2``, the diagonal is the list of\u001b[39;00m\n\u001b[0;32m   (...)\u001b[0m\n\u001b[1;32m    896\u001b[0m \u001b[39mon the flip function.\u001b[39;00m\n\u001b[1;32m    897\u001b[0m \u001b[39m\"\"\"\u001b[39;00m\n\u001b[1;32m    898\u001b[0m \u001b[39mif\u001b[39;00m a\u001b[39m.\u001b[39mndim \u001b[39m<\u001b[39m \u001b[39m2\u001b[39m:\n\u001b[0;32m--> 899\u001b[0m     \u001b[39mraise\u001b[39;00m \u001b[39mValueError\u001b[39;00m(\u001b[39m\"\u001b[39m\u001b[39marray must be at least 2-d\u001b[39m\u001b[39m\"\u001b[39m)\n\u001b[1;32m    900\u001b[0m end \u001b[39m=\u001b[39m \u001b[39mNone\u001b[39;00m\n\u001b[1;32m    901\u001b[0m \u001b[39mif\u001b[39;00m a\u001b[39m.\u001b[39mndim \u001b[39m==\u001b[39m \u001b[39m2\u001b[39m:\n\u001b[1;32m    902\u001b[0m     \u001b[39m# Explicit, fast formula for the common case.  For 2-d arrays, we\u001b[39;00m\n\u001b[1;32m    903\u001b[0m     \u001b[39m# accept rectangular ones.\u001b[39;00m\n",
      "\u001b[0;31mValueError\u001b[0m: array must be at least 2-d"
     ]
    }
   ],
   "source": [
    "# Parámetros de los activos\n",
    "num_activos = 10  # Número de activos\n",
    "medias = [0.03, 0.04, 0.02, 0.05, 0.01, 0.03, 0.02, 0.04, 0.02, 0.03]  # Medias de los activos\n",
    "desviaciones = [0.05, 0.06, 0.04, 0.07, 0.03, 0.05, 0.04, 0.06, 0.04, 0.05]  # Desviaciones estándar de los activos\n",
    "\n",
    "# Número de días y simulaciones\n",
    "num_dias = 100\n",
    "num_simulaciones = 1000\n",
    "\n",
    "# Generar retornos diarios\n",
    "np.random.seed(0)  # Fijar la semilla para reproducibilidad\n",
    "\n",
    "# Crear una matriz de correlaciones lineales\n",
    "correlaciones = np.linspace(-1, 1, num_activos)\n",
    "np.fill_diagonal(correlaciones, 1.0)  # Establecer las correlaciones de cada activo consigo mismo en 1\n",
    "\n",
    "# Crear una matriz de covarianza a partir de las correlaciones y desviaciones estándar\n",
    "cov_matrix = np.outer(desviaciones, desviaciones) * correlaciones\n",
    "\n",
    "returns = np.random.multivariate_normal(medias, cov_matrix, num_dias)"
   ]
  }
 ],
 "metadata": {
  "kernelspec": {
   "display_name": "venv",
   "language": "python",
   "name": "python3"
  },
  "language_info": {
   "codemirror_mode": {
    "name": "ipython",
    "version": 3
   },
   "file_extension": ".py",
   "mimetype": "text/x-python",
   "name": "python",
   "nbconvert_exporter": "python",
   "pygments_lexer": "ipython3",
   "version": "3.11.5"
  }
 },
 "nbformat": 4,
 "nbformat_minor": 2
}
